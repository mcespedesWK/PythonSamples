{
 "cells": [
  {
   "cell_type": "markdown",
   "id": "240a829b",
   "metadata": {},
   "source": [
    "# Importamos nuestras dependencias"
   ]
  },
  {
   "cell_type": "code",
   "execution_count": 1,
   "id": "7b90ffd3",
   "metadata": {},
   "outputs": [],
   "source": [
    "# Principales dependencias\n",
    "import pandas as pd\n",
    "import numpy as np\n",
    "import matplotlib.pyplot as plt\n",
    "import seaborn as sns"
   ]
  },
  {
   "cell_type": "markdown",
   "id": "aef9ab2d",
   "metadata": {},
   "source": [
    "# Tratamos de entender el problema"
   ]
  },
  {
   "cell_type": "markdown",
   "id": "e89e174e",
   "metadata": {},
   "source": [
    "### Obtenemos los datso del dataset"
   ]
  },
  {
   "cell_type": "code",
   "execution_count": 2,
   "id": "02472bfb",
   "metadata": {},
   "outputs": [],
   "source": [
    "# Lo primero es importar el dataset.\n",
    "# Como ahora tenemos 3 hay que recordar como funciona\n",
    "# TRAIN viene siendo lo que era el IRIS dataset\n",
    "# Lo dividimos en train y test\n",
    "# Dentro de la porcion de test incluimos el dataset TEST que tendrá todas las columnas excepto Survived (Y predecida)\n",
    "# Realizaremos las predicciones y completamos la columna Survived dentro del archivo TEST\n",
    "# Esta informacion la utilizamos para finalmente trabajar con el dataset GENDER SBMITION \n",
    "# Realizamos la prediccion de los sobrevivientes por sexo.\n",
    "\n",
    "df = pd.read_csv('datasets/train.csv')"
   ]
  },
  {
   "cell_type": "code",
   "execution_count": 3,
   "id": "aad7925d",
   "metadata": {},
   "outputs": [
    {
     "data": {
      "text/html": [
       "<div>\n",
       "<style scoped>\n",
       "    .dataframe tbody tr th:only-of-type {\n",
       "        vertical-align: middle;\n",
       "    }\n",
       "\n",
       "    .dataframe tbody tr th {\n",
       "        vertical-align: top;\n",
       "    }\n",
       "\n",
       "    .dataframe thead th {\n",
       "        text-align: right;\n",
       "    }\n",
       "</style>\n",
       "<table border=\"1\" class=\"dataframe\">\n",
       "  <thead>\n",
       "    <tr style=\"text-align: right;\">\n",
       "      <th></th>\n",
       "      <th>PassengerId</th>\n",
       "      <th>Survived</th>\n",
       "      <th>Pclass</th>\n",
       "      <th>Name</th>\n",
       "      <th>Sex</th>\n",
       "      <th>Age</th>\n",
       "      <th>SibSp</th>\n",
       "      <th>Parch</th>\n",
       "      <th>Ticket</th>\n",
       "      <th>Fare</th>\n",
       "      <th>Cabin</th>\n",
       "      <th>Embarked</th>\n",
       "    </tr>\n",
       "  </thead>\n",
       "  <tbody>\n",
       "    <tr>\n",
       "      <th>0</th>\n",
       "      <td>1</td>\n",
       "      <td>0</td>\n",
       "      <td>3</td>\n",
       "      <td>Braund, Mr. Owen Harris</td>\n",
       "      <td>male</td>\n",
       "      <td>22.0</td>\n",
       "      <td>1</td>\n",
       "      <td>0</td>\n",
       "      <td>A/5 21171</td>\n",
       "      <td>7.2500</td>\n",
       "      <td>NaN</td>\n",
       "      <td>S</td>\n",
       "    </tr>\n",
       "    <tr>\n",
       "      <th>1</th>\n",
       "      <td>2</td>\n",
       "      <td>1</td>\n",
       "      <td>1</td>\n",
       "      <td>Cumings, Mrs. John Bradley (Florence Briggs Th...</td>\n",
       "      <td>female</td>\n",
       "      <td>38.0</td>\n",
       "      <td>1</td>\n",
       "      <td>0</td>\n",
       "      <td>PC 17599</td>\n",
       "      <td>71.2833</td>\n",
       "      <td>C85</td>\n",
       "      <td>C</td>\n",
       "    </tr>\n",
       "    <tr>\n",
       "      <th>2</th>\n",
       "      <td>3</td>\n",
       "      <td>1</td>\n",
       "      <td>3</td>\n",
       "      <td>Heikkinen, Miss. Laina</td>\n",
       "      <td>female</td>\n",
       "      <td>26.0</td>\n",
       "      <td>0</td>\n",
       "      <td>0</td>\n",
       "      <td>STON/O2. 3101282</td>\n",
       "      <td>7.9250</td>\n",
       "      <td>NaN</td>\n",
       "      <td>S</td>\n",
       "    </tr>\n",
       "    <tr>\n",
       "      <th>3</th>\n",
       "      <td>4</td>\n",
       "      <td>1</td>\n",
       "      <td>1</td>\n",
       "      <td>Futrelle, Mrs. Jacques Heath (Lily May Peel)</td>\n",
       "      <td>female</td>\n",
       "      <td>35.0</td>\n",
       "      <td>1</td>\n",
       "      <td>0</td>\n",
       "      <td>113803</td>\n",
       "      <td>53.1000</td>\n",
       "      <td>C123</td>\n",
       "      <td>S</td>\n",
       "    </tr>\n",
       "    <tr>\n",
       "      <th>4</th>\n",
       "      <td>5</td>\n",
       "      <td>0</td>\n",
       "      <td>3</td>\n",
       "      <td>Allen, Mr. William Henry</td>\n",
       "      <td>male</td>\n",
       "      <td>35.0</td>\n",
       "      <td>0</td>\n",
       "      <td>0</td>\n",
       "      <td>373450</td>\n",
       "      <td>8.0500</td>\n",
       "      <td>NaN</td>\n",
       "      <td>S</td>\n",
       "    </tr>\n",
       "  </tbody>\n",
       "</table>\n",
       "</div>"
      ],
      "text/plain": [
       "   PassengerId  Survived  Pclass  \\\n",
       "0            1         0       3   \n",
       "1            2         1       1   \n",
       "2            3         1       3   \n",
       "3            4         1       1   \n",
       "4            5         0       3   \n",
       "\n",
       "                                                Name     Sex   Age  SibSp  \\\n",
       "0                            Braund, Mr. Owen Harris    male  22.0      1   \n",
       "1  Cumings, Mrs. John Bradley (Florence Briggs Th...  female  38.0      1   \n",
       "2                             Heikkinen, Miss. Laina  female  26.0      0   \n",
       "3       Futrelle, Mrs. Jacques Heath (Lily May Peel)  female  35.0      1   \n",
       "4                           Allen, Mr. William Henry    male  35.0      0   \n",
       "\n",
       "   Parch            Ticket     Fare Cabin Embarked  \n",
       "0      0         A/5 21171   7.2500   NaN        S  \n",
       "1      0          PC 17599  71.2833   C85        C  \n",
       "2      0  STON/O2. 3101282   7.9250   NaN        S  \n",
       "3      0            113803  53.1000  C123        S  \n",
       "4      0            373450   8.0500   NaN        S  "
      ]
     },
     "execution_count": 3,
     "metadata": {},
     "output_type": "execute_result"
    }
   ],
   "source": [
    "df.head()"
   ]
  },
  {
   "cell_type": "markdown",
   "id": "0aaed0b9",
   "metadata": {},
   "source": [
    "#### Borro columna PassegerID"
   ]
  },
  {
   "cell_type": "code",
   "execution_count": 4,
   "id": "87fc7a0b",
   "metadata": {},
   "outputs": [],
   "source": [
    "# Esta columna la borro porque no aporta nada a la prediccion\n",
    "# Mencionno el nombre de la columna como parámetro y axis=1\n",
    "df = df.drop('PassengerId', axis = 1)"
   ]
  },
  {
   "cell_type": "markdown",
   "id": "44d4bfdd",
   "metadata": {},
   "source": [
    "# Exploratory Data analysis (EDA)"
   ]
  },
  {
   "cell_type": "code",
   "execution_count": 5,
   "id": "f5d879e1",
   "metadata": {},
   "outputs": [],
   "source": [
    "# Esta es una parte muy importante del trabajo, saber que es la data que estaremos manejando\n",
    "# Es bueno dediccar tiempo a entender si nos faltan muchos datos para decidir que columnas aportan a la prediccion."
   ]
  },
  {
   "cell_type": "code",
   "execution_count": 6,
   "id": "ad264a30",
   "metadata": {},
   "outputs": [
    {
     "data": {
      "text/html": [
       "<div>\n",
       "<style scoped>\n",
       "    .dataframe tbody tr th:only-of-type {\n",
       "        vertical-align: middle;\n",
       "    }\n",
       "\n",
       "    .dataframe tbody tr th {\n",
       "        vertical-align: top;\n",
       "    }\n",
       "\n",
       "    .dataframe thead th {\n",
       "        text-align: right;\n",
       "    }\n",
       "</style>\n",
       "<table border=\"1\" class=\"dataframe\">\n",
       "  <thead>\n",
       "    <tr style=\"text-align: right;\">\n",
       "      <th></th>\n",
       "      <th>Survived</th>\n",
       "      <th>Pclass</th>\n",
       "      <th>Name</th>\n",
       "      <th>Sex</th>\n",
       "      <th>Age</th>\n",
       "      <th>SibSp</th>\n",
       "      <th>Parch</th>\n",
       "      <th>Ticket</th>\n",
       "      <th>Fare</th>\n",
       "      <th>Cabin</th>\n",
       "      <th>Embarked</th>\n",
       "    </tr>\n",
       "  </thead>\n",
       "  <tbody>\n",
       "    <tr>\n",
       "      <th>0</th>\n",
       "      <td>0</td>\n",
       "      <td>3</td>\n",
       "      <td>Braund, Mr. Owen Harris</td>\n",
       "      <td>male</td>\n",
       "      <td>22.0</td>\n",
       "      <td>1</td>\n",
       "      <td>0</td>\n",
       "      <td>A/5 21171</td>\n",
       "      <td>7.2500</td>\n",
       "      <td>NaN</td>\n",
       "      <td>S</td>\n",
       "    </tr>\n",
       "    <tr>\n",
       "      <th>1</th>\n",
       "      <td>1</td>\n",
       "      <td>1</td>\n",
       "      <td>Cumings, Mrs. John Bradley (Florence Briggs Th...</td>\n",
       "      <td>female</td>\n",
       "      <td>38.0</td>\n",
       "      <td>1</td>\n",
       "      <td>0</td>\n",
       "      <td>PC 17599</td>\n",
       "      <td>71.2833</td>\n",
       "      <td>C85</td>\n",
       "      <td>C</td>\n",
       "    </tr>\n",
       "    <tr>\n",
       "      <th>2</th>\n",
       "      <td>1</td>\n",
       "      <td>3</td>\n",
       "      <td>Heikkinen, Miss. Laina</td>\n",
       "      <td>female</td>\n",
       "      <td>26.0</td>\n",
       "      <td>0</td>\n",
       "      <td>0</td>\n",
       "      <td>STON/O2. 3101282</td>\n",
       "      <td>7.9250</td>\n",
       "      <td>NaN</td>\n",
       "      <td>S</td>\n",
       "    </tr>\n",
       "    <tr>\n",
       "      <th>3</th>\n",
       "      <td>1</td>\n",
       "      <td>1</td>\n",
       "      <td>Futrelle, Mrs. Jacques Heath (Lily May Peel)</td>\n",
       "      <td>female</td>\n",
       "      <td>35.0</td>\n",
       "      <td>1</td>\n",
       "      <td>0</td>\n",
       "      <td>113803</td>\n",
       "      <td>53.1000</td>\n",
       "      <td>C123</td>\n",
       "      <td>S</td>\n",
       "    </tr>\n",
       "    <tr>\n",
       "      <th>4</th>\n",
       "      <td>0</td>\n",
       "      <td>3</td>\n",
       "      <td>Allen, Mr. William Henry</td>\n",
       "      <td>male</td>\n",
       "      <td>35.0</td>\n",
       "      <td>0</td>\n",
       "      <td>0</td>\n",
       "      <td>373450</td>\n",
       "      <td>8.0500</td>\n",
       "      <td>NaN</td>\n",
       "      <td>S</td>\n",
       "    </tr>\n",
       "  </tbody>\n",
       "</table>\n",
       "</div>"
      ],
      "text/plain": [
       "   Survived  Pclass                                               Name  \\\n",
       "0         0       3                            Braund, Mr. Owen Harris   \n",
       "1         1       1  Cumings, Mrs. John Bradley (Florence Briggs Th...   \n",
       "2         1       3                             Heikkinen, Miss. Laina   \n",
       "3         1       1       Futrelle, Mrs. Jacques Heath (Lily May Peel)   \n",
       "4         0       3                           Allen, Mr. William Henry   \n",
       "\n",
       "      Sex   Age  SibSp  Parch            Ticket     Fare Cabin Embarked  \n",
       "0    male  22.0      1      0         A/5 21171   7.2500   NaN        S  \n",
       "1  female  38.0      1      0          PC 17599  71.2833   C85        C  \n",
       "2  female  26.0      0      0  STON/O2. 3101282   7.9250   NaN        S  \n",
       "3  female  35.0      1      0            113803  53.1000  C123        S  \n",
       "4    male  35.0      0      0            373450   8.0500   NaN        S  "
      ]
     },
     "execution_count": 6,
     "metadata": {},
     "output_type": "execute_result"
    }
   ],
   "source": [
    "df.head()"
   ]
  },
  {
   "cell_type": "code",
   "execution_count": 7,
   "id": "23f9d00f",
   "metadata": {},
   "outputs": [
    {
     "data": {
      "text/html": [
       "<div>\n",
       "<style scoped>\n",
       "    .dataframe tbody tr th:only-of-type {\n",
       "        vertical-align: middle;\n",
       "    }\n",
       "\n",
       "    .dataframe tbody tr th {\n",
       "        vertical-align: top;\n",
       "    }\n",
       "\n",
       "    .dataframe thead th {\n",
       "        text-align: right;\n",
       "    }\n",
       "</style>\n",
       "<table border=\"1\" class=\"dataframe\">\n",
       "  <thead>\n",
       "    <tr style=\"text-align: right;\">\n",
       "      <th></th>\n",
       "      <th>Survived</th>\n",
       "      <th>Pclass</th>\n",
       "      <th>Name</th>\n",
       "      <th>Sex</th>\n",
       "      <th>Age</th>\n",
       "      <th>SibSp</th>\n",
       "      <th>Parch</th>\n",
       "      <th>Ticket</th>\n",
       "      <th>Fare</th>\n",
       "      <th>Cabin</th>\n",
       "      <th>Embarked</th>\n",
       "    </tr>\n",
       "  </thead>\n",
       "  <tbody>\n",
       "    <tr>\n",
       "      <th>886</th>\n",
       "      <td>0</td>\n",
       "      <td>2</td>\n",
       "      <td>Montvila, Rev. Juozas</td>\n",
       "      <td>male</td>\n",
       "      <td>27.0</td>\n",
       "      <td>0</td>\n",
       "      <td>0</td>\n",
       "      <td>211536</td>\n",
       "      <td>13.00</td>\n",
       "      <td>NaN</td>\n",
       "      <td>S</td>\n",
       "    </tr>\n",
       "    <tr>\n",
       "      <th>887</th>\n",
       "      <td>1</td>\n",
       "      <td>1</td>\n",
       "      <td>Graham, Miss. Margaret Edith</td>\n",
       "      <td>female</td>\n",
       "      <td>19.0</td>\n",
       "      <td>0</td>\n",
       "      <td>0</td>\n",
       "      <td>112053</td>\n",
       "      <td>30.00</td>\n",
       "      <td>B42</td>\n",
       "      <td>S</td>\n",
       "    </tr>\n",
       "    <tr>\n",
       "      <th>888</th>\n",
       "      <td>0</td>\n",
       "      <td>3</td>\n",
       "      <td>Johnston, Miss. Catherine Helen \"Carrie\"</td>\n",
       "      <td>female</td>\n",
       "      <td>NaN</td>\n",
       "      <td>1</td>\n",
       "      <td>2</td>\n",
       "      <td>W./C. 6607</td>\n",
       "      <td>23.45</td>\n",
       "      <td>NaN</td>\n",
       "      <td>S</td>\n",
       "    </tr>\n",
       "    <tr>\n",
       "      <th>889</th>\n",
       "      <td>1</td>\n",
       "      <td>1</td>\n",
       "      <td>Behr, Mr. Karl Howell</td>\n",
       "      <td>male</td>\n",
       "      <td>26.0</td>\n",
       "      <td>0</td>\n",
       "      <td>0</td>\n",
       "      <td>111369</td>\n",
       "      <td>30.00</td>\n",
       "      <td>C148</td>\n",
       "      <td>C</td>\n",
       "    </tr>\n",
       "    <tr>\n",
       "      <th>890</th>\n",
       "      <td>0</td>\n",
       "      <td>3</td>\n",
       "      <td>Dooley, Mr. Patrick</td>\n",
       "      <td>male</td>\n",
       "      <td>32.0</td>\n",
       "      <td>0</td>\n",
       "      <td>0</td>\n",
       "      <td>370376</td>\n",
       "      <td>7.75</td>\n",
       "      <td>NaN</td>\n",
       "      <td>Q</td>\n",
       "    </tr>\n",
       "  </tbody>\n",
       "</table>\n",
       "</div>"
      ],
      "text/plain": [
       "     Survived  Pclass                                      Name     Sex   Age  \\\n",
       "886         0       2                     Montvila, Rev. Juozas    male  27.0   \n",
       "887         1       1              Graham, Miss. Margaret Edith  female  19.0   \n",
       "888         0       3  Johnston, Miss. Catherine Helen \"Carrie\"  female   NaN   \n",
       "889         1       1                     Behr, Mr. Karl Howell    male  26.0   \n",
       "890         0       3                       Dooley, Mr. Patrick    male  32.0   \n",
       "\n",
       "     SibSp  Parch      Ticket   Fare Cabin Embarked  \n",
       "886      0      0      211536  13.00   NaN        S  \n",
       "887      0      0      112053  30.00   B42        S  \n",
       "888      1      2  W./C. 6607  23.45   NaN        S  \n",
       "889      0      0      111369  30.00  C148        C  \n",
       "890      0      0      370376   7.75   NaN        Q  "
      ]
     },
     "execution_count": 7,
     "metadata": {},
     "output_type": "execute_result"
    }
   ],
   "source": [
    "# Seguimos simplemente obserbando la data, conociendola para ver sifaltan muchos campos de  alguna colunma, el tipo de datos...\n",
    "df.tail()"
   ]
  },
  {
   "cell_type": "code",
   "execution_count": 8,
   "id": "591d7e07",
   "metadata": {},
   "outputs": [
    {
     "data": {
      "text/plain": [
       "891"
      ]
     },
     "execution_count": 8,
     "metadata": {},
     "output_type": "execute_result"
    }
   ],
   "source": [
    "len(df)"
   ]
  },
  {
   "cell_type": "code",
   "execution_count": 9,
   "id": "f137da88",
   "metadata": {},
   "outputs": [
    {
     "data": {
      "text/plain": [
       "(891, 11)"
      ]
     },
     "execution_count": 9,
     "metadata": {},
     "output_type": "execute_result"
    }
   ],
   "source": [
    "df.shape"
   ]
  },
  {
   "cell_type": "code",
   "execution_count": 10,
   "id": "04fb54e4",
   "metadata": {},
   "outputs": [
    {
     "data": {
      "text/html": [
       "<div>\n",
       "<style scoped>\n",
       "    .dataframe tbody tr th:only-of-type {\n",
       "        vertical-align: middle;\n",
       "    }\n",
       "\n",
       "    .dataframe tbody tr th {\n",
       "        vertical-align: top;\n",
       "    }\n",
       "\n",
       "    .dataframe thead th {\n",
       "        text-align: right;\n",
       "    }\n",
       "</style>\n",
       "<table border=\"1\" class=\"dataframe\">\n",
       "  <thead>\n",
       "    <tr style=\"text-align: right;\">\n",
       "      <th></th>\n",
       "      <th>Survived</th>\n",
       "      <th>Pclass</th>\n",
       "      <th>Age</th>\n",
       "      <th>SibSp</th>\n",
       "      <th>Parch</th>\n",
       "      <th>Fare</th>\n",
       "    </tr>\n",
       "  </thead>\n",
       "  <tbody>\n",
       "    <tr>\n",
       "      <th>count</th>\n",
       "      <td>891.000000</td>\n",
       "      <td>891.000000</td>\n",
       "      <td>714.000000</td>\n",
       "      <td>891.000000</td>\n",
       "      <td>891.000000</td>\n",
       "      <td>891.000000</td>\n",
       "    </tr>\n",
       "    <tr>\n",
       "      <th>mean</th>\n",
       "      <td>0.383838</td>\n",
       "      <td>2.308642</td>\n",
       "      <td>29.699118</td>\n",
       "      <td>0.523008</td>\n",
       "      <td>0.381594</td>\n",
       "      <td>32.204208</td>\n",
       "    </tr>\n",
       "    <tr>\n",
       "      <th>std</th>\n",
       "      <td>0.486592</td>\n",
       "      <td>0.836071</td>\n",
       "      <td>14.526497</td>\n",
       "      <td>1.102743</td>\n",
       "      <td>0.806057</td>\n",
       "      <td>49.693429</td>\n",
       "    </tr>\n",
       "    <tr>\n",
       "      <th>min</th>\n",
       "      <td>0.000000</td>\n",
       "      <td>1.000000</td>\n",
       "      <td>0.420000</td>\n",
       "      <td>0.000000</td>\n",
       "      <td>0.000000</td>\n",
       "      <td>0.000000</td>\n",
       "    </tr>\n",
       "    <tr>\n",
       "      <th>25%</th>\n",
       "      <td>0.000000</td>\n",
       "      <td>2.000000</td>\n",
       "      <td>20.125000</td>\n",
       "      <td>0.000000</td>\n",
       "      <td>0.000000</td>\n",
       "      <td>7.910400</td>\n",
       "    </tr>\n",
       "    <tr>\n",
       "      <th>50%</th>\n",
       "      <td>0.000000</td>\n",
       "      <td>3.000000</td>\n",
       "      <td>28.000000</td>\n",
       "      <td>0.000000</td>\n",
       "      <td>0.000000</td>\n",
       "      <td>14.454200</td>\n",
       "    </tr>\n",
       "    <tr>\n",
       "      <th>75%</th>\n",
       "      <td>1.000000</td>\n",
       "      <td>3.000000</td>\n",
       "      <td>38.000000</td>\n",
       "      <td>1.000000</td>\n",
       "      <td>0.000000</td>\n",
       "      <td>31.000000</td>\n",
       "    </tr>\n",
       "    <tr>\n",
       "      <th>max</th>\n",
       "      <td>1.000000</td>\n",
       "      <td>3.000000</td>\n",
       "      <td>80.000000</td>\n",
       "      <td>8.000000</td>\n",
       "      <td>6.000000</td>\n",
       "      <td>512.329200</td>\n",
       "    </tr>\n",
       "  </tbody>\n",
       "</table>\n",
       "</div>"
      ],
      "text/plain": [
       "         Survived      Pclass         Age       SibSp       Parch        Fare\n",
       "count  891.000000  891.000000  714.000000  891.000000  891.000000  891.000000\n",
       "mean     0.383838    2.308642   29.699118    0.523008    0.381594   32.204208\n",
       "std      0.486592    0.836071   14.526497    1.102743    0.806057   49.693429\n",
       "min      0.000000    1.000000    0.420000    0.000000    0.000000    0.000000\n",
       "25%      0.000000    2.000000   20.125000    0.000000    0.000000    7.910400\n",
       "50%      0.000000    3.000000   28.000000    0.000000    0.000000   14.454200\n",
       "75%      1.000000    3.000000   38.000000    1.000000    0.000000   31.000000\n",
       "max      1.000000    3.000000   80.000000    8.000000    6.000000  512.329200"
      ]
     },
     "execution_count": 10,
     "metadata": {},
     "output_type": "execute_result"
    }
   ],
   "source": [
    "# Aqui podemos poner cuantas columnas deseamos que se cuenten o si queremos el 'describe' de todas\n",
    "df.describe()"
   ]
  },
  {
   "cell_type": "markdown",
   "id": "7d2e3ca1",
   "metadata": {},
   "source": [
    "##### Podemos concluir que faltan muchas valores en algunas de las columnas"
   ]
  },
  {
   "cell_type": "code",
   "execution_count": null,
   "id": "407eccba",
   "metadata": {},
   "outputs": [],
   "source": []
  },
  {
   "cell_type": "code",
   "execution_count": 11,
   "id": "e90aa6b4",
   "metadata": {},
   "outputs": [
    {
     "data": {
      "text/plain": [
       "Survived      0\n",
       "Pclass        0\n",
       "Name          0\n",
       "Sex           0\n",
       "Age         177\n",
       "SibSp         0\n",
       "Parch         0\n",
       "Ticket        0\n",
       "Fare          0\n",
       "Cabin       687\n",
       "Embarked      2\n",
       "dtype: int64"
      ]
     },
     "execution_count": 11,
     "metadata": {},
     "output_type": "execute_result"
    }
   ],
   "source": [
    "# Aqui podemos ver cuantas columnas tienen valores que faltan\n",
    "df.isnull().sum()"
   ]
  },
  {
   "cell_type": "code",
   "execution_count": 12,
   "id": "18c37cf8",
   "metadata": {},
   "outputs": [],
   "source": [
    "# Con estos datos podemos ver que es mejor quitar CABIN porque faltan muchos datos\n",
    "# AGE podemos poner los valores de media \n",
    "# EMBARKED solo faltan 2 y podemos poner los valores que más se repiten."
   ]
  },
  {
   "cell_type": "code",
   "execution_count": 13,
   "id": "30cf00c9",
   "metadata": {},
   "outputs": [
    {
     "data": {
      "text/plain": [
       "B96 B98        4\n",
       "G6             4\n",
       "C23 C25 C27    4\n",
       "C22 C26        3\n",
       "F33            3\n",
       "              ..\n",
       "E34            1\n",
       "C7             1\n",
       "C54            1\n",
       "E36            1\n",
       "C148           1\n",
       "Name: Cabin, Length: 147, dtype: int64"
      ]
     },
     "execution_count": 13,
     "metadata": {},
     "output_type": "execute_result"
    }
   ],
   "source": [
    "# Para saber cuantos datos tenemos de una columna concreta escribimos el nombre de  la coulman con value__counts()\n",
    "df.Cabin.value_counts()"
   ]
  },
  {
   "cell_type": "code",
   "execution_count": 14,
   "id": "df56d6f5",
   "metadata": {},
   "outputs": [
    {
     "name": "stdout",
     "output_type": "stream",
     "text": [
      "nan\n",
      "C85\n",
      "nan\n",
      "C123\n",
      "nan\n",
      "nan\n",
      "E46\n",
      "nan\n",
      "nan\n",
      "nan\n",
      "G6\n",
      "C103\n",
      "nan\n",
      "nan\n",
      "nan\n",
      "nan\n",
      "nan\n",
      "nan\n",
      "nan\n",
      "nan\n",
      "nan\n",
      "D56\n",
      "nan\n",
      "A6\n",
      "nan\n",
      "nan\n",
      "nan\n",
      "C23 C25 C27\n",
      "nan\n",
      "nan\n",
      "nan\n",
      "B78\n",
      "nan\n",
      "nan\n",
      "nan\n",
      "nan\n",
      "nan\n",
      "nan\n",
      "nan\n",
      "nan\n",
      "nan\n",
      "nan\n",
      "nan\n",
      "nan\n",
      "nan\n",
      "nan\n",
      "nan\n",
      "nan\n",
      "nan\n",
      "nan\n",
      "nan\n",
      "nan\n",
      "D33\n",
      "nan\n",
      "B30\n",
      "C52\n",
      "nan\n",
      "nan\n",
      "nan\n",
      "nan\n",
      "nan\n",
      "B28\n",
      "C83\n",
      "nan\n",
      "nan\n",
      "nan\n",
      "F33\n",
      "nan\n",
      "nan\n",
      "nan\n",
      "nan\n",
      "nan\n",
      "nan\n",
      "nan\n",
      "nan\n",
      "F G73\n",
      "nan\n",
      "nan\n",
      "nan\n",
      "nan\n",
      "nan\n",
      "nan\n",
      "nan\n",
      "nan\n",
      "nan\n",
      "nan\n",
      "nan\n",
      "nan\n",
      "C23 C25 C27\n",
      "nan\n",
      "nan\n",
      "nan\n",
      "E31\n",
      "nan\n",
      "nan\n",
      "nan\n",
      "A5\n",
      "D10 D12\n",
      "nan\n",
      "nan\n",
      "nan\n",
      "nan\n",
      "D26\n",
      "nan\n",
      "nan\n",
      "nan\n",
      "nan\n",
      "nan\n",
      "nan\n",
      "nan\n",
      "C110\n",
      "nan\n",
      "nan\n",
      "nan\n",
      "nan\n",
      "nan\n",
      "nan\n",
      "nan\n",
      "B58 B60\n",
      "nan\n",
      "nan\n",
      "nan\n",
      "nan\n",
      "E101\n",
      "D26\n",
      "nan\n",
      "nan\n",
      "nan\n",
      "F E69\n",
      "nan\n",
      "nan\n",
      "nan\n",
      "nan\n",
      "nan\n",
      "nan\n",
      "nan\n",
      "D47\n",
      "C123\n",
      "nan\n",
      "B86\n",
      "nan\n",
      "nan\n",
      "nan\n",
      "nan\n",
      "nan\n",
      "nan\n",
      "nan\n",
      "nan\n",
      "F2\n",
      "nan\n",
      "nan\n",
      "C2\n",
      "nan\n",
      "nan\n",
      "nan\n",
      "nan\n",
      "nan\n",
      "nan\n",
      "nan\n",
      "nan\n",
      "nan\n",
      "nan\n",
      "nan\n",
      "nan\n",
      "nan\n",
      "nan\n",
      "E33\n",
      "nan\n",
      "nan\n",
      "nan\n",
      "B19\n",
      "nan\n",
      "nan\n",
      "nan\n",
      "A7\n",
      "nan\n",
      "nan\n",
      "C49\n",
      "nan\n",
      "nan\n",
      "nan\n",
      "nan\n",
      "nan\n",
      "F4\n",
      "nan\n",
      "A32\n",
      "nan\n",
      "nan\n",
      "nan\n",
      "nan\n",
      "nan\n",
      "nan\n",
      "nan\n",
      "F2\n",
      "B4\n",
      "B80\n",
      "nan\n",
      "nan\n",
      "nan\n",
      "nan\n",
      "nan\n",
      "nan\n",
      "nan\n",
      "nan\n",
      "nan\n",
      "G6\n",
      "nan\n",
      "nan\n",
      "nan\n",
      "A31\n",
      "nan\n",
      "nan\n",
      "nan\n",
      "nan\n",
      "nan\n",
      "D36\n",
      "nan\n",
      "nan\n",
      "D15\n",
      "nan\n",
      "nan\n",
      "nan\n",
      "nan\n",
      "nan\n",
      "C93\n",
      "nan\n",
      "nan\n",
      "nan\n",
      "nan\n",
      "nan\n",
      "C83\n",
      "nan\n",
      "nan\n",
      "nan\n",
      "nan\n",
      "nan\n",
      "nan\n",
      "nan\n",
      "nan\n",
      "nan\n",
      "nan\n",
      "nan\n",
      "nan\n",
      "nan\n",
      "nan\n",
      "C78\n",
      "nan\n",
      "nan\n",
      "D35\n",
      "nan\n",
      "nan\n",
      "G6\n",
      "C87\n",
      "nan\n",
      "nan\n",
      "nan\n",
      "nan\n",
      "B77\n",
      "nan\n",
      "nan\n",
      "nan\n",
      "nan\n",
      "E67\n",
      "B94\n",
      "nan\n",
      "nan\n",
      "nan\n",
      "nan\n",
      "C125\n",
      "C99\n",
      "nan\n",
      "nan\n",
      "nan\n",
      "C118\n",
      "nan\n",
      "D7\n",
      "nan\n",
      "nan\n",
      "nan\n",
      "nan\n",
      "nan\n",
      "nan\n",
      "nan\n",
      "nan\n",
      "A19\n",
      "nan\n",
      "nan\n",
      "nan\n",
      "nan\n",
      "nan\n",
      "nan\n",
      "B49\n",
      "D\n",
      "nan\n",
      "nan\n",
      "nan\n",
      "nan\n",
      "C22 C26\n",
      "C106\n",
      "B58 B60\n",
      "nan\n",
      "nan\n",
      "nan\n",
      "E101\n",
      "nan\n",
      "C22 C26\n",
      "nan\n",
      "C65\n",
      "nan\n",
      "E36\n",
      "C54\n",
      "B57 B59 B63 B66\n",
      "nan\n",
      "nan\n",
      "nan\n",
      "nan\n",
      "nan\n",
      "nan\n",
      "C7\n",
      "E34\n",
      "nan\n",
      "nan\n",
      "nan\n",
      "nan\n",
      "nan\n",
      "C32\n",
      "nan\n",
      "D\n",
      "nan\n",
      "B18\n",
      "nan\n",
      "C124\n",
      "C91\n",
      "nan\n",
      "nan\n",
      "nan\n",
      "C2\n",
      "E40\n",
      "nan\n",
      "T\n",
      "F2\n",
      "C23 C25 C27\n",
      "nan\n",
      "nan\n",
      "nan\n",
      "F33\n",
      "nan\n",
      "nan\n",
      "nan\n",
      "nan\n",
      "nan\n",
      "C128\n",
      "nan\n",
      "nan\n",
      "nan\n",
      "nan\n",
      "E33\n",
      "nan\n",
      "nan\n",
      "nan\n",
      "nan\n",
      "nan\n",
      "nan\n",
      "nan\n",
      "nan\n",
      "nan\n",
      "D37\n",
      "nan\n",
      "nan\n",
      "B35\n",
      "E50\n",
      "nan\n",
      "nan\n",
      "nan\n",
      "nan\n",
      "nan\n",
      "nan\n",
      "C82\n",
      "nan\n",
      "nan\n",
      "nan\n",
      "nan\n",
      "nan\n",
      "nan\n",
      "nan\n",
      "nan\n",
      "nan\n",
      "nan\n",
      "nan\n",
      "nan\n",
      "B96 B98\n",
      "nan\n",
      "nan\n",
      "D36\n",
      "G6\n",
      "nan\n",
      "nan\n",
      "nan\n",
      "nan\n",
      "nan\n",
      "nan\n",
      "nan\n",
      "nan\n",
      "nan\n",
      "nan\n",
      "nan\n",
      "nan\n",
      "nan\n",
      "nan\n",
      "nan\n",
      "nan\n",
      "nan\n",
      "C78\n",
      "nan\n",
      "nan\n",
      "nan\n",
      "nan\n",
      "nan\n",
      "nan\n",
      "nan\n",
      "nan\n",
      "nan\n",
      "nan\n",
      "nan\n",
      "nan\n",
      "nan\n",
      "nan\n",
      "nan\n",
      "nan\n",
      "E10\n",
      "C52\n",
      "nan\n",
      "nan\n",
      "nan\n",
      "E44\n",
      "B96 B98\n",
      "nan\n",
      "nan\n",
      "C23 C25 C27\n",
      "nan\n",
      "nan\n",
      "nan\n",
      "nan\n",
      "nan\n",
      "nan\n",
      "A34\n",
      "nan\n",
      "nan\n",
      "nan\n",
      "C104\n",
      "nan\n",
      "nan\n",
      "C111\n",
      "C92\n",
      "nan\n",
      "nan\n",
      "E38\n",
      "D21\n",
      "nan\n",
      "nan\n",
      "E12\n",
      "nan\n",
      "E63\n",
      "nan\n",
      "nan\n",
      "nan\n",
      "nan\n",
      "nan\n",
      "nan\n",
      "nan\n",
      "nan\n",
      "nan\n",
      "nan\n",
      "D\n",
      "nan\n",
      "A14\n",
      "nan\n",
      "nan\n",
      "nan\n",
      "nan\n",
      "nan\n",
      "nan\n",
      "nan\n",
      "nan\n",
      "B49\n",
      "nan\n",
      "C93\n",
      "B37\n",
      "nan\n",
      "nan\n",
      "nan\n",
      "nan\n",
      "C30\n",
      "nan\n",
      "nan\n",
      "nan\n",
      "D20\n",
      "nan\n",
      "C22 C26\n",
      "nan\n",
      "nan\n",
      "nan\n",
      "nan\n",
      "nan\n",
      "B79\n",
      "C65\n",
      "nan\n",
      "nan\n",
      "nan\n",
      "nan\n",
      "nan\n",
      "nan\n",
      "E25\n",
      "nan\n",
      "nan\n",
      "D46\n",
      "F33\n",
      "nan\n",
      "nan\n",
      "nan\n",
      "B73\n",
      "nan\n",
      "nan\n",
      "B18\n",
      "nan\n",
      "nan\n",
      "nan\n",
      "C95\n",
      "nan\n",
      "nan\n",
      "nan\n",
      "nan\n",
      "nan\n",
      "nan\n",
      "nan\n",
      "nan\n",
      "B38\n",
      "nan\n",
      "nan\n",
      "B39\n",
      "B22\n",
      "nan\n",
      "nan\n",
      "nan\n",
      "C86\n",
      "nan\n",
      "nan\n",
      "nan\n",
      "nan\n",
      "nan\n",
      "C70\n",
      "nan\n",
      "nan\n",
      "nan\n",
      "nan\n",
      "nan\n",
      "A16\n",
      "nan\n",
      "E67\n",
      "nan\n",
      "nan\n",
      "nan\n",
      "nan\n",
      "nan\n",
      "nan\n",
      "nan\n",
      "nan\n",
      "nan\n",
      "nan\n",
      "nan\n",
      "nan\n",
      "C101\n",
      "E25\n",
      "nan\n",
      "nan\n",
      "nan\n",
      "nan\n",
      "E44\n",
      "nan\n",
      "nan\n",
      "nan\n",
      "C68\n",
      "nan\n",
      "A10\n",
      "nan\n",
      "E68\n",
      "nan\n",
      "B41\n",
      "nan\n",
      "nan\n",
      "nan\n",
      "D20\n",
      "nan\n",
      "nan\n",
      "nan\n",
      "nan\n",
      "nan\n",
      "nan\n",
      "nan\n",
      "A20\n",
      "nan\n",
      "nan\n",
      "nan\n",
      "nan\n",
      "nan\n",
      "nan\n",
      "nan\n",
      "nan\n",
      "nan\n",
      "C125\n",
      "nan\n",
      "nan\n",
      "nan\n",
      "nan\n",
      "nan\n",
      "nan\n",
      "nan\n",
      "nan\n",
      "F4\n",
      "nan\n",
      "nan\n",
      "D19\n",
      "nan\n",
      "nan\n",
      "nan\n",
      "D50\n",
      "nan\n",
      "D9\n",
      "nan\n",
      "nan\n",
      "A23\n",
      "nan\n",
      "B50\n",
      "nan\n",
      "nan\n",
      "nan\n",
      "nan\n",
      "nan\n",
      "nan\n",
      "nan\n",
      "nan\n",
      "B35\n",
      "nan\n",
      "nan\n",
      "nan\n",
      "D33\n",
      "nan\n",
      "A26\n",
      "nan\n",
      "nan\n",
      "nan\n",
      "nan\n",
      "nan\n",
      "nan\n",
      "nan\n",
      "nan\n",
      "nan\n",
      "nan\n",
      "nan\n",
      "D48\n",
      "nan\n",
      "nan\n",
      "E58\n",
      "nan\n",
      "nan\n",
      "nan\n",
      "nan\n",
      "nan\n",
      "nan\n",
      "C126\n",
      "nan\n",
      "B71\n",
      "nan\n",
      "nan\n",
      "nan\n",
      "nan\n",
      "nan\n",
      "nan\n",
      "nan\n",
      "B51 B53 B55\n",
      "nan\n",
      "D49\n",
      "nan\n",
      "nan\n",
      "nan\n",
      "nan\n",
      "nan\n",
      "nan\n",
      "nan\n",
      "B5\n",
      "B20\n",
      "nan\n",
      "nan\n",
      "nan\n",
      "nan\n",
      "nan\n",
      "nan\n",
      "nan\n",
      "C68\n",
      "F G63\n",
      "C62 C64\n",
      "E24\n",
      "nan\n",
      "nan\n",
      "nan\n",
      "nan\n",
      "nan\n",
      "E24\n",
      "nan\n",
      "nan\n",
      "C90\n",
      "C124\n",
      "C126\n",
      "nan\n",
      "nan\n",
      "F G73\n",
      "C45\n",
      "E101\n",
      "nan\n",
      "nan\n",
      "nan\n",
      "nan\n",
      "nan\n",
      "nan\n",
      "E8\n",
      "nan\n",
      "nan\n",
      "nan\n",
      "nan\n",
      "nan\n",
      "B5\n",
      "nan\n",
      "nan\n",
      "nan\n",
      "nan\n",
      "nan\n",
      "nan\n",
      "B101\n",
      "nan\n",
      "nan\n",
      "D45\n",
      "C46\n",
      "B57 B59 B63 B66\n",
      "nan\n",
      "nan\n",
      "B22\n",
      "nan\n",
      "nan\n",
      "D30\n",
      "nan\n",
      "nan\n",
      "E121\n",
      "nan\n",
      "nan\n",
      "nan\n",
      "nan\n",
      "nan\n",
      "nan\n",
      "nan\n",
      "B77\n",
      "nan\n",
      "nan\n",
      "nan\n",
      "B96 B98\n",
      "nan\n",
      "D11\n",
      "nan\n",
      "nan\n",
      "nan\n",
      "nan\n",
      "nan\n",
      "nan\n",
      "E77\n",
      "nan\n",
      "nan\n",
      "nan\n",
      "F38\n",
      "nan\n",
      "nan\n",
      "B3\n",
      "nan\n",
      "B20\n",
      "D6\n",
      "nan\n",
      "nan\n",
      "nan\n",
      "nan\n",
      "nan\n",
      "nan\n",
      "B82 B84\n",
      "nan\n",
      "nan\n",
      "nan\n",
      "nan\n",
      "nan\n",
      "nan\n",
      "D17\n",
      "nan\n",
      "nan\n",
      "nan\n",
      "nan\n",
      "nan\n",
      "B96 B98\n",
      "nan\n",
      "nan\n",
      "nan\n",
      "A36\n",
      "nan\n",
      "nan\n",
      "E8\n",
      "nan\n",
      "nan\n",
      "nan\n",
      "nan\n",
      "nan\n",
      "B102\n",
      "nan\n",
      "nan\n",
      "nan\n",
      "nan\n",
      "B69\n",
      "nan\n",
      "nan\n",
      "E121\n",
      "nan\n",
      "nan\n",
      "nan\n",
      "nan\n",
      "nan\n",
      "B28\n",
      "nan\n",
      "nan\n",
      "nan\n",
      "nan\n",
      "nan\n",
      "E49\n",
      "nan\n",
      "nan\n",
      "nan\n",
      "C47\n",
      "nan\n",
      "nan\n",
      "nan\n",
      "nan\n",
      "nan\n",
      "nan\n",
      "nan\n",
      "nan\n",
      "nan\n",
      "C92\n",
      "nan\n",
      "nan\n",
      "nan\n",
      "D28\n",
      "nan\n",
      "nan\n",
      "nan\n",
      "E17\n",
      "nan\n",
      "nan\n",
      "nan\n",
      "nan\n",
      "D17\n",
      "nan\n",
      "nan\n",
      "nan\n",
      "nan\n",
      "A24\n",
      "nan\n",
      "nan\n",
      "nan\n",
      "D35\n",
      "B51 B53 B55\n",
      "nan\n",
      "nan\n",
      "nan\n",
      "nan\n",
      "nan\n",
      "nan\n",
      "C50\n",
      "nan\n",
      "nan\n",
      "nan\n",
      "nan\n",
      "nan\n",
      "nan\n",
      "nan\n",
      "B42\n",
      "nan\n",
      "C148\n",
      "nan\n"
     ]
    }
   ],
   "source": [
    "# Para poder visualizar los datos que faltan como NAN (Not a number)\n",
    "for cabina in df.Cabin:\n",
    "    print(cabina)"
   ]
  },
  {
   "cell_type": "code",
   "execution_count": 15,
   "id": "5bbb91cb",
   "metadata": {},
   "outputs": [
    {
     "name": "stdout",
     "output_type": "stream",
     "text": [
      "<class 'pandas.core.frame.DataFrame'>\n",
      "RangeIndex: 891 entries, 0 to 890\n",
      "Data columns (total 11 columns):\n",
      " #   Column    Non-Null Count  Dtype  \n",
      "---  ------    --------------  -----  \n",
      " 0   Survived  891 non-null    int64  \n",
      " 1   Pclass    891 non-null    int64  \n",
      " 2   Name      891 non-null    object \n",
      " 3   Sex       891 non-null    object \n",
      " 4   Age       714 non-null    float64\n",
      " 5   SibSp     891 non-null    int64  \n",
      " 6   Parch     891 non-null    int64  \n",
      " 7   Ticket    891 non-null    object \n",
      " 8   Fare      891 non-null    float64\n",
      " 9   Cabin     204 non-null    object \n",
      " 10  Embarked  889 non-null    object \n",
      "dtypes: float64(2), int64(4), object(5)\n",
      "memory usage: 76.7+ KB\n"
     ]
    }
   ],
   "source": [
    "df.info()\n"
   ]
  },
  {
   "cell_type": "markdown",
   "id": "11480326",
   "metadata": {},
   "source": [
    "#### Ahora vamos a ver el aproximado de personas que sobrevivieron"
   ]
  },
  {
   "cell_type": "code",
   "execution_count": 16,
   "id": "6a7c29fa",
   "metadata": {},
   "outputs": [
    {
     "data": {
      "text/plain": [
       "0    549\n",
       "1    342\n",
       "Name: Survived, dtype: int64"
      ]
     },
     "execution_count": 16,
     "metadata": {},
     "output_type": "execute_result"
    }
   ],
   "source": [
    "# Para ello miramos la columna survived\n",
    "df.Survived.value_counts()"
   ]
  },
  {
   "cell_type": "code",
   "execution_count": 17,
   "id": "804be4e5",
   "metadata": {},
   "outputs": [
    {
     "data": {
      "image/png": "[encoded data removed]",
      "text/plain": [
       "<Figure size 432x288 with 1 Axes>"
      ]
     },
     "metadata": {
      "needs_background": "light"
     },
     "output_type": "display_data"
    }
   ],
   "source": [
    "# Ya sabemos que la forma más rápida de hacer gráficas de pocas columnas es Pandas PLOT\n",
    "# Entonces solo le pegamos el la grafica de Matplotlib\n",
    "\n",
    "df.Survived.value_counts().plot(kind='bar')\n",
    "plt.xlabel('Sobrevivientes = 1, No sobrevivientes = 0')\n",
    "plt.ylabel('Número de pasajeros que sobrevivieron')\n",
    "plt.title('Supervivencia en el Titanic')\n",
    "plt.show()"
   ]
  },
  {
   "cell_type": "markdown",
   "id": "93f0c44d",
   "metadata": {},
   "source": [
    "Conclusiones:\n",
    "\n",
    "- Murieron muchas más personas de las que se salvaron"
   ]
  },
  {
   "cell_type": "markdown",
   "id": "80a8a2da",
   "metadata": {},
   "source": [
    "# ¿Cómo seleccionar información concreta de nuestro dataset?"
   ]
  },
  {
   "cell_type": "markdown",
   "id": "5b865b71",
   "metadata": {},
   "source": [
    "### Primera"
   ]
  },
  {
   "cell_type": "code",
   "execution_count": 18,
   "id": "a4b10ce7",
   "metadata": {},
   "outputs": [
    {
     "data": {
      "text/plain": [
       "0    22.0\n",
       "1    38.0\n",
       "2    26.0\n",
       "3    35.0\n",
       "4    35.0\n",
       "Name: Age, dtype: float64"
      ]
     },
     "execution_count": 18,
     "metadata": {},
     "output_type": "execute_result"
    }
   ],
   "source": [
    "# Puedo mecnionar el nombre de la coulmna dentro del DataSet todo dentro de brackets\n",
    "df['Age'].head()"
   ]
  },
  {
   "cell_type": "markdown",
   "id": "14b86732",
   "metadata": {},
   "source": [
    "### Segunda"
   ]
  },
  {
   "cell_type": "code",
   "execution_count": 19,
   "id": "5e5a7ac6",
   "metadata": {},
   "outputs": [
    {
     "data": {
      "text/plain": [
       "0    22.0\n",
       "1    38.0\n",
       "2    26.0\n",
       "3    35.0\n",
       "4    35.0\n",
       "Name: Age, dtype: float64"
      ]
     },
     "execution_count": 19,
     "metadata": {},
     "output_type": "execute_result"
    }
   ],
   "source": [
    "# Puedo llamar al dataframe y llamar a la columna con punto.\n",
    "df.Age.head()"
   ]
  },
  {
   "cell_type": "markdown",
   "id": "f37a05a4",
   "metadata": {},
   "source": [
    "### Tercera  (CROSSTAB)"
   ]
  },
  {
   "cell_type": "markdown",
   "id": "24b8b45b",
   "metadata": {},
   "source": [
    "#### Esta es una manera de seleccionar informacion concreta y compararla con otra columna"
   ]
  },
  {
   "cell_type": "code",
   "execution_count": 20,
   "id": "2d637d02",
   "metadata": {},
   "outputs": [
    {
     "data": {
      "text/html": [
       "<div>\n",
       "<style scoped>\n",
       "    .dataframe tbody tr th:only-of-type {\n",
       "        vertical-align: middle;\n",
       "    }\n",
       "\n",
       "    .dataframe tbody tr th {\n",
       "        vertical-align: top;\n",
       "    }\n",
       "\n",
       "    .dataframe thead th {\n",
       "        text-align: right;\n",
       "    }\n",
       "</style>\n",
       "<table border=\"1\" class=\"dataframe\">\n",
       "  <thead>\n",
       "    <tr style=\"text-align: right;\">\n",
       "      <th>Survived</th>\n",
       "      <th>0</th>\n",
       "      <th>1</th>\n",
       "    </tr>\n",
       "    <tr>\n",
       "      <th>Sex</th>\n",
       "      <th></th>\n",
       "      <th></th>\n",
       "    </tr>\n",
       "  </thead>\n",
       "  <tbody>\n",
       "    <tr>\n",
       "      <th>female</th>\n",
       "      <td>81</td>\n",
       "      <td>233</td>\n",
       "    </tr>\n",
       "    <tr>\n",
       "      <th>male</th>\n",
       "      <td>468</td>\n",
       "      <td>109</td>\n",
       "    </tr>\n",
       "  </tbody>\n",
       "</table>\n",
       "</div>"
      ],
      "text/plain": [
       "Survived    0    1\n",
       "Sex               \n",
       "female     81  233\n",
       "male      468  109"
      ]
     },
     "execution_count": 20,
     "metadata": {},
     "output_type": "execute_result"
    }
   ],
   "source": [
    "# Me relaciona dos columnas de manera cruzada y me dice automaticamente cuantas tengo de cada tipo\n",
    "pd.crosstab(df.Sex, df.Survived)"
   ]
  },
  {
   "cell_type": "code",
   "execution_count": 21,
   "id": "3cfc5bdd",
   "metadata": {},
   "outputs": [
    {
     "data": {
      "image/png": "[encoded data removed]",
      "text/plain": [
       "<Figure size 432x288 with 1 Axes>"
      ]
     },
     "metadata": {
      "needs_background": "light"
     },
     "output_type": "display_data"
    }
   ],
   "source": [
    "# Simpre que tenga un objeto de tipo dataframe le puedo simplemente agregara un .PLOT para visualizar una gráfica rápida\n",
    "pd.crosstab(df.Sex, df.Survived).plot(kind='bar', grid=True, title='Sobrevivencia por sexo')\n",
    "plt.show()"
   ]
  },
  {
   "cell_type": "markdown",
   "id": "b9afe978",
   "metadata": {},
   "source": [
    "##### Conclusiones:\n",
    "- La mayoría de las mujeres sobrevivieron\n",
    "- La mayoría de los hombres murieron\n",
    "- Murieron más del triple de hombres que de mujeres."
   ]
  },
  {
   "cell_type": "code",
   "execution_count": 22,
   "id": "4f91b385",
   "metadata": {},
   "outputs": [],
   "source": [
    "# Las conclusiones es la parte más importante de gráficos, su razón se ser. Si no existen coclusiones no se hizo nada."
   ]
  },
  {
   "cell_type": "code",
   "execution_count": 23,
   "id": "629e052b",
   "metadata": {},
   "outputs": [
    {
     "data": {
      "image/png": "[encoded data removed]",
      "text/plain": [
       "<Figure size 432x288 with 1 Axes>"
      ]
     },
     "metadata": {
      "needs_background": "light"
     },
     "output_type": "display_data"
    }
   ],
   "source": [
    "# Otra forma de relacionarlo\n",
    "pd.crosstab(df.Sex, df.Survived).plot(kind='bar', grid=True, title='Sobrevivencia por sexo', stacked=True)\n",
    "plt.show()"
   ]
  },
  {
   "cell_type": "markdown",
   "id": "ee36e460",
   "metadata": {},
   "source": [
    "##### Conclusiones:\n",
    "\n",
    "-  En esta gráfica se puede observar que habían casi el doble de hombres que de mujeres\n",
    "- Menos de un tercio de todas las mujeres murieron\n",
    "- Solo un poco más de un sexto del total de hombres sobrevivieron"
   ]
  },
  {
   "cell_type": "code",
   "execution_count": 24,
   "id": "b8ba1e69",
   "metadata": {},
   "outputs": [
    {
     "data": {
      "text/html": [
       "<div>\n",
       "<style scoped>\n",
       "    .dataframe tbody tr th:only-of-type {\n",
       "        vertical-align: middle;\n",
       "    }\n",
       "\n",
       "    .dataframe tbody tr th {\n",
       "        vertical-align: top;\n",
       "    }\n",
       "\n",
       "    .dataframe thead th {\n",
       "        text-align: right;\n",
       "    }\n",
       "</style>\n",
       "<table border=\"1\" class=\"dataframe\">\n",
       "  <thead>\n",
       "    <tr style=\"text-align: right;\">\n",
       "      <th>Survived</th>\n",
       "      <th>0</th>\n",
       "      <th>1</th>\n",
       "    </tr>\n",
       "    <tr>\n",
       "      <th>Pclass</th>\n",
       "      <th></th>\n",
       "      <th></th>\n",
       "    </tr>\n",
       "  </thead>\n",
       "  <tbody>\n",
       "    <tr>\n",
       "      <th>1</th>\n",
       "      <td>80</td>\n",
       "      <td>136</td>\n",
       "    </tr>\n",
       "    <tr>\n",
       "      <th>2</th>\n",
       "      <td>97</td>\n",
       "      <td>87</td>\n",
       "    </tr>\n",
       "    <tr>\n",
       "      <th>3</th>\n",
       "      <td>372</td>\n",
       "      <td>119</td>\n",
       "    </tr>\n",
       "  </tbody>\n",
       "</table>\n",
       "</div>"
      ],
      "text/plain": [
       "Survived    0    1\n",
       "Pclass            \n",
       "1          80  136\n",
       "2          97   87\n",
       "3         372  119"
      ]
     },
     "execution_count": 24,
     "metadata": {},
     "output_type": "execute_result"
    }
   ],
   "source": [
    "pd.crosstab(df.Pclass,df.Survived)"
   ]
  },
  {
   "cell_type": "code",
   "execution_count": 25,
   "id": "50b052ad",
   "metadata": {},
   "outputs": [
    {
     "data": {
      "image/png": "[encoded data removed]",
      "text/plain": [
       "<Figure size 432x288 with 1 Axes>"
      ]
     },
     "metadata": {
      "needs_background": "light"
     },
     "output_type": "display_data"
    }
   ],
   "source": [
    "pd.crosstab(df.Pclass,df.Survived).plot(kind='bar',grid=True, title='Sobrevivencia por clase abordo')\n",
    "plt.show()"
   ]
  },
  {
   "cell_type": "markdown",
   "id": "622c5e63",
   "metadata": {},
   "source": [
    "Conclusiones:\n",
    "\n",
    "- La mayoría de personas que murieron eran de tercera clase.\n",
    "- En general sobrevivieron más personas de la primera clase.\n",
    "- En segunda clase las cosas sucedieron de forma más estable. Sobrevivieron casi tantas personas como las que murieron."
   ]
  },
  {
   "cell_type": "markdown",
   "id": "19751a43",
   "metadata": {},
   "source": [
    "## Cuarta "
   ]
  },
  {
   "cell_type": "markdown",
   "id": "c1e64972",
   "metadata": {},
   "source": [
    "#### Seleccionar infromación concreta con ---> GROUPBY"
   ]
  },
  {
   "cell_type": "code",
   "execution_count": 26,
   "id": "f2a18057",
   "metadata": {},
   "outputs": [
    {
     "data": {
      "text/plain": [
       "Sex     Survived\n",
       "female  1           233\n",
       "        0            81\n",
       "male    0           468\n",
       "        1           109\n",
       "Name: Survived, dtype: int64"
      ]
     },
     "execution_count": 26,
     "metadata": {},
     "output_type": "execute_result"
    }
   ],
   "source": [
    "# Si queremos saber el sexo de los sobrevivientes\n",
    "df.groupby('Sex').Survived.value_counts()"
   ]
  },
  {
   "cell_type": "code",
   "execution_count": 27,
   "id": "49872021",
   "metadata": {},
   "outputs": [
    {
     "data": {
      "image/png": "[encoded data removed]",
      "text/plain": [
       "<Figure size 432x288 with 1 Axes>"
      ]
     },
     "metadata": {
      "needs_background": "light"
     },
     "output_type": "display_data"
    }
   ],
   "source": [
    "df.groupby('Sex').Survived.value_counts().plot(kind='bar',grid=True, title='Sobrevivencia por sexo')\n",
    "plt.show()"
   ]
  },
  {
   "cell_type": "markdown",
   "id": "03b36209",
   "metadata": {},
   "source": [
    "Conclusiones:\n",
    "\n",
    "- Sobrevivieron más del doble de mujeres que de hombres\n",
    "- Murieron el doble de hombres que de mujeres sobrevivientes.\n"
   ]
  },
  {
   "cell_type": "markdown",
   "id": "3b74f44f",
   "metadata": {},
   "source": [
    "# Quinta"
   ]
  },
  {
   "cell_type": "markdown",
   "id": "ce48c040",
   "metadata": {},
   "source": [
    "### Seleccionamos información concreta"
   ]
  },
  {
   "cell_type": "markdown",
   "id": "bc4a0388",
   "metadata": {},
   "source": [
    "Ejemplo:\n",
    "\n",
    "- Selecciono aquellas filas donde Pclass == 1\n",
    "- Me creo un dataframe de la misma forma que tenía antes"
   ]
  },
  {
   "cell_type": "code",
   "execution_count": 28,
   "id": "1763e100",
   "metadata": {},
   "outputs": [
    {
     "data": {
      "text/html": [
       "<div>\n",
       "<style scoped>\n",
       "    .dataframe tbody tr th:only-of-type {\n",
       "        vertical-align: middle;\n",
       "    }\n",
       "\n",
       "    .dataframe tbody tr th {\n",
       "        vertical-align: top;\n",
       "    }\n",
       "\n",
       "    .dataframe thead th {\n",
       "        text-align: right;\n",
       "    }\n",
       "</style>\n",
       "<table border=\"1\" class=\"dataframe\">\n",
       "  <thead>\n",
       "    <tr style=\"text-align: right;\">\n",
       "      <th></th>\n",
       "      <th>Survived</th>\n",
       "      <th>Pclass</th>\n",
       "      <th>Name</th>\n",
       "      <th>Sex</th>\n",
       "      <th>Age</th>\n",
       "      <th>SibSp</th>\n",
       "      <th>Parch</th>\n",
       "      <th>Ticket</th>\n",
       "      <th>Fare</th>\n",
       "      <th>Cabin</th>\n",
       "      <th>Embarked</th>\n",
       "    </tr>\n",
       "  </thead>\n",
       "  <tbody>\n",
       "    <tr>\n",
       "      <th>1</th>\n",
       "      <td>1</td>\n",
       "      <td>1</td>\n",
       "      <td>Cumings, Mrs. John Bradley (Florence Briggs Th...</td>\n",
       "      <td>female</td>\n",
       "      <td>38.0</td>\n",
       "      <td>1</td>\n",
       "      <td>0</td>\n",
       "      <td>PC 17599</td>\n",
       "      <td>71.2833</td>\n",
       "      <td>C85</td>\n",
       "      <td>C</td>\n",
       "    </tr>\n",
       "    <tr>\n",
       "      <th>3</th>\n",
       "      <td>1</td>\n",
       "      <td>1</td>\n",
       "      <td>Futrelle, Mrs. Jacques Heath (Lily May Peel)</td>\n",
       "      <td>female</td>\n",
       "      <td>35.0</td>\n",
       "      <td>1</td>\n",
       "      <td>0</td>\n",
       "      <td>113803</td>\n",
       "      <td>53.1000</td>\n",
       "      <td>C123</td>\n",
       "      <td>S</td>\n",
       "    </tr>\n",
       "    <tr>\n",
       "      <th>6</th>\n",
       "      <td>0</td>\n",
       "      <td>1</td>\n",
       "      <td>McCarthy, Mr. Timothy J</td>\n",
       "      <td>male</td>\n",
       "      <td>54.0</td>\n",
       "      <td>0</td>\n",
       "      <td>0</td>\n",
       "      <td>17463</td>\n",
       "      <td>51.8625</td>\n",
       "      <td>E46</td>\n",
       "      <td>S</td>\n",
       "    </tr>\n",
       "    <tr>\n",
       "      <th>11</th>\n",
       "      <td>1</td>\n",
       "      <td>1</td>\n",
       "      <td>Bonnell, Miss. Elizabeth</td>\n",
       "      <td>female</td>\n",
       "      <td>58.0</td>\n",
       "      <td>0</td>\n",
       "      <td>0</td>\n",
       "      <td>113783</td>\n",
       "      <td>26.5500</td>\n",
       "      <td>C103</td>\n",
       "      <td>S</td>\n",
       "    </tr>\n",
       "    <tr>\n",
       "      <th>23</th>\n",
       "      <td>1</td>\n",
       "      <td>1</td>\n",
       "      <td>Sloper, Mr. William Thompson</td>\n",
       "      <td>male</td>\n",
       "      <td>28.0</td>\n",
       "      <td>0</td>\n",
       "      <td>0</td>\n",
       "      <td>113788</td>\n",
       "      <td>35.5000</td>\n",
       "      <td>A6</td>\n",
       "      <td>S</td>\n",
       "    </tr>\n",
       "  </tbody>\n",
       "</table>\n",
       "</div>"
      ],
      "text/plain": [
       "    Survived  Pclass                                               Name  \\\n",
       "1          1       1  Cumings, Mrs. John Bradley (Florence Briggs Th...   \n",
       "3          1       1       Futrelle, Mrs. Jacques Heath (Lily May Peel)   \n",
       "6          0       1                            McCarthy, Mr. Timothy J   \n",
       "11         1       1                           Bonnell, Miss. Elizabeth   \n",
       "23         1       1                       Sloper, Mr. William Thompson   \n",
       "\n",
       "       Sex   Age  SibSp  Parch    Ticket     Fare Cabin Embarked  \n",
       "1   female  38.0      1      0  PC 17599  71.2833   C85        C  \n",
       "3   female  35.0      1      0    113803  53.1000  C123        S  \n",
       "6     male  54.0      0      0     17463  51.8625   E46        S  \n",
       "11  female  58.0      0      0    113783  26.5500  C103        S  \n",
       "23    male  28.0      0      0    113788  35.5000    A6        S  "
      ]
     },
     "execution_count": 28,
     "metadata": {},
     "output_type": "execute_result"
    }
   ],
   "source": [
    "# Creo un dataframe unicamente con la infomracion de la primera clase para analizarla más a donde\n",
    "df_sex_uno = df[df.Pclass==1]\n",
    "df_sex_uno.head()"
   ]
  },
  {
   "cell_type": "code",
   "execution_count": 29,
   "id": "a7db9e08",
   "metadata": {},
   "outputs": [
    {
     "data": {
      "text/plain": [
       "1     1\n",
       "3     1\n",
       "6     0\n",
       "11    1\n",
       "23    1\n",
       "Name: Survived, dtype: int64"
      ]
     },
     "execution_count": 29,
     "metadata": {},
     "output_type": "execute_result"
    }
   ],
   "source": [
    "# Selecciono la comparacion cruzada con la tabla de survived (Recordemos que es el output)\n",
    "\n",
    "df_sex_uno_crosstab = df[df.Pclass==1]['Survived']\n",
    "df_sex_uno_crosstab.head()"
   ]
  },
  {
   "cell_type": "markdown",
   "id": "20488dd5",
   "metadata": {},
   "source": [
    "# Ejemplos de creación de dataframes concretos"
   ]
  },
  {
   "cell_type": "code",
   "execution_count": 30,
   "id": "40e4b44c",
   "metadata": {},
   "outputs": [],
   "source": [
    "#Aqui creamos un dataframe de los que sobreviven\n",
    "# Para ello lo creamos con la columna Survived y lo filtramos por los datos que tengas valor de 1\n",
    "df_sobrevivien_todos = df[df['Survived']==1]\n",
    "\n",
    "# Hago otro dataframe para los que no sobreviven\n",
    "df_sobrevivien_ninguno = df[df['Survived']==0]\n",
    "\n",
    "##---------- Cuando son varias condiciones es importante utilizar el & y separar bien las condiciones\n",
    "# Creo un dataframe para solo los hombres que sobreviven\n",
    "hombres_supervivientes = df[(df['Survived']==1) & (df['Sex']=='male')]\n",
    "\n",
    "# Otro para los hombre que no sobreviven\n",
    "hombres_no_supervivientes = df[(df['Survived']==0) & (df['Sex']=='male')]\n",
    "\n",
    "# Ahora hago lo mismo con las mujeres\n",
    "mujeres_supervivientes = df[(df['Survived']==1) & (df['Sex']=='female')]\n",
    "\n",
    "# Otro para los hombre que no sobreviven\n",
    "mujeres_no_supervivientes = df[(df['Survived'])==0 & (df['Sex']=='female')]"
   ]
  },
  {
   "cell_type": "code",
   "execution_count": 31,
   "id": "67bb195b",
   "metadata": {},
   "outputs": [],
   "source": [
    "# probamos"
   ]
  },
  {
   "cell_type": "code",
   "execution_count": 32,
   "id": "be989ea9",
   "metadata": {},
   "outputs": [
    {
     "data": {
      "text/html": [
       "<div>\n",
       "<style scoped>\n",
       "    .dataframe tbody tr th:only-of-type {\n",
       "        vertical-align: middle;\n",
       "    }\n",
       "\n",
       "    .dataframe tbody tr th {\n",
       "        vertical-align: top;\n",
       "    }\n",
       "\n",
       "    .dataframe thead th {\n",
       "        text-align: right;\n",
       "    }\n",
       "</style>\n",
       "<table border=\"1\" class=\"dataframe\">\n",
       "  <thead>\n",
       "    <tr style=\"text-align: right;\">\n",
       "      <th></th>\n",
       "      <th>Survived</th>\n",
       "      <th>Pclass</th>\n",
       "      <th>Name</th>\n",
       "      <th>Sex</th>\n",
       "      <th>Age</th>\n",
       "      <th>SibSp</th>\n",
       "      <th>Parch</th>\n",
       "      <th>Ticket</th>\n",
       "      <th>Fare</th>\n",
       "      <th>Cabin</th>\n",
       "      <th>Embarked</th>\n",
       "    </tr>\n",
       "  </thead>\n",
       "  <tbody>\n",
       "    <tr>\n",
       "      <th>1</th>\n",
       "      <td>1</td>\n",
       "      <td>1</td>\n",
       "      <td>Cumings, Mrs. John Bradley (Florence Briggs Th...</td>\n",
       "      <td>female</td>\n",
       "      <td>38.0</td>\n",
       "      <td>1</td>\n",
       "      <td>0</td>\n",
       "      <td>PC 17599</td>\n",
       "      <td>71.2833</td>\n",
       "      <td>C85</td>\n",
       "      <td>C</td>\n",
       "    </tr>\n",
       "    <tr>\n",
       "      <th>2</th>\n",
       "      <td>1</td>\n",
       "      <td>3</td>\n",
       "      <td>Heikkinen, Miss. Laina</td>\n",
       "      <td>female</td>\n",
       "      <td>26.0</td>\n",
       "      <td>0</td>\n",
       "      <td>0</td>\n",
       "      <td>STON/O2. 3101282</td>\n",
       "      <td>7.9250</td>\n",
       "      <td>NaN</td>\n",
       "      <td>S</td>\n",
       "    </tr>\n",
       "    <tr>\n",
       "      <th>3</th>\n",
       "      <td>1</td>\n",
       "      <td>1</td>\n",
       "      <td>Futrelle, Mrs. Jacques Heath (Lily May Peel)</td>\n",
       "      <td>female</td>\n",
       "      <td>35.0</td>\n",
       "      <td>1</td>\n",
       "      <td>0</td>\n",
       "      <td>113803</td>\n",
       "      <td>53.1000</td>\n",
       "      <td>C123</td>\n",
       "      <td>S</td>\n",
       "    </tr>\n",
       "  </tbody>\n",
       "</table>\n",
       "</div>"
      ],
      "text/plain": [
       "   Survived  Pclass                                               Name  \\\n",
       "1         1       1  Cumings, Mrs. John Bradley (Florence Briggs Th...   \n",
       "2         1       3                             Heikkinen, Miss. Laina   \n",
       "3         1       1       Futrelle, Mrs. Jacques Heath (Lily May Peel)   \n",
       "\n",
       "      Sex   Age  SibSp  Parch            Ticket     Fare Cabin Embarked  \n",
       "1  female  38.0      1      0          PC 17599  71.2833   C85        C  \n",
       "2  female  26.0      0      0  STON/O2. 3101282   7.9250   NaN        S  \n",
       "3  female  35.0      1      0            113803  53.1000  C123        S  "
      ]
     },
     "execution_count": 32,
     "metadata": {},
     "output_type": "execute_result"
    }
   ],
   "source": [
    "df_sobrevivien_todos.head(3)"
   ]
  },
  {
   "cell_type": "code",
   "execution_count": 33,
   "id": "f3e2cd06",
   "metadata": {},
   "outputs": [
    {
     "data": {
      "text/plain": [
       "1    342\n",
       "Name: Survived, dtype: int64"
      ]
     },
     "execution_count": 33,
     "metadata": {},
     "output_type": "execute_result"
    }
   ],
   "source": [
    "# Lo anterior nos mustra que solo estan los sobrevivinetes \n",
    "# Para volverlo a comprobar recorrermos el dataframe en la columna Survived \n",
    "# Esto nos mostrara que todos los que estan es la lista tienen valor 1 y el numero de registros.\n",
    "\n",
    "# Vemos como faltan posiciones en el index\n",
    "# El dataframe muestra el index que cada registro filtrado\n",
    "df_sobrevivien_todos.Survived.value_counts()"
   ]
  },
  {
   "cell_type": "code",
   "execution_count": 34,
   "id": "ce1a242f",
   "metadata": {},
   "outputs": [
    {
     "data": {
      "text/html": [
       "<div>\n",
       "<style scoped>\n",
       "    .dataframe tbody tr th:only-of-type {\n",
       "        vertical-align: middle;\n",
       "    }\n",
       "\n",
       "    .dataframe tbody tr th {\n",
       "        vertical-align: top;\n",
       "    }\n",
       "\n",
       "    .dataframe thead th {\n",
       "        text-align: right;\n",
       "    }\n",
       "</style>\n",
       "<table border=\"1\" class=\"dataframe\">\n",
       "  <thead>\n",
       "    <tr style=\"text-align: right;\">\n",
       "      <th></th>\n",
       "      <th>Survived</th>\n",
       "      <th>Pclass</th>\n",
       "      <th>Name</th>\n",
       "      <th>Sex</th>\n",
       "      <th>Age</th>\n",
       "      <th>SibSp</th>\n",
       "      <th>Parch</th>\n",
       "      <th>Ticket</th>\n",
       "      <th>Fare</th>\n",
       "      <th>Cabin</th>\n",
       "      <th>Embarked</th>\n",
       "    </tr>\n",
       "  </thead>\n",
       "  <tbody>\n",
       "    <tr>\n",
       "      <th>0</th>\n",
       "      <td>0</td>\n",
       "      <td>3</td>\n",
       "      <td>Braund, Mr. Owen Harris</td>\n",
       "      <td>male</td>\n",
       "      <td>22.0</td>\n",
       "      <td>1</td>\n",
       "      <td>0</td>\n",
       "      <td>A/5 21171</td>\n",
       "      <td>7.2500</td>\n",
       "      <td>NaN</td>\n",
       "      <td>S</td>\n",
       "    </tr>\n",
       "    <tr>\n",
       "      <th>4</th>\n",
       "      <td>0</td>\n",
       "      <td>3</td>\n",
       "      <td>Allen, Mr. William Henry</td>\n",
       "      <td>male</td>\n",
       "      <td>35.0</td>\n",
       "      <td>0</td>\n",
       "      <td>0</td>\n",
       "      <td>373450</td>\n",
       "      <td>8.0500</td>\n",
       "      <td>NaN</td>\n",
       "      <td>S</td>\n",
       "    </tr>\n",
       "    <tr>\n",
       "      <th>5</th>\n",
       "      <td>0</td>\n",
       "      <td>3</td>\n",
       "      <td>Moran, Mr. James</td>\n",
       "      <td>male</td>\n",
       "      <td>NaN</td>\n",
       "      <td>0</td>\n",
       "      <td>0</td>\n",
       "      <td>330877</td>\n",
       "      <td>8.4583</td>\n",
       "      <td>NaN</td>\n",
       "      <td>Q</td>\n",
       "    </tr>\n",
       "  </tbody>\n",
       "</table>\n",
       "</div>"
      ],
      "text/plain": [
       "   Survived  Pclass                      Name   Sex   Age  SibSp  Parch  \\\n",
       "0         0       3   Braund, Mr. Owen Harris  male  22.0      1      0   \n",
       "4         0       3  Allen, Mr. William Henry  male  35.0      0      0   \n",
       "5         0       3          Moran, Mr. James  male   NaN      0      0   \n",
       "\n",
       "      Ticket    Fare Cabin Embarked  \n",
       "0  A/5 21171  7.2500   NaN        S  \n",
       "4     373450  8.0500   NaN        S  \n",
       "5     330877  8.4583   NaN        Q  "
      ]
     },
     "execution_count": 34,
     "metadata": {},
     "output_type": "execute_result"
    }
   ],
   "source": [
    "# Vemos como faltan posiciones en el index\n",
    "# El dataframe muestra el index que cada registro filtrado\n",
    "df_sobrevivien_ninguno.head(3)"
   ]
  },
  {
   "cell_type": "code",
   "execution_count": 35,
   "id": "242d4948",
   "metadata": {},
   "outputs": [
    {
     "data": {
      "text/plain": [
       "0    549\n",
       "Name: Survived, dtype: int64"
      ]
     },
     "execution_count": 35,
     "metadata": {},
     "output_type": "execute_result"
    }
   ],
   "source": [
    "# Vemos como faltan posiciones en el index\n",
    "# El dataframe muestra el index que cada registro filtrado\n",
    "df_sobrevivien_ninguno.Survived.value_counts()"
   ]
  },
  {
   "cell_type": "code",
   "execution_count": 36,
   "id": "a287a165",
   "metadata": {},
   "outputs": [
    {
     "data": {
      "text/html": [
       "<div>\n",
       "<style scoped>\n",
       "    .dataframe tbody tr th:only-of-type {\n",
       "        vertical-align: middle;\n",
       "    }\n",
       "\n",
       "    .dataframe tbody tr th {\n",
       "        vertical-align: top;\n",
       "    }\n",
       "\n",
       "    .dataframe thead th {\n",
       "        text-align: right;\n",
       "    }\n",
       "</style>\n",
       "<table border=\"1\" class=\"dataframe\">\n",
       "  <thead>\n",
       "    <tr style=\"text-align: right;\">\n",
       "      <th></th>\n",
       "      <th>Survived</th>\n",
       "      <th>Pclass</th>\n",
       "      <th>Name</th>\n",
       "      <th>Sex</th>\n",
       "      <th>Age</th>\n",
       "      <th>SibSp</th>\n",
       "      <th>Parch</th>\n",
       "      <th>Ticket</th>\n",
       "      <th>Fare</th>\n",
       "      <th>Cabin</th>\n",
       "      <th>Embarked</th>\n",
       "    </tr>\n",
       "  </thead>\n",
       "  <tbody>\n",
       "    <tr>\n",
       "      <th>17</th>\n",
       "      <td>1</td>\n",
       "      <td>2</td>\n",
       "      <td>Williams, Mr. Charles Eugene</td>\n",
       "      <td>male</td>\n",
       "      <td>NaN</td>\n",
       "      <td>0</td>\n",
       "      <td>0</td>\n",
       "      <td>244373</td>\n",
       "      <td>13.0</td>\n",
       "      <td>NaN</td>\n",
       "      <td>S</td>\n",
       "    </tr>\n",
       "    <tr>\n",
       "      <th>21</th>\n",
       "      <td>1</td>\n",
       "      <td>2</td>\n",
       "      <td>Beesley, Mr. Lawrence</td>\n",
       "      <td>male</td>\n",
       "      <td>34.0</td>\n",
       "      <td>0</td>\n",
       "      <td>0</td>\n",
       "      <td>248698</td>\n",
       "      <td>13.0</td>\n",
       "      <td>D56</td>\n",
       "      <td>S</td>\n",
       "    </tr>\n",
       "    <tr>\n",
       "      <th>23</th>\n",
       "      <td>1</td>\n",
       "      <td>1</td>\n",
       "      <td>Sloper, Mr. William Thompson</td>\n",
       "      <td>male</td>\n",
       "      <td>28.0</td>\n",
       "      <td>0</td>\n",
       "      <td>0</td>\n",
       "      <td>113788</td>\n",
       "      <td>35.5</td>\n",
       "      <td>A6</td>\n",
       "      <td>S</td>\n",
       "    </tr>\n",
       "  </tbody>\n",
       "</table>\n",
       "</div>"
      ],
      "text/plain": [
       "    Survived  Pclass                          Name   Sex   Age  SibSp  Parch  \\\n",
       "17         1       2  Williams, Mr. Charles Eugene  male   NaN      0      0   \n",
       "21         1       2         Beesley, Mr. Lawrence  male  34.0      0      0   \n",
       "23         1       1  Sloper, Mr. William Thompson  male  28.0      0      0   \n",
       "\n",
       "    Ticket  Fare Cabin Embarked  \n",
       "17  244373  13.0   NaN        S  \n",
       "21  248698  13.0   D56        S  \n",
       "23  113788  35.5    A6        S  "
      ]
     },
     "execution_count": 36,
     "metadata": {},
     "output_type": "execute_result"
    }
   ],
   "source": [
    "# Vemos como faltan posiciones en el index\n",
    "# El dataframe muestra el index que cada registro filtrado\n",
    "hombres_supervivientes.head(3)"
   ]
  },
  {
   "cell_type": "code",
   "execution_count": 37,
   "id": "a0aa3c3d",
   "metadata": {},
   "outputs": [
    {
     "data": {
      "text/html": [
       "<div>\n",
       "<style scoped>\n",
       "    .dataframe tbody tr th:only-of-type {\n",
       "        vertical-align: middle;\n",
       "    }\n",
       "\n",
       "    .dataframe tbody tr th {\n",
       "        vertical-align: top;\n",
       "    }\n",
       "\n",
       "    .dataframe thead th {\n",
       "        text-align: right;\n",
       "    }\n",
       "</style>\n",
       "<table border=\"1\" class=\"dataframe\">\n",
       "  <thead>\n",
       "    <tr style=\"text-align: right;\">\n",
       "      <th></th>\n",
       "      <th>Survived</th>\n",
       "      <th>Pclass</th>\n",
       "      <th>Name</th>\n",
       "      <th>Sex</th>\n",
       "      <th>Age</th>\n",
       "      <th>SibSp</th>\n",
       "      <th>Parch</th>\n",
       "      <th>Ticket</th>\n",
       "      <th>Fare</th>\n",
       "      <th>Cabin</th>\n",
       "      <th>Embarked</th>\n",
       "    </tr>\n",
       "  </thead>\n",
       "  <tbody>\n",
       "    <tr>\n",
       "      <th>1</th>\n",
       "      <td>1</td>\n",
       "      <td>1</td>\n",
       "      <td>Cumings, Mrs. John Bradley (Florence Briggs Th...</td>\n",
       "      <td>female</td>\n",
       "      <td>38.0</td>\n",
       "      <td>1</td>\n",
       "      <td>0</td>\n",
       "      <td>PC 17599</td>\n",
       "      <td>71.2833</td>\n",
       "      <td>C85</td>\n",
       "      <td>C</td>\n",
       "    </tr>\n",
       "    <tr>\n",
       "      <th>2</th>\n",
       "      <td>1</td>\n",
       "      <td>3</td>\n",
       "      <td>Heikkinen, Miss. Laina</td>\n",
       "      <td>female</td>\n",
       "      <td>26.0</td>\n",
       "      <td>0</td>\n",
       "      <td>0</td>\n",
       "      <td>STON/O2. 3101282</td>\n",
       "      <td>7.9250</td>\n",
       "      <td>NaN</td>\n",
       "      <td>S</td>\n",
       "    </tr>\n",
       "    <tr>\n",
       "      <th>3</th>\n",
       "      <td>1</td>\n",
       "      <td>1</td>\n",
       "      <td>Futrelle, Mrs. Jacques Heath (Lily May Peel)</td>\n",
       "      <td>female</td>\n",
       "      <td>35.0</td>\n",
       "      <td>1</td>\n",
       "      <td>0</td>\n",
       "      <td>113803</td>\n",
       "      <td>53.1000</td>\n",
       "      <td>C123</td>\n",
       "      <td>S</td>\n",
       "    </tr>\n",
       "  </tbody>\n",
       "</table>\n",
       "</div>"
      ],
      "text/plain": [
       "   Survived  Pclass                                               Name  \\\n",
       "1         1       1  Cumings, Mrs. John Bradley (Florence Briggs Th...   \n",
       "2         1       3                             Heikkinen, Miss. Laina   \n",
       "3         1       1       Futrelle, Mrs. Jacques Heath (Lily May Peel)   \n",
       "\n",
       "      Sex   Age  SibSp  Parch            Ticket     Fare Cabin Embarked  \n",
       "1  female  38.0      1      0          PC 17599  71.2833   C85        C  \n",
       "2  female  26.0      0      0  STON/O2. 3101282   7.9250   NaN        S  \n",
       "3  female  35.0      1      0            113803  53.1000  C123        S  "
      ]
     },
     "execution_count": 37,
     "metadata": {},
     "output_type": "execute_result"
    }
   ],
   "source": [
    "# Vemos como faltan posiciones en el index\n",
    "# El dataframe muestra el index que cada registro filtrado\n",
    "mujeres_supervivientes.head(3)"
   ]
  },
  {
   "cell_type": "markdown",
   "id": "41ca2373",
   "metadata": {},
   "source": [
    "# Obtenemos información de los gráficos"
   ]
  },
  {
   "cell_type": "markdown",
   "id": "dc87ff57",
   "metadata": {},
   "source": [
    "### Función para hacer gráficas de forma automática"
   ]
  },
  {
   "cell_type": "code",
   "execution_count": 38,
   "id": "7b9d2367",
   "metadata": {},
   "outputs": [
    {
     "data": {
      "text/html": [
       "<div>\n",
       "<style scoped>\n",
       "    .dataframe tbody tr th:only-of-type {\n",
       "        vertical-align: middle;\n",
       "    }\n",
       "\n",
       "    .dataframe tbody tr th {\n",
       "        vertical-align: top;\n",
       "    }\n",
       "\n",
       "    .dataframe thead th {\n",
       "        text-align: right;\n",
       "    }\n",
       "</style>\n",
       "<table border=\"1\" class=\"dataframe\">\n",
       "  <thead>\n",
       "    <tr style=\"text-align: right;\">\n",
       "      <th></th>\n",
       "      <th>Survived</th>\n",
       "      <th>Pclass</th>\n",
       "      <th>Name</th>\n",
       "      <th>Sex</th>\n",
       "      <th>Age</th>\n",
       "      <th>SibSp</th>\n",
       "      <th>Parch</th>\n",
       "      <th>Ticket</th>\n",
       "      <th>Fare</th>\n",
       "      <th>Cabin</th>\n",
       "      <th>Embarked</th>\n",
       "    </tr>\n",
       "  </thead>\n",
       "  <tbody>\n",
       "    <tr>\n",
       "      <th>0</th>\n",
       "      <td>0</td>\n",
       "      <td>3</td>\n",
       "      <td>Braund, Mr. Owen Harris</td>\n",
       "      <td>male</td>\n",
       "      <td>22.0</td>\n",
       "      <td>1</td>\n",
       "      <td>0</td>\n",
       "      <td>A/5 21171</td>\n",
       "      <td>7.2500</td>\n",
       "      <td>NaN</td>\n",
       "      <td>S</td>\n",
       "    </tr>\n",
       "    <tr>\n",
       "      <th>1</th>\n",
       "      <td>1</td>\n",
       "      <td>1</td>\n",
       "      <td>Cumings, Mrs. John Bradley (Florence Briggs Th...</td>\n",
       "      <td>female</td>\n",
       "      <td>38.0</td>\n",
       "      <td>1</td>\n",
       "      <td>0</td>\n",
       "      <td>PC 17599</td>\n",
       "      <td>71.2833</td>\n",
       "      <td>C85</td>\n",
       "      <td>C</td>\n",
       "    </tr>\n",
       "  </tbody>\n",
       "</table>\n",
       "</div>"
      ],
      "text/plain": [
       "   Survived  Pclass                                               Name  \\\n",
       "0         0       3                            Braund, Mr. Owen Harris   \n",
       "1         1       1  Cumings, Mrs. John Bradley (Florence Briggs Th...   \n",
       "\n",
       "      Sex   Age  SibSp  Parch     Ticket     Fare Cabin Embarked  \n",
       "0    male  22.0      1      0  A/5 21171   7.2500   NaN        S  \n",
       "1  female  38.0      1      0   PC 17599  71.2833   C85        C  "
      ]
     },
     "execution_count": 38,
     "metadata": {},
     "output_type": "execute_result"
    }
   ],
   "source": [
    "df.head(2)"
   ]
  },
  {
   "cell_type": "code",
   "execution_count": 39,
   "id": "2a894ee4",
   "metadata": {},
   "outputs": [
    {
     "data": {
      "image/png": "[encoded data removed]",
      "text/plain": [
       "<Figure size 432x288 with 1 Axes>"
      ]
     },
     "metadata": {
      "needs_background": "light"
     },
     "output_type": "display_data"
    },
    {
     "data": {
      "image/png": "[encoded data removed]",
      "text/plain": [
       "<Figure size 432x288 with 1 Axes>"
      ]
     },
     "metadata": {
      "needs_background": "light"
     },
     "output_type": "display_data"
    },
    {
     "data": {
      "image/png": "[encoded data removed]",
      "text/plain": [
       "<Figure size 432x288 with 1 Axes>"
      ]
     },
     "metadata": {
      "needs_background": "light"
     },
     "output_type": "display_data"
    }
   ],
   "source": [
    "#Ahor alo que me interesa en automatizar todo\n",
    "# o voy a hacer con un bucle for\n",
    "# Incluyo las columnas que deseo trabajar y despues le asigno un crosstab a cada una\n",
    "opciones = ['Pclass','Sex','Embarked']\n",
    "\n",
    "for opcion in opciones:\n",
    "    pd.crosstab(df[opcion], df.Survived).plot(kind='bar', grid=True, title='Sobrevivencia')"
   ]
  },
  {
   "cell_type": "markdown",
   "id": "5997bf43",
   "metadata": {},
   "source": [
    "Conclusiones:\n",
    "\n",
    "- La mayoría de los que murieron eran de la clase 3\n",
    "- La mayoría de los muertos eran hombres\n",
    "- La mayoría de los muertos embarcaron por la puerta S\n"
   ]
  },
  {
   "cell_type": "markdown",
   "id": "e32a6626",
   "metadata": {},
   "source": [
    "## Algunos gráficos de Seaborn"
   ]
  },
  {
   "cell_type": "code",
   "execution_count": 40,
   "id": "c2b0bbae",
   "metadata": {},
   "outputs": [
    {
     "name": "stderr",
     "output_type": "stream",
     "text": [
      "c:\\users\\mauro.cespedesaraya\\appdata\\local\\programs\\python\\python38\\lib\\site-packages\\seaborn\\categorical.py:3717: UserWarning: The `factorplot` function has been renamed to `catplot`. The original name will be removed in a future release. Please update your code. Note that the default `kind` in `factorplot` (`'point'`) has changed `'strip'` in `catplot`.\n",
      "  warnings.warn(msg)\n",
      "c:\\users\\mauro.cespedesaraya\\appdata\\local\\programs\\python\\python38\\lib\\site-packages\\seaborn\\categorical.py:3723: UserWarning: The `size` parameter has been renamed to `height`; please update your code.\n",
      "  warnings.warn(msg, UserWarning)\n",
      "c:\\users\\mauro.cespedesaraya\\appdata\\local\\programs\\python\\python38\\lib\\site-packages\\seaborn\\_decorators.py:36: FutureWarning: Pass the following variables as keyword args: x, y. From version 0.12, the only valid positional argument will be `data`, and passing other arguments without an explicit keyword will result in an error or misinterpretation.\n",
      "  warnings.warn(\n"
     ]
    },
    {
     "data": {
      "image/png": "[encoded data removed]",
      "text/plain": [
       "<Figure size 618.375x288 with 1 Axes>"
      ]
     },
     "metadata": {
      "needs_background": "light"
     },
     "output_type": "display_data"
    }
   ],
   "source": [
    "# User warning The 'Factorplot' funciton has been renamed to 'catplot'\n",
    "# The original name will be removed in a future release\n",
    "\n",
    "sns.factorplot('Sex','Survived',hue='Pclass', size=4,aspect=2,legend=True,data=df)\n",
    "plt.show()\n"
   ]
  },
  {
   "cell_type": "code",
   "execution_count": 41,
   "id": "079c22a8",
   "metadata": {},
   "outputs": [
    {
     "data": {
      "image/png": "[encoded data removed]",
      "text/plain": [
       "<Figure size 402.375x360 with 1 Axes>"
      ]
     },
     "metadata": {
      "needs_background": "light"
     },
     "output_type": "display_data"
    }
   ],
   "source": [
    "# De esta manera el gráfico no me sirve para nada.\n",
    "# Lo estoy haciendo con catplot\n",
    "# Hay que leer el warning que factorplot va a cambiar por catplt\n",
    "sns.catplot(x='Sex',y='Survived',hue='Pclass', kind='strip',data=df)\n",
    "plt.show()"
   ]
  },
  {
   "cell_type": "code",
   "execution_count": 42,
   "id": "ae5a7e6d",
   "metadata": {},
   "outputs": [
    {
     "data": {
      "image/png": "[encoded data removed]",
      "text/plain": [
       "<Figure size 618.375x288 with 1 Axes>"
      ]
     },
     "metadata": {
      "needs_background": "light"
     },
     "output_type": "display_data"
    }
   ],
   "source": [
    "# Para hacer que nos muestre la gráfica que queremos lo programamamos asi\n",
    "# Aqui ya estamos relacionando 3 columnas\n",
    "sns.catplot(x='Sex',y='Survived',hue='Pclass', kind='point',height=4, aspect=2, data=df)\n",
    "plt.show()"
   ]
  },
  {
   "cell_type": "markdown",
   "id": "8fcbd77d",
   "metadata": {},
   "source": [
    "Conclusiones:\n",
    "\n",
    "- Las mujeres de primera y segunda clase casi todas sobreviven\n",
    "- Cuando son mujeres de tercera clase sobreviven más que los hombre de primera clase\n",
    "- La mayoriá de los hombres de segunda y tercera clase no sobreviven\n",
    "\n"
   ]
  },
  {
   "cell_type": "code",
   "execution_count": null,
   "id": "92e22f04",
   "metadata": {},
   "outputs": [],
   "source": []
  },
  {
   "cell_type": "code",
   "execution_count": 43,
   "id": "86c8ac9b",
   "metadata": {},
   "outputs": [
    {
     "data": {
      "image/png": "[encoded data removed]",
      "text/plain": [
       "<Figure size 1150.5x360 with 3 Axes>"
      ]
     },
     "metadata": {
      "needs_background": "light"
     },
     "output_type": "display_data"
    }
   ],
   "source": [
    "sns.catplot(x='Pclass',y='Survived',hue='Sex', col = 'Embarked', kind='point',data=df)\n",
    "plt.show()"
   ]
  },
  {
   "cell_type": "markdown",
   "id": "0b2547da",
   "metadata": {},
   "source": [
    "Conclusiones:\n",
    "\n",
    "- Nos fijamos en la gráfica de la izquierda = 'Embarked\n",
    "\n",
    "Las mujeres de 3 clase que embarcaron en S\n",
    "\n",
    "fallecieron muchas en comparación con la clase 1 y 2\n",
    "\n",
    "pese a ello sobrevivieron algo más que los hombres de la clase 1 embarcando por el mismo puerto.\n",
    "\n",
    "- Los hombres con mayor porcentaje de supervivencia embarcaron en C\n",
    "- Los hombres con menor porcentaje de supervivencia embarcaron en Q\n",
    "- Vemos nuevamente como la mayoría de mujeres sobrevivió, pero no los hombres."
   ]
  },
  {
   "cell_type": "markdown",
   "id": "c413c04e",
   "metadata": {},
   "source": [
    "### Edad y Supervivencia"
   ]
  },
  {
   "cell_type": "code",
   "execution_count": 44,
   "id": "26eea33e",
   "metadata": {},
   "outputs": [
    {
     "data": {
      "image/png": "[encoded data removed]",
      "text/plain": [
       "<Figure size 1152x432 with 3 Axes>"
      ]
     },
     "metadata": {
      "needs_background": "light"
     },
     "output_type": "display_data"
    }
   ],
   "source": [
    "# Este es un tipo de gráfico que queda como un violin\n",
    "fig = plt.figure(figsize=(16,6))\n",
    "\n",
    "ax1 = fig.add_subplot(131)\n",
    "ax2 = fig.add_subplot(132)\n",
    "ax3 = fig.add_subplot(133)\n",
    "\n",
    "sns.violinplot(x='Embarked', y = 'Age', hue='Survived', data = df, ax = ax1)\n",
    "sns.violinplot(x='Pclass', y = 'Age', hue='Survived', data = df, ax = ax2)\n",
    "sns.violinplot(x='Sex', y = 'Age', hue='Survived', data = df, ax = ax3)\n",
    "\n",
    "plt.show()"
   ]
  },
  {
   "cell_type": "markdown",
   "id": "1135214b",
   "metadata": {},
   "source": [
    "### Hago un split=True para que me lo haga más visual"
   ]
  },
  {
   "cell_type": "code",
   "execution_count": 45,
   "id": "ccb6f41c",
   "metadata": {},
   "outputs": [
    {
     "data": {
      "image/png": "[encoded data removed]",
      "text/plain": [
       "<Figure size 1152x432 with 3 Axes>"
      ]
     },
     "metadata": {
      "needs_background": "light"
     },
     "output_type": "display_data"
    }
   ],
   "source": [
    "# Me creo una figura\n",
    "fig = plt.figure(figsize=(16,6))\n",
    "\n",
    "# Ahora hago 3 subplots\n",
    "# Fila 1 3 columnas gráfica 1\n",
    "ax1 = fig.add_subplot(131)\n",
    "# Fila 1 3 columnas gráfica 2\n",
    "ax2 = fig.add_subplot(132)\n",
    "# Fila 1 3 columnas gráfica 3\n",
    "ax3 = fig.add_subplot(133)\n",
    "\n",
    "\n",
    "sns.violinplot(x='Embarked', y = 'Age', hue='Survived', data = df, split=True,ax = ax1)\n",
    "sns.violinplot(x='Pclass', y = 'Age', hue='Survived', data = df, split=True, ax = ax2)\n",
    "sns.violinplot(x='Sex', y = 'Age', hue='Survived', data = df, split=True, ax = ax3)\n",
    "\n",
    "plt.show()\n",
    "\n",
    "# Esto me permite ver las areas más gordas mucho mejor."
   ]
  },
  {
   "cell_type": "code",
   "execution_count": null,
   "id": "01b3b9f5",
   "metadata": {},
   "outputs": [],
   "source": []
  },
  {
   "cell_type": "markdown",
   "id": "7c7bca83",
   "metadata": {},
   "source": [
    "Conclusiones:\n",
    "\n",
    "- EMBARKED y Age:\n",
    "\n",
    "    - La gente de unos 18 - 35 años de Q Si sobrevivieron moyoritariamente (NO todos)\n",
    "    - No hay porcentajes mayoritarios significativos en las otras 2 embarcaciones\n",
    "    - En Q embarcaronbastantes niños los cuales no sobrevivieron\n",
    "- PCLASS y Age:\n",
    "\n",
    "    - De la 2da clase sobre toda la 3ra sobrevivieron las mayoria de sis niños\n",
    "\n",
    "- Sex y Age:\n",
    "\n",
    "    - Hay más ancianos que ancianas\n",
    "    - Los jovenes (varón)menores de 20 años en general sobrevivieron pero no las muejres."
   ]
  },
  {
   "cell_type": "code",
   "execution_count": 46,
   "id": "db6332df",
   "metadata": {},
   "outputs": [
    {
     "data": {
      "text/html": [
       "<div>\n",
       "<style scoped>\n",
       "    .dataframe tbody tr th:only-of-type {\n",
       "        vertical-align: middle;\n",
       "    }\n",
       "\n",
       "    .dataframe tbody tr th {\n",
       "        vertical-align: top;\n",
       "    }\n",
       "\n",
       "    .dataframe thead th {\n",
       "        text-align: right;\n",
       "    }\n",
       "</style>\n",
       "<table border=\"1\" class=\"dataframe\">\n",
       "  <thead>\n",
       "    <tr style=\"text-align: right;\">\n",
       "      <th></th>\n",
       "      <th>Survived</th>\n",
       "      <th>Pclass</th>\n",
       "      <th>Age</th>\n",
       "      <th>SibSp</th>\n",
       "      <th>Parch</th>\n",
       "      <th>Fare</th>\n",
       "    </tr>\n",
       "  </thead>\n",
       "  <tbody>\n",
       "    <tr>\n",
       "      <th>count</th>\n",
       "      <td>891.000000</td>\n",
       "      <td>891.000000</td>\n",
       "      <td>714.000000</td>\n",
       "      <td>891.000000</td>\n",
       "      <td>891.000000</td>\n",
       "      <td>891.000000</td>\n",
       "    </tr>\n",
       "    <tr>\n",
       "      <th>mean</th>\n",
       "      <td>0.383838</td>\n",
       "      <td>2.308642</td>\n",
       "      <td>29.699118</td>\n",
       "      <td>0.523008</td>\n",
       "      <td>0.381594</td>\n",
       "      <td>32.204208</td>\n",
       "    </tr>\n",
       "    <tr>\n",
       "      <th>std</th>\n",
       "      <td>0.486592</td>\n",
       "      <td>0.836071</td>\n",
       "      <td>14.526497</td>\n",
       "      <td>1.102743</td>\n",
       "      <td>0.806057</td>\n",
       "      <td>49.693429</td>\n",
       "    </tr>\n",
       "    <tr>\n",
       "      <th>min</th>\n",
       "      <td>0.000000</td>\n",
       "      <td>1.000000</td>\n",
       "      <td>0.420000</td>\n",
       "      <td>0.000000</td>\n",
       "      <td>0.000000</td>\n",
       "      <td>0.000000</td>\n",
       "    </tr>\n",
       "    <tr>\n",
       "      <th>25%</th>\n",
       "      <td>0.000000</td>\n",
       "      <td>2.000000</td>\n",
       "      <td>20.125000</td>\n",
       "      <td>0.000000</td>\n",
       "      <td>0.000000</td>\n",
       "      <td>7.910400</td>\n",
       "    </tr>\n",
       "    <tr>\n",
       "      <th>50%</th>\n",
       "      <td>0.000000</td>\n",
       "      <td>3.000000</td>\n",
       "      <td>28.000000</td>\n",
       "      <td>0.000000</td>\n",
       "      <td>0.000000</td>\n",
       "      <td>14.454200</td>\n",
       "    </tr>\n",
       "    <tr>\n",
       "      <th>75%</th>\n",
       "      <td>1.000000</td>\n",
       "      <td>3.000000</td>\n",
       "      <td>38.000000</td>\n",
       "      <td>1.000000</td>\n",
       "      <td>0.000000</td>\n",
       "      <td>31.000000</td>\n",
       "    </tr>\n",
       "    <tr>\n",
       "      <th>max</th>\n",
       "      <td>1.000000</td>\n",
       "      <td>3.000000</td>\n",
       "      <td>80.000000</td>\n",
       "      <td>8.000000</td>\n",
       "      <td>6.000000</td>\n",
       "      <td>512.329200</td>\n",
       "    </tr>\n",
       "  </tbody>\n",
       "</table>\n",
       "</div>"
      ],
      "text/plain": [
       "         Survived      Pclass         Age       SibSp       Parch        Fare\n",
       "count  891.000000  891.000000  714.000000  891.000000  891.000000  891.000000\n",
       "mean     0.383838    2.308642   29.699118    0.523008    0.381594   32.204208\n",
       "std      0.486592    0.836071   14.526497    1.102743    0.806057   49.693429\n",
       "min      0.000000    1.000000    0.420000    0.000000    0.000000    0.000000\n",
       "25%      0.000000    2.000000   20.125000    0.000000    0.000000    7.910400\n",
       "50%      0.000000    3.000000   28.000000    0.000000    0.000000   14.454200\n",
       "75%      1.000000    3.000000   38.000000    1.000000    0.000000   31.000000\n",
       "max      1.000000    3.000000   80.000000    8.000000    6.000000  512.329200"
      ]
     },
     "execution_count": 46,
     "metadata": {},
     "output_type": "execute_result"
    }
   ],
   "source": [
    "# Quiero ver l rango de edades en la grafica\n",
    "# Min me muestra 0.42, que vienen siendo unos 5 meses\n",
    "# Pero en la gráfica llega hasta -20\n",
    "# Lo ideal sería que lo cortara en 0.42, pero lo hace así para darle continuidad hacia abajo y tenga una forma\n",
    "df.describe()"
   ]
  },
  {
   "cell_type": "markdown",
   "id": "6ed19489",
   "metadata": {},
   "source": [
    "### Head map"
   ]
  },
  {
   "cell_type": "code",
   "execution_count": 47,
   "id": "72038b3a",
   "metadata": {},
   "outputs": [
    {
     "data": {
      "image/png": "[encoded data removed]",
      "text/plain": [
       "<Figure size 576x576 with 2 Axes>"
      ]
     },
     "metadata": {
      "needs_background": "light"
     },
     "output_type": "display_data"
    }
   ],
   "source": [
    "plt.figure(figsize=(8,8))\n",
    "\n",
    "# La corelacion significa como se relaciona una columna con sigo misma y con todas las demás\n",
    "# Se relaciona X con Y que a sus vez tienen representadas todas las columnas\n",
    "sns.heatmap(df.corr(), annot=True)\n",
    "plt.show()"
   ]
  },
  {
   "cell_type": "markdown",
   "id": "c2a36eba",
   "metadata": {},
   "source": [
    "Conclusiones:\n",
    "\n",
    "- Existe una clara tendencia cuando se compara 'Age' con 'Fare'(Precio del billete). \n",
    "- Los niños (0-2) de primera clase (que pagaron más por el billete) fueron que los mejor sobrevivieron.\n",
    "- Tambíen queda reflejado cuando comparamos 'Survived' con 'Age'. Simepre son los menores de 2 años los que presentaron mayores posibilidades de sobrevivencia.\n",
    "- Sin embargo parece que lo recien nacidos (menores de 1 año) no tuvieron tasa de supervivencia (0.55)\n"
   ]
  },
  {
   "cell_type": "markdown",
   "id": "cc0fb5f7",
   "metadata": {},
   "source": [
    "### Barplot"
   ]
  },
  {
   "cell_type": "code",
   "execution_count": 48,
   "id": "727dc1a6",
   "metadata": {},
   "outputs": [
    {
     "data": {
      "image/png": "[encoded data removed]",
      "text/plain": [
       "<Figure size 432x288 with 1 Axes>"
      ]
     },
     "metadata": {},
     "output_type": "display_data"
    }
   ],
   "source": [
    "# Esto es una gráfica simple the Pclas con Survived\n",
    "# Esto es para que muestre el grid\n",
    "sns.set_style(\"whitegrid\")\n",
    "\n",
    "sns.barplot(x='Pclass',y='Survived', data=df).set(title='Sobrevivencia por clase')\n",
    "\n",
    "plt.show()"
   ]
  },
  {
   "cell_type": "markdown",
   "id": "cc78ed84",
   "metadata": {},
   "source": [
    "Conclusiones:\n",
    "\n",
    "- Los pasajeros de primera clase sobrevivieron más del doble que los pasajeros de tercera clase."
   ]
  },
  {
   "cell_type": "code",
   "execution_count": 49,
   "id": "588c3c77",
   "metadata": {},
   "outputs": [],
   "source": [
    "# Si quiero hacer más llamadas creo una funcion que recibe un parametro \n",
    "\n",
    "def funcion_graficas(feat):\n",
    "    plt.subplot(2,1,1)\n",
    "    df.groupby(feat).Survived.value_counts().plot(kind='bar',grid=True, title='Sobrevivencia por '+str(feat))\n",
    "    plt.figure(figsize=(12,8))\n",
    "    \n",
    "    # Aqui combino el plot con el SNS barplot\n",
    "    # La sintaxis cambia\n",
    "    \n",
    "    plt.subplot(2,1,2)\n",
    "    sns.barplot(x=feat, y='Survived', data=df).set(title='Sobrevivencia por '+str(feat))\n",
    "    plt.show()"
   ]
  },
  {
   "cell_type": "code",
   "execution_count": 50,
   "id": "16f225f9",
   "metadata": {},
   "outputs": [],
   "source": [
    "# Ahora solo tengo que cambiar el parámetro y hago todas las llamadas que necesite"
   ]
  },
  {
   "cell_type": "code",
   "execution_count": 51,
   "id": "13af30ec",
   "metadata": {},
   "outputs": [
    {
     "data": {
      "image/png": "[encoded data removed]",
      "text/plain": [
       "<Figure size 432x288 with 1 Axes>"
      ]
     },
     "metadata": {},
     "output_type": "display_data"
    },
    {
     "data": {
      "image/png": "[encoded data removed]",
      "text/plain": [
       "<Figure size 864x576 with 1 Axes>"
      ]
     },
     "metadata": {},
     "output_type": "display_data"
    }
   ],
   "source": [
    "funcion_graficas('Pclass')"
   ]
  },
  {
   "cell_type": "markdown",
   "id": "61408adf",
   "metadata": {},
   "source": [
    "Conclusiones:\n",
    "\n",
    "- La mayoría de muertos provenian de la tercera clase\n",
    "- Casi el triple de personas de primera clase sobrevivieron comparadas con tercera clase."
   ]
  },
  {
   "cell_type": "code",
   "execution_count": 52,
   "id": "724534eb",
   "metadata": {},
   "outputs": [
    {
     "data": {
      "image/png": "[encoded data removed]",
      "text/plain": [
       "<Figure size 432x288 with 1 Axes>"
      ]
     },
     "metadata": {},
     "output_type": "display_data"
    },
    {
     "data": {
      "image/png": "[encoded data removed]",
      "text/plain": [
       "<Figure size 864x576 with 1 Axes>"
      ]
     },
     "metadata": {},
     "output_type": "display_data"
    }
   ],
   "source": [
    "funcion_graficas('Sex')"
   ]
  },
  {
   "cell_type": "markdown",
   "id": "66757ab3",
   "metadata": {},
   "source": [
    "Conclusiones:\n",
    "\n",
    "- Murieron el doble de hombre que mujeres"
   ]
  },
  {
   "cell_type": "code",
   "execution_count": 53,
   "id": "008b23c6",
   "metadata": {},
   "outputs": [],
   "source": [
    "# Esto es un ejemplo del tipo de gráficos que es mejor no mostrar porque no tiene sentido\n",
    "# Este gráfico no muestra nada, se se adapta al tipo de gráfico\n",
    "# Es un ejemplo a tomar en cuenta\n",
    "\n",
    "#funcion_graficas('Age')"
   ]
  },
  {
   "cell_type": "code",
   "execution_count": 54,
   "id": "10ad7b15",
   "metadata": {},
   "outputs": [
    {
     "data": {
      "image/png": "[encoded data removed]",
      "text/plain": [
       "<Figure size 432x288 with 1 Axes>"
      ]
     },
     "metadata": {},
     "output_type": "display_data"
    },
    {
     "data": {
      "image/png": "[encoded data removed]",
      "text/plain": [
       "<Figure size 864x576 with 1 Axes>"
      ]
     },
     "metadata": {},
     "output_type": "display_data"
    }
   ],
   "source": [
    "# Siblings and Spouse\n",
    "# Las personas que iba como hermanos (as) o esposos(as)\n",
    "funcion_graficas('SibSp')"
   ]
  },
  {
   "cell_type": "markdown",
   "id": "f0f5cd31",
   "metadata": {},
   "source": [
    "Conclusiones:\n",
    "\n",
    "- Las personas que tenían solo un familiar abordo sobrevivieron más\n",
    "- Las personas con más de cuatro familiares abordo sobrevivieron menos"
   ]
  },
  {
   "cell_type": "code",
   "execution_count": 55,
   "id": "1e2cc9a8",
   "metadata": {},
   "outputs": [
    {
     "data": {
      "image/png": "[encoded data removed]",
      "text/plain": [
       "<Figure size 432x288 with 1 Axes>"
      ]
     },
     "metadata": {},
     "output_type": "display_data"
    },
    {
     "data": {
      "image/png": "[encoded data removed]",
      "text/plain": [
       "<Figure size 864x576 with 1 Axes>"
      ]
     },
     "metadata": {},
     "output_type": "display_data"
    }
   ],
   "source": [
    "# PARCH el el numero de parents & childrens que estaban abordo.\n",
    "funcion_graficas('Parch')"
   ]
  },
  {
   "cell_type": "markdown",
   "id": "1078d737",
   "metadata": {},
   "source": [
    "Conclusiones:\n",
    "\n",
    "- Murieron menos personas que tenían a sus padres o hijos abordo.\n",
    "- Según la gráfica hubo más posibilidades de sobrevivir cuando los miembros de la familia eran 3\n",
    "- Sin embargo cunado eran familias de más de 5 miembros las posibilidades de sobrevivencia diminuyeron muchisimo."
   ]
  },
  {
   "cell_type": "code",
   "execution_count": 56,
   "id": "635ef46d",
   "metadata": {},
   "outputs": [
    {
     "data": {
      "image/png": "[encoded data removed]",
      "text/plain": [
       "<Figure size 432x288 with 1 Axes>"
      ]
     },
     "metadata": {},
     "output_type": "display_data"
    },
    {
     "data": {
      "image/png": "[encoded data removed]",
      "text/plain": [
       "<Figure size 864x576 with 1 Axes>"
      ]
     },
     "metadata": {},
     "output_type": "display_data"
    }
   ],
   "source": [
    "funcion_graficas('Embarked')"
   ]
  },
  {
   "cell_type": "markdown",
   "id": "b59938c4",
   "metadata": {},
   "source": [
    "Conclusiones:\n",
    "\n",
    "- Las personas que embarcaron por la 'C' sobrevivieron más\n",
    "- Murieron más personas que embarcaron por la puerta 'S'"
   ]
  },
  {
   "cell_type": "code",
   "execution_count": null,
   "id": "f7335984",
   "metadata": {},
   "outputs": [],
   "source": []
  },
  {
   "cell_type": "markdown",
   "id": "189c36f6",
   "metadata": {},
   "source": [
    "## Segunda parte de la actividad 4: (hasta 4 puntos)\n"
   ]
  },
  {
   "cell_type": "markdown",
   "id": "90947989",
   "metadata": {},
   "source": [
    "##### Pregunta -1-\n",
    "\n",
    "-Si estás trabajando con un set de datos, y necesitas ver rápidamente la\n",
    "información de una columna con un gráfico.\n",
    "\n",
    "-¿Qué librería usarías? ¿Por qué? \n",
    "Si quieres puedes añadir un ejemplo. No es necesario, no obstante.\n"
   ]
  },
  {
   "cell_type": "markdown",
   "id": "572079ac",
   "metadata": {},
   "source": [
    "    - Si quiero hacer un gráfico rápido de una columna o dos , la mejor opcion es Pandas.\n",
    "    - Tan solo con adjuntar un .plot() a un data frame se puede generar un gráfico."
   ]
  },
  {
   "cell_type": "code",
   "execution_count": 57,
   "id": "f2eda053",
   "metadata": {},
   "outputs": [
    {
     "data": {
      "text/plain": [
       "<AxesSubplot:>"
      ]
     },
     "execution_count": 57,
     "metadata": {},
     "output_type": "execute_result"
    },
    {
     "data": {
      "image/png": "[encoded data removed]",
      "text/plain": [
       "<Figure size 432x288 with 1 Axes>"
      ]
     },
     "metadata": {},
     "output_type": "display_data"
    }
   ],
   "source": [
    "import pandas as pd\n",
    "import matplotlib.pyplot as plt\n",
    "df = pd.DataFrame({\"X\": [10,20,30,40,50],\"y\":[15,5,10,8,6]})\n",
    "df.plot()"
   ]
  },
  {
   "cell_type": "markdown",
   "id": "dad73dc3",
   "metadata": {},
   "source": [
    "#### Pregunta -2-\n",
    "\n",
    "- ¿Te parece difícil la forma en que creamos “nuevos DataFrames”?\n",
    "(seleccionando solo ciertas filas o columnas, bajo ciertas condiciones o\n",
    "premisas).\n",
    "\n",
    "Nota: Sobre esto hemos hablado en el punto 5 del Manual\n",
    "(Esta parte será puntuada solamente por el mero hecho de responder a la\n",
    "misma, independientemente de lo que se diga).\n",
    "\n",
    "\n"
   ]
  },
  {
   "cell_type": "markdown",
   "id": "3c0e0ec8",
   "metadata": {},
   "source": [
    "- No me parece difícil, pero si es importante tener cuidado a la hora de utilizar varias condiciones. \n",
    "\n",
    "- Al unirse varias condiciones se puede filtrar mucho mejor de manera fácil.\n",
    "    \n",
    "> Es importante saber que aveces el **&** funciona mejor que un **and** a la hora de unir condiciones. \n",
    "    \n",
    "- Es una buena opción cuando se quiere hilbanar más fino dentro de un segmento de datos específico. \n",
    "\n",
    "\n",
    "\n"
   ]
  },
  {
   "cell_type": "markdown",
   "id": "e6a46300",
   "metadata": {},
   "source": [
    "#### Pregunta -3-\n",
    "\n",
    "- Busca algo de información acerca de “Heatmap” y explica con tus palabras lo\n",
    "que consideres oportuno\n",
    "\n",
    "- Puedes añadir ejemplos o lo que quieras.\n"
   ]
  },
  {
   "cell_type": "markdown",
   "id": "19bff69b",
   "metadata": {},
   "source": [
    "Es una librería de Seaborn que nos permite realizar gráficas de matrices de forma ***color-encoded***.\n",
    "\n",
    "De esta manera los valores más grandes se representaban en pequeños cuadrados (píxeles) grises o negros y los valores más pequeños en otros cuadrados más claros.\n",
    "\n",
    "##### La siguiente es la forma básica:\n"
   ]
  },
  {
   "cell_type": "code",
   "execution_count": 58,
   "id": "2d665f19",
   "metadata": {},
   "outputs": [
    {
     "data": {
      "image/png": "[encoded data removed]",
      "text/plain": [
       "<Figure size 432x288 with 2 Axes>"
      ]
     },
     "metadata": {},
     "output_type": "display_data"
    }
   ],
   "source": [
    "sns.set_theme()\n",
    "\n",
    "# Utilizamos un array numpy en lugar de un dataset\n",
    "uniform_data = np.random.rand(10, 12)\n",
    "ax = sns.heatmap(uniform_data)"
   ]
  },
  {
   "cell_type": "code",
   "execution_count": 59,
   "id": "95406b7b",
   "metadata": {},
   "outputs": [
    {
     "data": {
      "image/png": "[encoded data removed]",
      "text/plain": [
       "<Figure size 432x288 with 2 Axes>"
      ]
     },
     "metadata": {},
     "output_type": "display_data"
    }
   ],
   "source": [
    "#También es posible cambiar el tono de la escala de colores\n",
    "normal_data = np.random.randn(10, 12)\n",
    "ax = sns.heatmap(normal_data, center=0,  cmap=\"YlGnBu\")"
   ]
  },
  {
   "cell_type": "markdown",
   "id": "b1a70d5b",
   "metadata": {},
   "source": [
    "#### Pregunta -4-\n",
    "\n",
    "Hemos usado diferentes tipos de gráficos.\n",
    "\n",
    "- ¿Se entiende bien cuando usar un “violinplot” o un “factorplot” por ejemplo?\n",
    "\n",
    "- ¿Serías capaz de emplearlo en otro set de datos?\n",
    "\n",
    "(Esta parte de la actividad será puntuada solamente por el mero hecho de\n",
    "ser respondida, independientemente de lo que se diga).\n",
    "\n",
    "Recuerda que existen más tipos de Gráficos, no obstante, y lo más\n",
    "importante es la “extracción de información” de los mismos"
   ]
  },
  {
   "cell_type": "markdown",
   "id": "92383eee",
   "metadata": {},
   "source": [
    "- Violin plot te deja ver los datos de una manera más simple. Es fácil relacionar el volumen de las areas con los datos que se buscan.\n",
    "\n",
    "- Se utiliza mejor cuando se requiere comparar muchas columnas entres sí.\n",
    "\n",
    "- Me parece que si podróa implementar en otra set de datos."
   ]
  },
  {
   "cell_type": "code",
   "execution_count": null,
   "id": "11c647ac",
   "metadata": {},
   "outputs": [],
   "source": []
  }
 ],
 "metadata": {
  "kernelspec": {
   "display_name": "Python 3 (ipykernel)",
   "language": "python",
   "name": "python3"
  },
  "language_info": {
   "codemirror_mode": {
    "name": "ipython",
    "version": 3
   },
   "file_extension": ".py",
   "mimetype": "text/x-python",
   "name": "python",
   "nbconvert_exporter": "python",
   "pygments_lexer": "ipython3",
   "version": "3.8.5"
  }
 },
 "nbformat": 4,
 "nbformat_minor": 5
}
