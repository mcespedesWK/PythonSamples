{
 "cells": [
  {
   "cell_type": "markdown",
   "id": "be37099a",
   "metadata": {},
   "source": [
    "# Importamos nuestras dependencias"
   ]
  },
  {
   "cell_type": "code",
   "execution_count": 1,
   "id": "f87081bd",
   "metadata": {},
   "outputs": [],
   "source": [
    "# Principales dependencias\n",
    "import pandas as pd\n",
    "import numpy as np\n",
    "import matplotlib.pyplot as plt\n",
    "import seaborn as sns"
   ]
  },
  {
   "cell_type": "code",
   "execution_count": null,
   "id": "9dc42d37",
   "metadata": {},
   "outputs": [],
   "source": [
    "# Importamos algunos algoritmos de clasificacion\n",
    "\n",
    "from sklearn.neighbors import KNeighborsClassifier\n",
    "from sklearn.tree import DecisionTreeClassifier\n",
    "from sklearn.ensemble import RandomForestClassifier\n",
    "from sklearn.naive_bayes import GaussianNB\n",
    "from sklearn.svm import SVC"
   ]
  },
  {
   "cell_type": "code",
   "execution_count": null,
   "id": "373e1e31",
   "metadata": {},
   "outputs": [],
   "source": [
    "# Una posible fomra de evaluar nuestro modleo\n",
    "from sklearn.metrics import accuracy_score"
   ]
  },
  {
   "cell_type": "markdown",
   "id": "404dac33",
   "metadata": {},
   "source": [
    "# Tratamos de entender el problema"
   ]
  },
  {
   "cell_type": "markdown",
   "id": "4f1bf87c",
   "metadata": {},
   "source": [
    "### Obtenemos los datso del dataset"
   ]
  },
  {
   "cell_type": "code",
   "execution_count": null,
   "id": "b92a4014",
   "metadata": {},
   "outputs": [],
   "source": [
    "# Lo primero es importar el dataset.\n",
    "# Como ahora tenemos 3 hay que recordar como funciona\n",
    "# TRAIN viene siendo lo que era el IRIS dataset\n",
    "# Lo dividimos en train y test\n",
    "# Dentro de la porcion de test incluimos el dataset TEST que tendrá todas las columnas excepto Survived (Y predecida)\n",
    "# Realizaremos las predicciones y completamos la columna Survived dentro del archivo TEST\n",
    "# Esta informacion la utilizamos para finalmente trabajar con el dataset GENDER SBMITION \n",
    "# Realizamos la prediccion de los sobrevivientes por sexo.\n",
    "df = pd.read_csv('datasets/train.csv')"
   ]
  },
  {
   "cell_type": "code",
   "execution_count": null,
   "id": "003ddc70",
   "metadata": {},
   "outputs": [],
   "source": [
    "df.head()"
   ]
  },
  {
   "cell_type": "markdown",
   "id": "281f8bf9",
   "metadata": {},
   "source": [
    "#### Borro columna PassegerID"
   ]
  },
  {
   "cell_type": "code",
   "execution_count": null,
   "id": "2e9fc82f",
   "metadata": {},
   "outputs": [],
   "source": [
    "# Esta columna la borro porque no aporta nada a la prediccion\n",
    "# Mencionno el nombre de la columna como parámetro y axis=1\n",
    "df = df.drop('PassengerId', axis = 1)"
   ]
  },
  {
   "cell_type": "markdown",
   "id": "244f8035",
   "metadata": {},
   "source": [
    "# Exploratory Data analysis (EDA)"
   ]
  },
  {
   "cell_type": "code",
   "execution_count": null,
   "id": "c99c657f",
   "metadata": {},
   "outputs": [],
   "source": []
  }
 ],
 "metadata": {
  "kernelspec": {
   "display_name": "Python 3 (ipykernel)",
   "language": "python",
   "name": "python3"
  },
  "language_info": {
   "codemirror_mode": {
    "name": "ipython",
    "version": 3
   },
   "file_extension": ".py",
   "mimetype": "text/x-python",
   "name": "python",
   "nbconvert_exporter": "python",
   "pygments_lexer": "ipython3",
   "version": "3.8.5"
  }
 },
 "nbformat": 4,
 "nbformat_minor": 5
}
