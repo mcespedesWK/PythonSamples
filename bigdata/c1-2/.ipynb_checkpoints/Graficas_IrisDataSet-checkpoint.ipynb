{
 "cells": [
  {
   "cell_type": "markdown",
   "id": "e38d09a4",
   "metadata": {},
   "source": [
    "# Principales dependencias"
   ]
  },
  {
   "cell_type": "code",
   "execution_count": 2,
   "id": "f3811c59",
   "metadata": {},
   "outputs": [],
   "source": [
    "import pandas as pd\n",
    "import numpy as np\n",
    "import matplotlib.pyplot as plt\n",
    "import seaborn as sns"
   ]
  },
  {
   "cell_type": "markdown",
   "id": "540556f5",
   "metadata": {},
   "source": [
    "### La forma más rápida de hacer una gráfica"
   ]
  },
  {
   "cell_type": "markdown",
   "id": "de712e15",
   "metadata": {},
   "source": [
    "          \n",
    "|            PANDAS              |         MATPLOTLIB         |       \n",
    "| ------------------------------ | -------------------------- | \n",
    "| Si se trabaja con dataFrames   |  Muchísismo soporte        |\n",
    "| simples (una columna)          |  - Tkinter                 |\n",
    "| Para cosas complicadas es      |  - Estadisticas            | \n",
    "| mucho codigo                   |  - Menos lineas            |         \n",
    "|                                |  - Excel                   |             "
   ]
  },
  {
   "cell_type": "markdown",
   "id": "e8b74770",
   "metadata": {},
   "source": [
    "# DataFrame"
   ]
  },
  {
   "cell_type": "code",
   "execution_count": 16,
   "id": "b2086bb1",
   "metadata": {},
   "outputs": [
    {
     "data": {
      "text/html": [
       "<div>\n",
       "<style scoped>\n",
       "    .dataframe tbody tr th:only-of-type {\n",
       "        vertical-align: middle;\n",
       "    }\n",
       "\n",
       "    .dataframe tbody tr th {\n",
       "        vertical-align: top;\n",
       "    }\n",
       "\n",
       "    .dataframe thead th {\n",
       "        text-align: right;\n",
       "    }\n",
       "</style>\n",
       "<table border=\"1\" class=\"dataframe\">\n",
       "  <thead>\n",
       "    <tr style=\"text-align: right;\">\n",
       "      <th></th>\n",
       "      <th>sepal_length</th>\n",
       "      <th>sepal_width</th>\n",
       "      <th>petal_length</th>\n",
       "      <th>petal_width</th>\n",
       "      <th>species</th>\n",
       "    </tr>\n",
       "  </thead>\n",
       "  <tbody>\n",
       "    <tr>\n",
       "      <th>0</th>\n",
       "      <td>5.1</td>\n",
       "      <td>3.5</td>\n",
       "      <td>1.4</td>\n",
       "      <td>0.2</td>\n",
       "      <td>setosa</td>\n",
       "    </tr>\n",
       "    <tr>\n",
       "      <th>1</th>\n",
       "      <td>4.9</td>\n",
       "      <td>3.0</td>\n",
       "      <td>1.4</td>\n",
       "      <td>0.2</td>\n",
       "      <td>setosa</td>\n",
       "    </tr>\n",
       "    <tr>\n",
       "      <th>2</th>\n",
       "      <td>4.7</td>\n",
       "      <td>3.2</td>\n",
       "      <td>1.3</td>\n",
       "      <td>0.2</td>\n",
       "      <td>setosa</td>\n",
       "    </tr>\n",
       "    <tr>\n",
       "      <th>3</th>\n",
       "      <td>4.6</td>\n",
       "      <td>3.1</td>\n",
       "      <td>1.5</td>\n",
       "      <td>0.2</td>\n",
       "      <td>setosa</td>\n",
       "    </tr>\n",
       "    <tr>\n",
       "      <th>4</th>\n",
       "      <td>5.0</td>\n",
       "      <td>3.6</td>\n",
       "      <td>1.4</td>\n",
       "      <td>0.2</td>\n",
       "      <td>setosa</td>\n",
       "    </tr>\n",
       "  </tbody>\n",
       "</table>\n",
       "</div>"
      ],
      "text/plain": [
       "   sepal_length  sepal_width  petal_length  petal_width species\n",
       "0           5.1          3.5           1.4          0.2  setosa\n",
       "1           4.9          3.0           1.4          0.2  setosa\n",
       "2           4.7          3.2           1.3          0.2  setosa\n",
       "3           4.6          3.1           1.5          0.2  setosa\n",
       "4           5.0          3.6           1.4          0.2  setosa"
      ]
     },
     "execution_count": 16,
     "metadata": {},
     "output_type": "execute_result"
    }
   ],
   "source": [
    "# El archivo se encuentra en el directorio principal del proyecto\n",
    "# Retrocedo un directorio (../)\n",
    "df = pd.read_csv(\"../iris.csv\")\n",
    "\n",
    "df.head()"
   ]
  },
  {
   "cell_type": "markdown",
   "id": "c23fd786",
   "metadata": {},
   "source": [
    "# Gráfico con Pandas - Pétalo"
   ]
  },
  {
   "cell_type": "code",
   "execution_count": 18,
   "id": "f49dc4e0",
   "metadata": {},
   "outputs": [
    {
     "data": {
      "image/png": "[encoded data removed]",
      "text/plain": [
       "<Figure size 460.8x460.8 with 1 Axes>"
      ]
     },
     "metadata": {
      "needs_background": "light"
     },
     "output_type": "display_data"
    }
   ],
   "source": [
    "# Grafico del petalo ------ Longitud vs ancho\n",
    "# En la figura vamos a meter las tres graficas para que todas queden ene el mismo sitio\n",
    "# Creamos un dataset con solo la columna  \"Species\" solo los valores \"setosa\"\n",
    "# Al ponerle un \"plot\" de decimos que genera la grafica\n",
    "# Esto lo guarda en la variable \"figura\"\n",
    "figura = df[df.species == 'setosa'].plot(kind= 'scatter',\n",
    "                                        x = 'petal_length', y = 'petal_width',\n",
    "                                        color = 'blue', label= 'Setosa',\n",
    "                                        figsize=(6.4, 6.4))\n",
    "# Ahora tengo que relacionar las otras graficas con la principal \"figura\"\n",
    "# Esto se logra con el parametro \"ax\"\n",
    "df[df.species == 'versicolor'].plot(kind= 'scatter',\n",
    "                                        x = 'petal_length', y = 'petal_width',\n",
    "                                        color = 'orange', label= 'Versicolor',\n",
    "                                        ax= figura)\n",
    "\n",
    "df[df.species == 'virginica'].plot(kind= 'scatter',\n",
    "                                        x = 'petal_length', y = 'petal_width',\n",
    "                                        color = 'green', label= 'Virginica',\n",
    "                                        ax= figura)\n",
    "\n",
    "figura.set_xlabel('Longitud')\n",
    "figura.set_ylabel('Anchura')\n",
    "figura.set_title('Grafica para el pétalo con Pandas')\n",
    "# En Jupyter no es necesario este paso\n",
    "# Otros ambientes no lo autocompletan\n",
    "plt.show()"
   ]
  },
  {
   "cell_type": "markdown",
   "id": "f084e207",
   "metadata": {},
   "source": [
    "# Gráfico con Matplolib - Pétalo"
   ]
  },
  {
   "cell_type": "code",
   "execution_count": 23,
   "id": "995b3aa0",
   "metadata": {},
   "outputs": [
    {
     "data": {
      "image/png": "[encoded data removed]",
      "text/plain": [
       "<Figure size 460.8x460.8 with 1 Axes>"
      ]
     },
     "metadata": {
      "needs_background": "light"
     },
     "output_type": "display_data"
    }
   ],
   "source": [
    "# Cuando se requieren multiple parametros es necesario utilizar otras librerias\n",
    "df_set = df[df.species=='setosa']\n",
    "df_vers= df[df.species=='versicolor']\n",
    "df_virg= df[df.species=='virginica']\n",
    "\n",
    "fig = plt.figure(figsize=(6.4,6.4))\n",
    "\n",
    "# Esto siginifa la posicion dendo quedan los grafico\n",
    "# Filas - Columnas - Graficos\n",
    "ax1 = fig.add_subplot(111)\n",
    "\n",
    "# \"s\" es el tamaño que tendrá los puntos \n",
    "ax1.scatter(df_set['petal_length'], df_set['petal_width'], s=10, c='blue', label='setosa')\n",
    "ax1.scatter(df_vers['petal_length'], df_vers['petal_width'], s=10, c='orange', label='versicolor')\n",
    "ax1.scatter(df_virg['petal_length'], df_virg['petal_width'], s=10, c='green', label='virginica')\n",
    "\n",
    "# Donde coloco las leganda de las variables\n",
    "plt.legend(loc='upper left')\n",
    "plt.title('Grafica para el pétalo - Matplotlib')\n",
    "plt.xlabel('Longitud')\n",
    "plt.ylabel('Anchura')\n",
    "plt.show()"
   ]
  },
  {
   "cell_type": "markdown",
   "id": "b9a1eacc",
   "metadata": {},
   "source": [
    "# Gráfico con Seaborn"
   ]
  },
  {
   "cell_type": "code",
   "execution_count": 25,
   "id": "462fa93b",
   "metadata": {},
   "outputs": [
    {
     "data": {
      "image/png": "[encoded data removed]",
      "text/plain": [
       "<Figure size 545.55x460.8 with 1 Axes>"
      ]
     },
     "metadata": {
      "needs_background": "light"
     },
     "output_type": "display_data"
    }
   ],
   "source": [
    "sns.FacetGrid(df, hue='species', height= 6.4)\\\n",
    "    .map(plt.scatter,'petal_length','petal_width')\\\n",
    "    .add_legend()\n",
    "plt.title('Gráfica Pétalo ---- Seaborn')\n",
    "plt.show()"
   ]
  },
  {
   "cell_type": "code",
   "execution_count": null,
   "id": "9132b594",
   "metadata": {},
   "outputs": [],
   "source": []
  }
 ],
 "metadata": {
  "kernelspec": {
   "display_name": "Python 3 (ipykernel)",
   "language": "python",
   "name": "python3"
  },
  "language_info": {
   "codemirror_mode": {
    "name": "ipython",
    "version": 3
   },
   "file_extension": ".py",
   "mimetype": "text/x-python",
   "name": "python",
   "nbconvert_exporter": "python",
   "pygments_lexer": "ipython3",
   "version": "3.8.5"
  }
 },
 "nbformat": 4,
 "nbformat_minor": 5
}
