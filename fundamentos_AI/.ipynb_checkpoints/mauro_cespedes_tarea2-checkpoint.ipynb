{
 "cells": [
  {
   "cell_type": "markdown",
   "id": "a9824771",
   "metadata": {},
   "source": [
    "## Calcular las métricas de evaluación en regresión, clasificación binaria y clasificación multiclase."
   ]
  },
  {
   "cell_type": "markdown",
   "id": "06046175",
   "metadata": {},
   "source": [
    "### 1. Dado un conjunto de 30 datos de test, con la variable objetivo real y la salida proporcionada por dos modelos.\n",
    "- a. Calcular las métricas de regresión para cada modelo.\n",
    "- b. En función de los resultados, decidir qué modelo es mejor"
   ]
  },
  {
   "cell_type": "code",
   "execution_count": 1,
   "id": "ba495b6f",
   "metadata": {},
   "outputs": [
    {
     "data": {
      "text/html": [
       "<div>\n",
       "<style scoped>\n",
       "    .dataframe tbody tr th:only-of-type {\n",
       "        vertical-align: middle;\n",
       "    }\n",
       "\n",
       "    .dataframe tbody tr th {\n",
       "        vertical-align: top;\n",
       "    }\n",
       "\n",
       "    .dataframe thead th {\n",
       "        text-align: right;\n",
       "    }\n",
       "</style>\n",
       "<table border=\"1\" class=\"dataframe\">\n",
       "  <thead>\n",
       "    <tr style=\"text-align: right;\">\n",
       "      <th></th>\n",
       "      <th>y_objetivo</th>\n",
       "      <th>pred_m1</th>\n",
       "      <th>pred_m2</th>\n",
       "    </tr>\n",
       "  </thead>\n",
       "  <tbody>\n",
       "    <tr>\n",
       "      <th>0</th>\n",
       "      <td>2.50</td>\n",
       "      <td>3.00</td>\n",
       "      <td>2.0</td>\n",
       "    </tr>\n",
       "    <tr>\n",
       "      <th>1</th>\n",
       "      <td>3.00</td>\n",
       "      <td>2.90</td>\n",
       "      <td>2.0</td>\n",
       "    </tr>\n",
       "    <tr>\n",
       "      <th>2</th>\n",
       "      <td>1.60</td>\n",
       "      <td>2.00</td>\n",
       "      <td>2.0</td>\n",
       "    </tr>\n",
       "    <tr>\n",
       "      <th>3</th>\n",
       "      <td>8.00</td>\n",
       "      <td>8.10</td>\n",
       "      <td>7.0</td>\n",
       "    </tr>\n",
       "    <tr>\n",
       "      <th>4</th>\n",
       "      <td>4.56</td>\n",
       "      <td>4.00</td>\n",
       "      <td>5.0</td>\n",
       "    </tr>\n",
       "    <tr>\n",
       "      <th>5</th>\n",
       "      <td>5.25</td>\n",
       "      <td>5.00</td>\n",
       "      <td>5.0</td>\n",
       "    </tr>\n",
       "    <tr>\n",
       "      <th>6</th>\n",
       "      <td>7.00</td>\n",
       "      <td>7.80</td>\n",
       "      <td>8.0</td>\n",
       "    </tr>\n",
       "    <tr>\n",
       "      <th>7</th>\n",
       "      <td>5.25</td>\n",
       "      <td>6.00</td>\n",
       "      <td>5.0</td>\n",
       "    </tr>\n",
       "    <tr>\n",
       "      <th>8</th>\n",
       "      <td>6.50</td>\n",
       "      <td>6.00</td>\n",
       "      <td>7.0</td>\n",
       "    </tr>\n",
       "    <tr>\n",
       "      <th>9</th>\n",
       "      <td>10.50</td>\n",
       "      <td>10.00</td>\n",
       "      <td>11.0</td>\n",
       "    </tr>\n",
       "    <tr>\n",
       "      <th>10</th>\n",
       "      <td>25.00</td>\n",
       "      <td>10.00</td>\n",
       "      <td>24.0</td>\n",
       "    </tr>\n",
       "    <tr>\n",
       "      <th>11</th>\n",
       "      <td>2.30</td>\n",
       "      <td>2.00</td>\n",
       "      <td>2.0</td>\n",
       "    </tr>\n",
       "    <tr>\n",
       "      <th>12</th>\n",
       "      <td>5.40</td>\n",
       "      <td>5.00</td>\n",
       "      <td>6.0</td>\n",
       "    </tr>\n",
       "    <tr>\n",
       "      <th>13</th>\n",
       "      <td>6.80</td>\n",
       "      <td>7.00</td>\n",
       "      <td>8.0</td>\n",
       "    </tr>\n",
       "    <tr>\n",
       "      <th>14</th>\n",
       "      <td>7.90</td>\n",
       "      <td>8.50</td>\n",
       "      <td>8.5</td>\n",
       "    </tr>\n",
       "    <tr>\n",
       "      <th>15</th>\n",
       "      <td>4.50</td>\n",
       "      <td>4.00</td>\n",
       "      <td>5.0</td>\n",
       "    </tr>\n",
       "    <tr>\n",
       "      <th>16</th>\n",
       "      <td>3.50</td>\n",
       "      <td>4.00</td>\n",
       "      <td>5.0</td>\n",
       "    </tr>\n",
       "    <tr>\n",
       "      <th>17</th>\n",
       "      <td>3.00</td>\n",
       "      <td>4.50</td>\n",
       "      <td>4.5</td>\n",
       "    </tr>\n",
       "    <tr>\n",
       "      <th>18</th>\n",
       "      <td>2.00</td>\n",
       "      <td>2.50</td>\n",
       "      <td>3.0</td>\n",
       "    </tr>\n",
       "    <tr>\n",
       "      <th>19</th>\n",
       "      <td>1.00</td>\n",
       "      <td>1.23</td>\n",
       "      <td>0.9</td>\n",
       "    </tr>\n",
       "    <tr>\n",
       "      <th>20</th>\n",
       "      <td>0.00</td>\n",
       "      <td>1.00</td>\n",
       "      <td>0.5</td>\n",
       "    </tr>\n",
       "    <tr>\n",
       "      <th>21</th>\n",
       "      <td>5.60</td>\n",
       "      <td>5.00</td>\n",
       "      <td>6.0</td>\n",
       "    </tr>\n",
       "    <tr>\n",
       "      <th>22</th>\n",
       "      <td>7.00</td>\n",
       "      <td>6.80</td>\n",
       "      <td>7.3</td>\n",
       "    </tr>\n",
       "    <tr>\n",
       "      <th>23</th>\n",
       "      <td>8.50</td>\n",
       "      <td>9.60</td>\n",
       "      <td>9.0</td>\n",
       "    </tr>\n",
       "    <tr>\n",
       "      <th>24</th>\n",
       "      <td>9.00</td>\n",
       "      <td>10.20</td>\n",
       "      <td>10.0</td>\n",
       "    </tr>\n",
       "    <tr>\n",
       "      <th>25</th>\n",
       "      <td>10.20</td>\n",
       "      <td>10.00</td>\n",
       "      <td>10.0</td>\n",
       "    </tr>\n",
       "    <tr>\n",
       "      <th>26</th>\n",
       "      <td>5.00</td>\n",
       "      <td>4.90</td>\n",
       "      <td>5.2</td>\n",
       "    </tr>\n",
       "    <tr>\n",
       "      <th>27</th>\n",
       "      <td>4.30</td>\n",
       "      <td>4.00</td>\n",
       "      <td>4.6</td>\n",
       "    </tr>\n",
       "    <tr>\n",
       "      <th>28</th>\n",
       "      <td>2.00</td>\n",
       "      <td>0.00</td>\n",
       "      <td>1.9</td>\n",
       "    </tr>\n",
       "    <tr>\n",
       "      <th>29</th>\n",
       "      <td>4.30</td>\n",
       "      <td>4.00</td>\n",
       "      <td>5.0</td>\n",
       "    </tr>\n",
       "  </tbody>\n",
       "</table>\n",
       "</div>"
      ],
      "text/plain": [
       "    y_objetivo  pred_m1  pred_m2\n",
       "0         2.50     3.00      2.0\n",
       "1         3.00     2.90      2.0\n",
       "2         1.60     2.00      2.0\n",
       "3         8.00     8.10      7.0\n",
       "4         4.56     4.00      5.0\n",
       "5         5.25     5.00      5.0\n",
       "6         7.00     7.80      8.0\n",
       "7         5.25     6.00      5.0\n",
       "8         6.50     6.00      7.0\n",
       "9        10.50    10.00     11.0\n",
       "10       25.00    10.00     24.0\n",
       "11        2.30     2.00      2.0\n",
       "12        5.40     5.00      6.0\n",
       "13        6.80     7.00      8.0\n",
       "14        7.90     8.50      8.5\n",
       "15        4.50     4.00      5.0\n",
       "16        3.50     4.00      5.0\n",
       "17        3.00     4.50      4.5\n",
       "18        2.00     2.50      3.0\n",
       "19        1.00     1.23      0.9\n",
       "20        0.00     1.00      0.5\n",
       "21        5.60     5.00      6.0\n",
       "22        7.00     6.80      7.3\n",
       "23        8.50     9.60      9.0\n",
       "24        9.00    10.20     10.0\n",
       "25       10.20    10.00     10.0\n",
       "26        5.00     4.90      5.2\n",
       "27        4.30     4.00      4.6\n",
       "28        2.00     0.00      1.9\n",
       "29        4.30     4.00      5.0"
      ]
     },
     "execution_count": 1,
     "metadata": {},
     "output_type": "execute_result"
    }
   ],
   "source": [
    "import numpy as np\n",
    "import pandas as pd\n",
    "import statistics\n",
    "\n",
    "A = np.matrix('2.5 3 2; 3 2.9 2;1.6 2 2;8 8.1 7;4.56 4 5;5.25 5 5;7 7.8 8; 5.25 6 5;6.5 6 7;10.5 10 11;25 10 24;2.3 2 2;5.4 5 6; 6.8 7 8; 7.9 8.5 8.5;4.5 4 5;3.5 4 5;3 4.5 4.5; 2 2.5 3; 1 1.23 0.9; 0 1 0.5; 5.6 5 6;7 6.8 7.3; 8.5 9.6 9; 9 10.2 10;10.2 10 10;5 4.9 5.2; 4.3 4 4.6;2 0 1.9; 4.3 4 5')\n",
    "df = pd.DataFrame(A, columns = ['y_objetivo','pred_m1','pred_m2'])\n",
    "df"
   ]
  },
  {
   "cell_type": "markdown",
   "id": "2474953b",
   "metadata": {},
   "source": [
    "Ahora es necesario calcular la media y la varianza para poder normalizar los datos de ambas predicciones"
   ]
  },
  {
   "cell_type": "code",
   "execution_count": 2,
   "id": "1d8253bf",
   "metadata": {},
   "outputs": [
    {
     "name": "stdout",
     "output_type": "stream",
     "text": [
      "Mediana de la predicción 1 es : 4.95\n",
      "Mediana de la predicción 2 es : 5.0\n",
      " \n",
      "Varianza de la predicción 1 es : 2.4258666666666664\n",
      "Varianza de la predicción 2 es : 2.9102222222222216\n"
     ]
    }
   ],
   "source": [
    "# Using statistics.median() from statistics\n",
    "media1 = statistics.median(df.pred_m1)\n",
    "media2 = statistics.median(df.pred_m2)\n",
    "\n",
    "# Deviacion media\n",
    "varianza1 = df.pred_m1.mad()\n",
    "varianza2 = df.pred_m2.mad()\n",
    "\n",
    "# Printing result\n",
    "print(\"Mediana de la predicción 1 es : \" + str(media1))\n",
    "print(\"Mediana de la predicción 2 es : \" + str(media2))\n",
    "print(' ')\n",
    "print(\"Varianza de la predicción 1 es : \" + str(varianza1))\n",
    "print(\"Varianza de la predicción 2 es : \" + str(varianza2))"
   ]
  },
  {
   "cell_type": "markdown",
   "id": "cf256ab6",
   "metadata": {},
   "source": [
    "Ahora normalizo los datos de las predicciones"
   ]
  },
  {
   "cell_type": "code",
   "execution_count": 3,
   "id": "33e3f076",
   "metadata": {},
   "outputs": [],
   "source": [
    "for i in range(len(df.pred_m1)):\n",
    "    df.pred_m1[i]= (df.pred_m1[i] - media1)/varianza1\n",
    "    \n",
    "for i in range(len(df.pred_m2)):\n",
    "    df.pred_m2[i]= (df.pred_m2[i] - media1)/varianza2"
   ]
  },
  {
   "cell_type": "markdown",
   "id": "8815210b",
   "metadata": {},
   "source": [
    "Ahora quiero escalar la variable para que  me queden valores entre 0 y 1"
   ]
  },
  {
   "cell_type": "code",
   "execution_count": 4,
   "id": "417863c9",
   "metadata": {},
   "outputs": [],
   "source": [
    "for i in range(len(df.pred_m1)):\n",
    "    df.pred_m1[i]= (df.pred_m1[i] - min(df.pred_m1))/(max(df.pred_m1) - min(df.pred_m1))\n",
    "    \n",
    "for i in range(len(df.pred_m2)):\n",
    "    df.pred_m2[i]= (df.pred_m2[i] - min(df.pred_m2))/(max(df.pred_m2) - min(df.pred_m2))"
   ]
  },
  {
   "cell_type": "markdown",
   "id": "f5fe4b71",
   "metadata": {},
   "source": [
    "**Error absoluto medio ( Mean Absolute Error, MAE):**"
   ]
  },
  {
   "cell_type": "markdown",
   "id": "3eb4fb8a",
   "metadata": {},
   "source": [
    "Que la diferencia entre la predicción y el valor real sea el menor posible.\n",
    "\n",
    "El error absoluto medio, o MAE, es una métrica popular "
   ]
  },
  {
   "cell_type": "markdown",
   "id": "bc49fab7",
   "metadata": {},
   "source": [
    "El MAE se puede calcular de la siguiente manera:\n",
    "\n",
    "MAE = 1 / N * suma para i a N abs (y_i – yhat_i)\n",
    "Dónde y_i es el i-ésimo valor esperado en el conjunto de datos, yhat_i es el i-ésimo valor predicho y abdominales() es la función absoluta.\n",
    "\n",
    "desde matplotlib importar pyplot\n",
    "\n",
    "desde sklearn.métrica importar mean_squared_error\n",
    "\n",
    "errores = lista()\n",
    "\n",
    "para yo en rango(len(esperado)):\n",
    "\n",
    "errar = abdominales((esperado[[yo] – predicho[[yo]))\n",
    "\n",
    "errores.adjuntar(errar)"
   ]
  },
  {
   "cell_type": "code",
   "execution_count": 5,
   "id": "141472e5",
   "metadata": {},
   "outputs": [
    {
     "name": "stdout",
     "output_type": "stream",
     "text": [
      "5.2034454045324985\n",
      "5.308651698143156\n"
     ]
    }
   ],
   "source": [
    "from sklearn.metrics import mean_absolute_error\n",
    "from numpy import mean\n",
    "\n",
    "mae1= mean_absolute_error(df.y_objetivo, df.pred_m1)\n",
    "mae2 = mean_absolute_error(df.y_objetivo, df.pred_m2)\n",
    "\n",
    "print(mae1)\n",
    "print(mae2)"
   ]
  },
  {
   "cell_type": "code",
   "execution_count": 6,
   "id": "8bd2fc67",
   "metadata": {},
   "outputs": [
    {
     "name": "stdout",
     "output_type": "stream",
     "text": [
      "5.19690945682008\n",
      "5.308651698143156\n"
     ]
    }
   ],
   "source": [
    "# En esta lista guardo los errores\n",
    "errores1 = []\n",
    "errores2 = []\n",
    "# Recorro la lista de la columna objetivo\n",
    "for i in range(len(df.y_objetivo)):\n",
    "    \n",
    "        error1 = df.y_objetivo[i] - df.pred_m1[i]  \n",
    "        error2 = df.y_objetivo[i] - df.pred_m2[i]\n",
    "        \n",
    "        errores1.append(error1)\n",
    "        errores2.append(error2)\n",
    "    \n",
    "c1 = mean(errores1)\n",
    "c2 = mean(errores2)\n",
    "\n",
    "print (c1)\n",
    "print (c2)"
   ]
  },
  {
   "cell_type": "markdown",
   "id": "043abf46",
   "metadata": {},
   "source": [
    "**MSE Mean Squared Error(Error medio cuadrado)**"
   ]
  },
  {
   "cell_type": "markdown",
   "id": "54453015",
   "metadata": {},
   "source": [
    "El MSE se calcula como la media o el promedio de las diferencias al cuadrado entre los valores objetivo predichos y esperados en un conjunto de datos.\n",
    "\n",
    "errores = []\n",
    "err = (esperado[i]-predicho[i])**2\n",
    "\n",
    "for i in range(len(esperado)):\n",
    "\n",
    "\terr= (esperado[i]-predicho[i])**2\n",
    "\terrores.append(err)"
   ]
  },
  {
   "cell_type": "code",
   "execution_count": 7,
   "id": "ae914fb4",
   "metadata": {},
   "outputs": [
    {
     "name": "stdout",
     "output_type": "stream",
     "text": [
      "44.98281126561677\n",
      "46.22374746296811\n"
     ]
    }
   ],
   "source": [
    "from sklearn.metrics import mean_squared_error\n",
    "\n",
    "mse1 = mean_squared_error(df.y_objetivo, df.pred_m1)\n",
    "\n",
    "#mse11 = np.sqrt((df.y_objetivo - df.pred_m1) ** 2)\n",
    "\n",
    "mse2 = mean_squared_error(df.y_objetivo, df.pred_m2)\n",
    "\n",
    "# mse = (np.square(df.y_objetivo, df.pred_m1)).mean()\n",
    "\n",
    "print (mse1)        \n",
    "print (mse2)"
   ]
  },
  {
   "cell_type": "markdown",
   "id": "a8fd2d69",
   "metadata": {},
   "source": [
    "**El error cuadrático medio, o RMSE**"
   ]
  },
  {
   "cell_type": "markdown",
   "id": "058838df",
   "metadata": {},
   "source": [
    "El RMSE se puede calcular de la siguiente manera:\n",
    "\n",
    "RMSE = sqrt (1 / N * suma de i a N (y_i – yhat_i) ^ 2)\n",
    "Dónde y_i es el i-ésimo valor esperado en el conjunto de datos, yhat_i es el i-ésimo valor predicho, y sqrt () es la función raíz cuadrada."
   ]
  },
  {
   "cell_type": "code",
   "execution_count": 8,
   "id": "039f8998",
   "metadata": {},
   "outputs": [
    {
     "name": "stdout",
     "output_type": "stream",
     "text": [
      "6.706922637515418\n",
      "6.798804855485125\n"
     ]
    }
   ],
   "source": [
    "# sklearn.métrica importar mean_squared_error\n",
    "from sklearn.metrics import mean_squared_error\n",
    "\n",
    "rmse1 = np.sqrt(((df.y_objetivo - df.pred_m1) ** 2).mean())\n",
    "rmse2 = np.sqrt(((df.y_objetivo - df.pred_m2) ** 2).mean())\n",
    "\n",
    "print(rmse1)\n",
    "print(rmse2)"
   ]
  },
  {
   "cell_type": "code",
   "execution_count": 9,
   "id": "e9bf7862",
   "metadata": {},
   "outputs": [
    {
     "data": {
      "text/html": [
       "<div>\n",
       "<style scoped>\n",
       "    .dataframe tbody tr th:only-of-type {\n",
       "        vertical-align: middle;\n",
       "    }\n",
       "\n",
       "    .dataframe tbody tr th {\n",
       "        vertical-align: top;\n",
       "    }\n",
       "\n",
       "    .dataframe thead th {\n",
       "        text-align: right;\n",
       "    }\n",
       "</style>\n",
       "<table border=\"1\" class=\"dataframe\">\n",
       "  <thead>\n",
       "    <tr style=\"text-align: right;\">\n",
       "      <th></th>\n",
       "      <th>Prediccion</th>\n",
       "      <th>MAE</th>\n",
       "      <th>MSE</th>\n",
       "      <th>RMSE</th>\n",
       "    </tr>\n",
       "  </thead>\n",
       "  <tbody>\n",
       "    <tr>\n",
       "      <th>0</th>\n",
       "      <td>Predicción 1</td>\n",
       "      <td>5.203445</td>\n",
       "      <td>44.982811</td>\n",
       "      <td>6.706923</td>\n",
       "    </tr>\n",
       "    <tr>\n",
       "      <th>1</th>\n",
       "      <td>Predicción 2</td>\n",
       "      <td>5.308652</td>\n",
       "      <td>46.223747</td>\n",
       "      <td>6.798805</td>\n",
       "    </tr>\n",
       "  </tbody>\n",
       "</table>\n",
       "</div>"
      ],
      "text/plain": [
       "     Prediccion       MAE        MSE      RMSE\n",
       "0  Predicción 1  5.203445  44.982811  6.706923\n",
       "1  Predicción 2  5.308652  46.223747  6.798805"
      ]
     },
     "execution_count": 9,
     "metadata": {},
     "output_type": "execute_result"
    }
   ],
   "source": [
    "# initialize list of lists\n",
    "data = [['Predicción 1', mae1, mse1,rmse1], ['Predicción 2', mae2,mse2,rmse2]]\n",
    "  \n",
    "# Create the pandas DataFrame\n",
    "df1 = pd.DataFrame(data, columns=['Prediccion', 'MAE','MSE','RMSE'])\n",
    "  \n",
    "# print dataframe.\n",
    "df1"
   ]
  },
  {
   "cell_type": "markdown",
   "id": "4617779a",
   "metadata": {},
   "source": []
  },
  {
   "cell_type": "markdown",
   "id": "6ec5e29a",
   "metadata": {},
   "source": [
    "### 2. Dado un problema de clasificación binaria (sólo existen dos clases),tenemos la salida de cada uno de 30 patrones en test para dosmodelos distintos.\n",
    "- a. Montar la matriz de confusión de cada modelo.\n",
    "- b. Calcular las métricas de clasificación, excepto el AUC.\n",
    "- c. Determinar qué modelo es mejor.\n"
   ]
  },
  {
   "cell_type": "code",
   "execution_count": 10,
   "id": "f71c0956",
   "metadata": {},
   "outputs": [
    {
     "data": {
      "text/html": [
       "<div>\n",
       "<style scoped>\n",
       "    .dataframe tbody tr th:only-of-type {\n",
       "        vertical-align: middle;\n",
       "    }\n",
       "\n",
       "    .dataframe tbody tr th {\n",
       "        vertical-align: top;\n",
       "    }\n",
       "\n",
       "    .dataframe thead th {\n",
       "        text-align: right;\n",
       "    }\n",
       "</style>\n",
       "<table border=\"1\" class=\"dataframe\">\n",
       "  <thead>\n",
       "    <tr style=\"text-align: right;\">\n",
       "      <th></th>\n",
       "      <th>y_objetivo</th>\n",
       "      <th>m1</th>\n",
       "      <th>m2</th>\n",
       "    </tr>\n",
       "  </thead>\n",
       "  <tbody>\n",
       "    <tr>\n",
       "      <th>0</th>\n",
       "      <td>0</td>\n",
       "      <td>1</td>\n",
       "      <td>0</td>\n",
       "    </tr>\n",
       "    <tr>\n",
       "      <th>1</th>\n",
       "      <td>0</td>\n",
       "      <td>0</td>\n",
       "      <td>0</td>\n",
       "    </tr>\n",
       "    <tr>\n",
       "      <th>2</th>\n",
       "      <td>0</td>\n",
       "      <td>0</td>\n",
       "      <td>0</td>\n",
       "    </tr>\n",
       "    <tr>\n",
       "      <th>3</th>\n",
       "      <td>1</td>\n",
       "      <td>1</td>\n",
       "      <td>1</td>\n",
       "    </tr>\n",
       "    <tr>\n",
       "      <th>4</th>\n",
       "      <td>1</td>\n",
       "      <td>1</td>\n",
       "      <td>1</td>\n",
       "    </tr>\n",
       "    <tr>\n",
       "      <th>5</th>\n",
       "      <td>1</td>\n",
       "      <td>1</td>\n",
       "      <td>1</td>\n",
       "    </tr>\n",
       "    <tr>\n",
       "      <th>6</th>\n",
       "      <td>0</td>\n",
       "      <td>0</td>\n",
       "      <td>0</td>\n",
       "    </tr>\n",
       "    <tr>\n",
       "      <th>7</th>\n",
       "      <td>0</td>\n",
       "      <td>0</td>\n",
       "      <td>1</td>\n",
       "    </tr>\n",
       "    <tr>\n",
       "      <th>8</th>\n",
       "      <td>1</td>\n",
       "      <td>0</td>\n",
       "      <td>1</td>\n",
       "    </tr>\n",
       "    <tr>\n",
       "      <th>9</th>\n",
       "      <td>1</td>\n",
       "      <td>0</td>\n",
       "      <td>1</td>\n",
       "    </tr>\n",
       "    <tr>\n",
       "      <th>10</th>\n",
       "      <td>0</td>\n",
       "      <td>0</td>\n",
       "      <td>1</td>\n",
       "    </tr>\n",
       "    <tr>\n",
       "      <th>11</th>\n",
       "      <td>1</td>\n",
       "      <td>1</td>\n",
       "      <td>0</td>\n",
       "    </tr>\n",
       "    <tr>\n",
       "      <th>12</th>\n",
       "      <td>0</td>\n",
       "      <td>0</td>\n",
       "      <td>1</td>\n",
       "    </tr>\n",
       "    <tr>\n",
       "      <th>13</th>\n",
       "      <td>1</td>\n",
       "      <td>1</td>\n",
       "      <td>1</td>\n",
       "    </tr>\n",
       "    <tr>\n",
       "      <th>14</th>\n",
       "      <td>1</td>\n",
       "      <td>0</td>\n",
       "      <td>1</td>\n",
       "    </tr>\n",
       "    <tr>\n",
       "      <th>15</th>\n",
       "      <td>1</td>\n",
       "      <td>1</td>\n",
       "      <td>1</td>\n",
       "    </tr>\n",
       "    <tr>\n",
       "      <th>16</th>\n",
       "      <td>1</td>\n",
       "      <td>0</td>\n",
       "      <td>1</td>\n",
       "    </tr>\n",
       "    <tr>\n",
       "      <th>17</th>\n",
       "      <td>0</td>\n",
       "      <td>0</td>\n",
       "      <td>0</td>\n",
       "    </tr>\n",
       "    <tr>\n",
       "      <th>18</th>\n",
       "      <td>0</td>\n",
       "      <td>0</td>\n",
       "      <td>0</td>\n",
       "    </tr>\n",
       "    <tr>\n",
       "      <th>19</th>\n",
       "      <td>0</td>\n",
       "      <td>0</td>\n",
       "      <td>0</td>\n",
       "    </tr>\n",
       "    <tr>\n",
       "      <th>20</th>\n",
       "      <td>0</td>\n",
       "      <td>0</td>\n",
       "      <td>0</td>\n",
       "    </tr>\n",
       "    <tr>\n",
       "      <th>21</th>\n",
       "      <td>0</td>\n",
       "      <td>0</td>\n",
       "      <td>1</td>\n",
       "    </tr>\n",
       "    <tr>\n",
       "      <th>22</th>\n",
       "      <td>0</td>\n",
       "      <td>0</td>\n",
       "      <td>1</td>\n",
       "    </tr>\n",
       "    <tr>\n",
       "      <th>23</th>\n",
       "      <td>0</td>\n",
       "      <td>0</td>\n",
       "      <td>0</td>\n",
       "    </tr>\n",
       "    <tr>\n",
       "      <th>24</th>\n",
       "      <td>0</td>\n",
       "      <td>0</td>\n",
       "      <td>0</td>\n",
       "    </tr>\n",
       "    <tr>\n",
       "      <th>25</th>\n",
       "      <td>0</td>\n",
       "      <td>0</td>\n",
       "      <td>0</td>\n",
       "    </tr>\n",
       "    <tr>\n",
       "      <th>26</th>\n",
       "      <td>0</td>\n",
       "      <td>0</td>\n",
       "      <td>1</td>\n",
       "    </tr>\n",
       "    <tr>\n",
       "      <th>27</th>\n",
       "      <td>0</td>\n",
       "      <td>0</td>\n",
       "      <td>0</td>\n",
       "    </tr>\n",
       "    <tr>\n",
       "      <th>28</th>\n",
       "      <td>0</td>\n",
       "      <td>0</td>\n",
       "      <td>1</td>\n",
       "    </tr>\n",
       "    <tr>\n",
       "      <th>29</th>\n",
       "      <td>0</td>\n",
       "      <td>0</td>\n",
       "      <td>1</td>\n",
       "    </tr>\n",
       "  </tbody>\n",
       "</table>\n",
       "</div>"
      ],
      "text/plain": [
       "    y_objetivo  m1  m2\n",
       "0            0   1   0\n",
       "1            0   0   0\n",
       "2            0   0   0\n",
       "3            1   1   1\n",
       "4            1   1   1\n",
       "5            1   1   1\n",
       "6            0   0   0\n",
       "7            0   0   1\n",
       "8            1   0   1\n",
       "9            1   0   1\n",
       "10           0   0   1\n",
       "11           1   1   0\n",
       "12           0   0   1\n",
       "13           1   1   1\n",
       "14           1   0   1\n",
       "15           1   1   1\n",
       "16           1   0   1\n",
       "17           0   0   0\n",
       "18           0   0   0\n",
       "19           0   0   0\n",
       "20           0   0   0\n",
       "21           0   0   1\n",
       "22           0   0   1\n",
       "23           0   0   0\n",
       "24           0   0   0\n",
       "25           0   0   0\n",
       "26           0   0   1\n",
       "27           0   0   0\n",
       "28           0   0   1\n",
       "29           0   0   1"
      ]
     },
     "execution_count": 10,
     "metadata": {},
     "output_type": "execute_result"
    }
   ],
   "source": [
    "B = np.matrix('0 1 0; 0 0 0;0 0 0; 1 1 1;1 1 1;1 1 1;0 0 0; 0 0 1; 1 0 1;1 0 1;0 0 1;1 1 0;0 0 1;1 1 1;1 0 1; 1 1 1;1 0 1; 0 0 0; 0 0 0;0 0 0; 0 0 0; 0 0 1; 0 0 1; 0 0 0; 0 0 0; 0 0 0;0 0 1;0 0 0;0 0 1;0 0 1')\n",
    "\n",
    "df2 = pd.DataFrame(B, columns = ['y_objetivo','m1','m2'])\n",
    "df2\n"
   ]
  },
  {
   "cell_type": "markdown",
   "id": "962a115c",
   "metadata": {},
   "source": [
    "Montar la matriz de confusión de cada modelo."
   ]
  },
  {
   "cell_type": "code",
   "execution_count": 11,
   "id": "4f6ab264",
   "metadata": {},
   "outputs": [
    {
     "data": {
      "text/html": [
       "<div>\n",
       "<style scoped>\n",
       "    .dataframe tbody tr th:only-of-type {\n",
       "        vertical-align: middle;\n",
       "    }\n",
       "\n",
       "    .dataframe tbody tr th {\n",
       "        vertical-align: top;\n",
       "    }\n",
       "\n",
       "    .dataframe thead th {\n",
       "        text-align: right;\n",
       "    }\n",
       "</style>\n",
       "<table border=\"1\" class=\"dataframe\">\n",
       "  <thead>\n",
       "    <tr style=\"text-align: right;\">\n",
       "      <th>m1</th>\n",
       "      <th>0</th>\n",
       "      <th>1</th>\n",
       "    </tr>\n",
       "    <tr>\n",
       "      <th>y_objetivo</th>\n",
       "      <th></th>\n",
       "      <th></th>\n",
       "    </tr>\n",
       "  </thead>\n",
       "  <tbody>\n",
       "    <tr>\n",
       "      <th>0</th>\n",
       "      <td>19</td>\n",
       "      <td>1</td>\n",
       "    </tr>\n",
       "    <tr>\n",
       "      <th>1</th>\n",
       "      <td>4</td>\n",
       "      <td>6</td>\n",
       "    </tr>\n",
       "  </tbody>\n",
       "</table>\n",
       "</div>"
      ],
      "text/plain": [
       "m1           0  1\n",
       "y_objetivo       \n",
       "0           19  1\n",
       "1            4  6"
      ]
     },
     "execution_count": 11,
     "metadata": {},
     "output_type": "execute_result"
    }
   ],
   "source": [
    "import seaborn as snNew\n",
    "import pandas as pdNew\n",
    "import matplotlib.pyplot as pltNew\n",
    "\n",
    "import pandas as pd\n",
    "\n",
    "df_confusion1 = pd.crosstab(df2.y_objetivo, df2.m1)\n",
    "df_confusion1"
   ]
  },
  {
   "cell_type": "code",
   "execution_count": 12,
   "id": "0a9b3cf8",
   "metadata": {},
   "outputs": [
    {
     "data": {
      "text/html": [
       "<div>\n",
       "<style scoped>\n",
       "    .dataframe tbody tr th:only-of-type {\n",
       "        vertical-align: middle;\n",
       "    }\n",
       "\n",
       "    .dataframe tbody tr th {\n",
       "        vertical-align: top;\n",
       "    }\n",
       "\n",
       "    .dataframe thead th {\n",
       "        text-align: right;\n",
       "    }\n",
       "</style>\n",
       "<table border=\"1\" class=\"dataframe\">\n",
       "  <thead>\n",
       "    <tr style=\"text-align: right;\">\n",
       "      <th>m2</th>\n",
       "      <th>0</th>\n",
       "      <th>1</th>\n",
       "    </tr>\n",
       "    <tr>\n",
       "      <th>y_objetivo</th>\n",
       "      <th></th>\n",
       "      <th></th>\n",
       "    </tr>\n",
       "  </thead>\n",
       "  <tbody>\n",
       "    <tr>\n",
       "      <th>0</th>\n",
       "      <td>12</td>\n",
       "      <td>8</td>\n",
       "    </tr>\n",
       "    <tr>\n",
       "      <th>1</th>\n",
       "      <td>1</td>\n",
       "      <td>9</td>\n",
       "    </tr>\n",
       "  </tbody>\n",
       "</table>\n",
       "</div>"
      ],
      "text/plain": [
       "m2           0  1\n",
       "y_objetivo       \n",
       "0           12  8\n",
       "1            1  9"
      ]
     },
     "execution_count": 12,
     "metadata": {},
     "output_type": "execute_result"
    }
   ],
   "source": [
    "df_confusion2 = pd.crosstab(df2.y_objetivo, df2.m2)\n",
    "df_confusion2"
   ]
  },
  {
   "cell_type": "markdown",
   "id": "7cbda5ef",
   "metadata": {},
   "source": [
    "Calcular las métricas de clasificación, excepto el AUC"
   ]
  },
  {
   "cell_type": "markdown",
   "id": "853eeef6",
   "metadata": {},
   "source": [
    "**CCR**\n",
    "\n",
    "Precision = TP / (TP + FP)"
   ]
  },
  {
   "cell_type": "code",
   "execution_count": 13,
   "id": "efc534dd",
   "metadata": {},
   "outputs": [
    {
     "name": "stdout",
     "output_type": "stream",
     "text": [
      "0.8571428571428571\n",
      "0.5294117647058824\n"
     ]
    }
   ],
   "source": [
    "from sklearn.metrics import precision_score\n",
    "\n",
    "precision1 = precision_score(df2.y_objetivo, df2.m1)\n",
    "print(precision1)\n",
    "\n",
    "precision2 = precision_score(df2.y_objetivo, df2.m2)\n",
    "print(precision2)"
   ]
  },
  {
   "cell_type": "markdown",
   "id": "4f6fda8e",
   "metadata": {},
   "source": [
    "**TPRate (Sensibilidad)**\n",
    "\n",
    "Recall = TP / (TP + FN)"
   ]
  },
  {
   "cell_type": "code",
   "execution_count": 14,
   "id": "afe4d41e",
   "metadata": {},
   "outputs": [
    {
     "name": "stdout",
     "output_type": "stream",
     "text": [
      "0.6\n",
      "0.9\n"
     ]
    }
   ],
   "source": [
    "from sklearn.metrics import recall_score\n",
    "\n",
    "sensibilidad1= recall_score(df2.y_objetivo, df2.m1)\n",
    "sensibilidad2= recall_score(df2.y_objetivo, df2.m2)\n",
    "\n",
    "print(sensibilidad1)\n",
    "print(sensibilidad2)"
   ]
  },
  {
   "cell_type": "markdown",
   "id": "adc91ab6",
   "metadata": {},
   "source": [
    "**F1- Score (Recall o TP Rate)**\n",
    "\n",
    "F1 = 2 * ((recall * precision)/(recall + precision))"
   ]
  },
  {
   "cell_type": "code",
   "execution_count": 15,
   "id": "7fa778dd",
   "metadata": {},
   "outputs": [
    {
     "name": "stdout",
     "output_type": "stream",
     "text": [
      "0.7058823529411764\n",
      "0.6666666666666667\n"
     ]
    }
   ],
   "source": [
    "from sklearn.metrics import f1_score\n",
    "\n",
    "score1 = f1_score(df2.y_objetivo, df2.m1)\n",
    "score2 = f1_score(df2.y_objetivo, df2.m2)\n",
    "\n",
    "print(score1)\n",
    "print(score2)"
   ]
  },
  {
   "cell_type": "code",
   "execution_count": 16,
   "id": "5ad77c07",
   "metadata": {},
   "outputs": [
    {
     "data": {
      "image/png": "[encoded data removed]",
      "text/plain": [
       "<Figure size 432x288 with 1 Axes>"
      ]
     },
     "metadata": {
      "needs_background": "light"
     },
     "output_type": "display_data"
    }
   ],
   "source": [
    "from sklearn.metrics import roc_curve\n",
    "import matplotlib.pyplot as plt\n",
    "\n",
    "fpr, tpr, thresholds = roc_curve(df2.y_objetivo, df2.m1)\n",
    "plt.figure()\n",
    "plt.plot(fpr, tpr, color='darkorange',\n",
    "         label='ROC curve')\n",
    "plt.plot([0, 1], [0, 1], color='navy', linestyle='--')\n",
    "plt.xlim([0.0, 1.0])\n",
    "plt.ylim([0.0, 1.05])\n",
    "plt.xlabel('False Positive Rate')\n",
    "plt.ylabel('True Positive Rate')\n",
    "plt.title('Modelo 1')\n",
    "plt.legend(loc=\"lower right\")\n",
    "plt.show()"
   ]
  },
  {
   "cell_type": "code",
   "execution_count": 17,
   "id": "87b0631c",
   "metadata": {},
   "outputs": [
    {
     "data": {
      "image/png": "[encoded data removed]",
      "text/plain": [
       "<Figure size 432x288 with 1 Axes>"
      ]
     },
     "metadata": {
      "needs_background": "light"
     },
     "output_type": "display_data"
    }
   ],
   "source": [
    "from sklearn.metrics import roc_curve\n",
    "\n",
    "fpr, tpr, thresholds = roc_curve(df2.y_objetivo, df2.m2)\n",
    "plt.figure()\n",
    "plt.plot(fpr, tpr, color='darkorange',\n",
    "         label='ROC curve')\n",
    "plt.plot([0, 1], [0, 1], color='navy', linestyle='--')\n",
    "plt.xlim([0.0, 1.0])\n",
    "plt.ylim([0.0, 1.05])\n",
    "plt.xlabel('False Positive Rate')\n",
    "plt.ylabel('True Positive Rate')\n",
    "plt.title('Modelo 1')\n",
    "plt.legend(loc=\"lower right\")\n",
    "plt.show()"
   ]
  },
  {
   "cell_type": "code",
   "execution_count": 18,
   "id": "368da482",
   "metadata": {},
   "outputs": [
    {
     "data": {
      "text/plain": [
       "array([[12,  8],\n",
       "       [ 1,  9]], dtype=int64)"
      ]
     },
     "execution_count": 18,
     "metadata": {},
     "output_type": "execute_result"
    }
   ],
   "source": []
  },
  {
   "cell_type": "code",
   "execution_count": null,
   "id": "aabb334b",
   "metadata": {},
   "outputs": [],
   "source": []
  },
  {
   "cell_type": "markdown",
   "id": "baf24ebe",
   "metadata": {},
   "source": [
    "### 3. Dada la siguiente matriz de confusión para un problema multiclase, se pide hallar todas las métricas de clasificación para cada clase, excepto el AUC. \n",
    "\n",
    "Recuerde que, para calcular las métricas de una clase, se considera dicha clase como positiva y el resto como la negativa."
   ]
  },
  {
   "cell_type": "markdown",
   "id": "275d895a",
   "metadata": {},
   "source": [
    "**CCR**\n",
    "\n",
    "ccr = (TP+TN)/N"
   ]
  },
  {
   "cell_type": "markdown",
   "id": "614ffff7",
   "metadata": {},
   "source": [
    "Primero tengo que calcular las submatrices de cada una de las clases en POSITIVE NEGATIVE\n",
    "\n",
    "- Gato- No gato\n",
    "- Perro - No perro\n",
    "- Loro - No loro\n",
    "\n",
    "Entonces genero las submatrices calculando: \n",
    "\n",
    "Cuantos de gato calculados como gato son gato POSITIVE\n",
    "\n",
    "**Cuantos de gato han sido clasificados como NO gato (sumo los demás categorias)** NEGATIVE\n",
    "\n",
    "Así consigo el ROW de GATO- gato -NoGato\n",
    "\n",
    "Ahora hago el ROW de NoGato - gato-NoGato\n",
    "\n",
    "Aí es como logro la submatriz\n"
   ]
  },
  {
   "cell_type": "markdown",
   "id": "a98121a2",
   "metadata": {},
   "source": [
    "Sub matriz de Gato\n",
    "\n",
    "$$\\begin{bmatrix} 20 & 15 \\\\ 10 & 60 \\end{bmatrix}$$"
   ]
  },
  {
   "cell_type": "markdown",
   "id": "1380a3fd",
   "metadata": {},
   "source": [
    "Sub matriz de Perro\n",
    "\n",
    "$$\\begin{bmatrix} 30 & 5 \\\\ 15 & 55 \\end{bmatrix}$$"
   ]
  },
  {
   "cell_type": "markdown",
   "id": "29889c8f",
   "metadata": {},
   "source": [
    "Sub matriz de Loro\n",
    "\n",
    "$$\\begin{bmatrix} 25 & 10 \\\\ 40 & 35 \\end{bmatrix}$$"
   ]
  },
  {
   "cell_type": "markdown",
   "id": "f9ace5a4",
   "metadata": {},
   "source": [
    "**CCR**\n",
    "\n",
    "Se calcula sumando los patrones de la diagonal principal del array, entre el numero total de patrones."
   ]
  },
  {
   "cell_type": "code",
   "execution_count": 19,
   "id": "eaca5705",
   "metadata": {},
   "outputs": [
    {
     "name": "stdout",
     "output_type": "stream",
     "text": [
      "0.7894736842105263\n"
     ]
    }
   ],
   "source": [
    "ccr1 = (20+30+25)/95\n",
    "print(ccr1)"
   ]
  },
  {
   "cell_type": "markdown",
   "id": "9290243e",
   "metadata": {},
   "source": [
    "**Sensibilidad**\n",
    "\n",
    "sensibilidad = TP/TP+FN"
   ]
  },
  {
   "cell_type": "code",
   "execution_count": 25,
   "id": "09f792c0",
   "metadata": {},
   "outputs": [
    {
     "name": "stdout",
     "output_type": "stream",
     "text": [
      "0.5714285714285714\n",
      "0.8571428571428571\n",
      "0.7142857142857143\n",
      "La media de la sensibilidad es 0.7142857142857143\n"
     ]
    }
   ],
   "source": [
    "sens_array = [] \n",
    "sen_gato = 20/(20+15)\n",
    "sens_array.append(sen_gato)\n",
    "\n",
    "sen_perro = 30/(30+5)\n",
    "sens_array.append(sen_perro)\n",
    "\n",
    "sen_loro = 25/(25+10)\n",
    "sens_array.append(sen_loro)\n",
    "\n",
    "sensibilidad = mean(sens_array)\n",
    "\n",
    "print(sen_gato)\n",
    "print(sen_perro)\n",
    "print(sen_loro)\n",
    "\n",
    "print('La media de la sensibilidad es', sensibilidad)"
   ]
  },
  {
   "cell_type": "markdown",
   "id": "e7cac015",
   "metadata": {},
   "source": []
  },
  {
   "cell_type": "markdown",
   "id": "8a59d377",
   "metadata": {},
   "source": [
    "FP RATE"
   ]
  },
  {
   "cell_type": "code",
   "execution_count": 21,
   "id": "36e50dd8",
   "metadata": {},
   "outputs": [
    {
     "name": "stdout",
     "output_type": "stream",
     "text": [
      "0.8571428571428571\n",
      "0.7857142857142857\n",
      "0.4666666666666667\n",
      "La media de la especificidad es 0.7031746031746032\n"
     ]
    }
   ],
   "source": [
    "esp_array = [] \n",
    "\n",
    "esp_gato = 60/(60+10)\n",
    "esp_array.append(esp_gato)\n",
    "\n",
    "esp_perro = 55/(55+15)\n",
    "esp_array.append(esp_perro)\n",
    "\n",
    "esp_loro = 35/(35+40)\n",
    "esp_array.append(esp_loro)\n",
    "\n",
    "\n",
    "especificidad = mean(esp_array)\n",
    "\n",
    "print(esp_gato)\n",
    "print(esp_perro)\n",
    "print(esp_loro)\n",
    "\n",
    "print('La media de la especificidad es', especificidad)"
   ]
  },
  {
   "cell_type": "markdown",
   "id": "57466c57",
   "metadata": {},
   "source": [
    "**Precision global**\n",
    "\n",
    "ccr = TP+TN/N"
   ]
  },
  {
   "cell_type": "code",
   "execution_count": 22,
   "id": "bda559e6",
   "metadata": {},
   "outputs": [
    {
     "name": "stdout",
     "output_type": "stream",
     "text": [
      "0.7619047619047619\n",
      "0.8095238095238095\n",
      "0.5714285714285714\n",
      "La media de la precision global es 0.7142857142857143\n"
     ]
    }
   ],
   "source": [
    "ccr_array = []\n",
    "\n",
    "ccr_gato = (20+60)/105\n",
    "ccr_array.append(ccr_gato)\n",
    "\n",
    "ccr_perro = (30+55)/105\n",
    "ccr_array.append(ccr_perro)\n",
    "\n",
    "ccr_loro = (25+35)/105\n",
    "ccr_array.append(ccr_loro)\n",
    "\n",
    "precision = mean(ccr_array)\n",
    "\n",
    "print(ccr_gato)\n",
    "print(ccr_perro)\n",
    "print(ccr_loro)\n",
    "\n",
    "print('La media de la precision global es', precision)"
   ]
  },
  {
   "cell_type": "markdown",
   "id": "2bb68858",
   "metadata": {},
   "source": [
    "**FP Rate**"
   ]
  },
  {
   "cell_type": "markdown",
   "id": "65baa2a7",
   "metadata": {},
   "source": [
    "fprate = FP/(TN+FP)"
   ]
  },
  {
   "cell_type": "code",
   "execution_count": 23,
   "id": "4182c849",
   "metadata": {},
   "outputs": [
    {
     "name": "stdout",
     "output_type": "stream",
     "text": [
      "0.14285714285714285\n",
      "0.21428571428571427\n",
      "0.5333333333333333\n",
      "La media del FP Rate es 0.14285714285714285\n"
     ]
    }
   ],
   "source": [
    "fp_array = []\n",
    "\n",
    "fprate_gato = 10/(60+10)\n",
    "fp_array.append(fprate_gato)\n",
    "\n",
    "fprate_perro = 15/(55+15)\n",
    "fp_array.append(fprate_gato)\n",
    "\n",
    "fprate_loro = 40/(35+40)\n",
    "fp_array.append(fprate_gato)\n",
    "\n",
    "fp = mean(fp_array)\n",
    "\n",
    "print(fprate_gato)\n",
    "print(fprate_perro)\n",
    "print(fprate_loro)\n",
    "\n",
    "print('La media del FP Rate es', fp)"
   ]
  },
  {
   "cell_type": "markdown",
   "id": "3e318773",
   "metadata": {},
   "source": [
    "**F1 SCORE**\n",
    "\n",
    "F1 Score = 2 * (Precision * Recall) / (Precision + Recall)\n",
    "\n",
    "Precision = True Positive / (True Positive + False Positive)\n",
    "\n",
    "Recall = True Positive / (True Positive + False Negative)\n"
   ]
  },
  {
   "cell_type": "code",
   "execution_count": 24,
   "id": "149e0b46",
   "metadata": {},
   "outputs": [
    {
     "name": "stdout",
     "output_type": "stream",
     "text": [
      "0.6153846153846153\n",
      "0.75\n",
      "0.5\n",
      "La media del F1 score es 0.6217948717948718\n"
     ]
    }
   ],
   "source": [
    "presicion_gato = 20/(20+10)\n",
    "recall_gato = 20/(20+15)\n",
    "\n",
    "\n",
    "presicion_perro = 30/(30+15)\n",
    "recall_perro = 30/(30+5)\n",
    "\n",
    "\n",
    "presicion_loro = 25/(25+40)\n",
    "recall_loro = 25/(25+10)\n",
    "\n",
    "\n",
    "score_array = []\n",
    "\n",
    "f1_gato = 2*((presicion_gato * recall_gato)/(presicion_gato + recall_gato))\n",
    "score_array.append(f1_gato)\n",
    "\n",
    "f1_perro = 2*((presicion_perro * recall_perro)/(presicion_perro + recall_perro))\n",
    "score_array.append(f1_perro)\n",
    "\n",
    "f1_loro = 2*((presicion_loro * recall_loro)/(presicion_loro + recall_loro))\n",
    "score_array.append(f1_loro)\n",
    "\n",
    "f1score = mean(score_array)\n",
    "\n",
    "print(f1_gato)\n",
    "print(f1_perro)\n",
    "print(f1_loro)\n",
    "\n",
    "\n",
    "print('La media del F1 score es', f1score)"
   ]
  },
  {
   "cell_type": "code",
   "execution_count": null,
   "id": "eaf35502",
   "metadata": {},
   "outputs": [],
   "source": []
  }
 ],
 "metadata": {
  "kernelspec": {
   "display_name": "Python 3 (ipykernel)",
   "language": "python",
   "name": "python3"
  },
  "language_info": {
   "codemirror_mode": {
    "name": "ipython",
    "version": 3
   },
   "file_extension": ".py",
   "mimetype": "text/x-python",
   "name": "python",
   "nbconvert_exporter": "python",
   "pygments_lexer": "ipython3",
   "version": "3.8.5"
  }
 },
 "nbformat": 4,
 "nbformat_minor": 5
}
