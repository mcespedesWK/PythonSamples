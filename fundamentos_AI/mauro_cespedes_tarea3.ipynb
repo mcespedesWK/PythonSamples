{
 "cells": [
  {
   "cell_type": "code",
   "execution_count": 1,
   "id": "9d7d9ddf",
   "metadata": {},
   "outputs": [],
   "source": [
    "import numpy as np\n",
    "import pandas as pd"
   ]
  },
  {
   "cell_type": "markdown",
   "id": "494654e4",
   "metadata": {},
   "source": [
    "## Problema I\n",
    "\n",
    "Yo voy a tener variables y unso pesos asociados a esas variables\n",
    "\n",
    "Se desea estimar el valor 𝑌 de una casa dada su superficie 𝑋1 y el número de\n",
    "habitaciones 𝑋2 . Hasta ahora, se conocen los siguientes datos de\n",
    "entrenamiento:"
   ]
  },
  {
   "cell_type": "code",
   "execution_count": 2,
   "id": "b937692b",
   "metadata": {},
   "outputs": [
    {
     "data": {
      "text/html": [
       "<div>\n",
       "<style scoped>\n",
       "    .dataframe tbody tr th:only-of-type {\n",
       "        vertical-align: middle;\n",
       "    }\n",
       "\n",
       "    .dataframe tbody tr th {\n",
       "        vertical-align: top;\n",
       "    }\n",
       "\n",
       "    .dataframe thead th {\n",
       "        text-align: right;\n",
       "    }\n",
       "</style>\n",
       "<table border=\"1\" class=\"dataframe\">\n",
       "  <thead>\n",
       "    <tr style=\"text-align: right;\">\n",
       "      <th></th>\n",
       "      <th>y_objetivo</th>\n",
       "      <th>x1</th>\n",
       "      <th>x2</th>\n",
       "    </tr>\n",
       "  </thead>\n",
       "  <tbody>\n",
       "    <tr>\n",
       "      <th>0</th>\n",
       "      <td>120</td>\n",
       "      <td>60</td>\n",
       "      <td>1</td>\n",
       "    </tr>\n",
       "    <tr>\n",
       "      <th>1</th>\n",
       "      <td>125</td>\n",
       "      <td>55</td>\n",
       "      <td>2</td>\n",
       "    </tr>\n",
       "    <tr>\n",
       "      <th>2</th>\n",
       "      <td>130</td>\n",
       "      <td>70</td>\n",
       "      <td>1</td>\n",
       "    </tr>\n",
       "    <tr>\n",
       "      <th>3</th>\n",
       "      <td>112</td>\n",
       "      <td>60</td>\n",
       "      <td>2</td>\n",
       "    </tr>\n",
       "    <tr>\n",
       "      <th>4</th>\n",
       "      <td>122</td>\n",
       "      <td>62</td>\n",
       "      <td>1</td>\n",
       "    </tr>\n",
       "    <tr>\n",
       "      <th>5</th>\n",
       "      <td>135</td>\n",
       "      <td>70</td>\n",
       "      <td>2</td>\n",
       "    </tr>\n",
       "    <tr>\n",
       "      <th>6</th>\n",
       "      <td>128</td>\n",
       "      <td>60</td>\n",
       "      <td>3</td>\n",
       "    </tr>\n",
       "    <tr>\n",
       "      <th>7</th>\n",
       "      <td>140</td>\n",
       "      <td>80</td>\n",
       "      <td>1</td>\n",
       "    </tr>\n",
       "    <tr>\n",
       "      <th>8</th>\n",
       "      <td>150</td>\n",
       "      <td>80</td>\n",
       "      <td>2</td>\n",
       "    </tr>\n",
       "    <tr>\n",
       "      <th>9</th>\n",
       "      <td>160</td>\n",
       "      <td>85</td>\n",
       "      <td>3</td>\n",
       "    </tr>\n",
       "  </tbody>\n",
       "</table>\n",
       "</div>"
      ],
      "text/plain": [
       "   y_objetivo  x1  x2\n",
       "0         120  60   1\n",
       "1         125  55   2\n",
       "2         130  70   1\n",
       "3         112  60   2\n",
       "4         122  62   1\n",
       "5         135  70   2\n",
       "6         128  60   3\n",
       "7         140  80   1\n",
       "8         150  80   2\n",
       "9         160  85   3"
      ]
     },
     "execution_count": 2,
     "metadata": {},
     "output_type": "execute_result"
    }
   ],
   "source": [
    "a = np.matrix('120 60 1; 125 55 2; 130 70 1; 112 60 2; 122 62 1; 135 70 2; 128 60 3; 140 80 1; 150 80 2; 160 85 3')\n",
    "df_train = pd.DataFrame(a, columns = ['y_objetivo','x1','x2'])\n",
    "df_train"
   ]
  },
  {
   "cell_type": "markdown",
   "id": "1ea34bc9",
   "metadata": {},
   "source": [
    "Se pide hallar:\n",
    "1. El modelo de regresión lineal simple de 𝑌 en función de 𝑋1.\n",
    "2. El modelo de regresión lineal simple de 𝑌 en función de 𝑋2.\n",
    "3. El modelo de regresión lineal múltiple de 𝑌 en función de 𝑋1 y 𝑋2.\n",
    "4. Validar cada modelo con el siguiente conjunto de test."
   ]
  },
  {
   "cell_type": "code",
   "execution_count": 3,
   "id": "14d55622",
   "metadata": {},
   "outputs": [
    {
     "data": {
      "text/html": [
       "<div>\n",
       "<style scoped>\n",
       "    .dataframe tbody tr th:only-of-type {\n",
       "        vertical-align: middle;\n",
       "    }\n",
       "\n",
       "    .dataframe tbody tr th {\n",
       "        vertical-align: top;\n",
       "    }\n",
       "\n",
       "    .dataframe thead th {\n",
       "        text-align: right;\n",
       "    }\n",
       "</style>\n",
       "<table border=\"1\" class=\"dataframe\">\n",
       "  <thead>\n",
       "    <tr style=\"text-align: right;\">\n",
       "      <th></th>\n",
       "      <th>y_objetivo</th>\n",
       "      <th>x1</th>\n",
       "      <th>x2</th>\n",
       "    </tr>\n",
       "  </thead>\n",
       "  <tbody>\n",
       "    <tr>\n",
       "      <th>0</th>\n",
       "      <td>120</td>\n",
       "      <td>58</td>\n",
       "      <td>1</td>\n",
       "    </tr>\n",
       "    <tr>\n",
       "      <th>1</th>\n",
       "      <td>128</td>\n",
       "      <td>50</td>\n",
       "      <td>3</td>\n",
       "    </tr>\n",
       "    <tr>\n",
       "      <th>2</th>\n",
       "      <td>140</td>\n",
       "      <td>80</td>\n",
       "      <td>1</td>\n",
       "    </tr>\n",
       "    <tr>\n",
       "      <th>3</th>\n",
       "      <td>115</td>\n",
       "      <td>65</td>\n",
       "      <td>2</td>\n",
       "    </tr>\n",
       "    <tr>\n",
       "      <th>4</th>\n",
       "      <td>120</td>\n",
       "      <td>55</td>\n",
       "      <td>1</td>\n",
       "    </tr>\n",
       "    <tr>\n",
       "      <th>5</th>\n",
       "      <td>145</td>\n",
       "      <td>75</td>\n",
       "      <td>2</td>\n",
       "    </tr>\n",
       "    <tr>\n",
       "      <th>6</th>\n",
       "      <td>125</td>\n",
       "      <td>55</td>\n",
       "      <td>3</td>\n",
       "    </tr>\n",
       "    <tr>\n",
       "      <th>7</th>\n",
       "      <td>170</td>\n",
       "      <td>80</td>\n",
       "      <td>3</td>\n",
       "    </tr>\n",
       "    <tr>\n",
       "      <th>8</th>\n",
       "      <td>135</td>\n",
       "      <td>70</td>\n",
       "      <td>1</td>\n",
       "    </tr>\n",
       "    <tr>\n",
       "      <th>9</th>\n",
       "      <td>155</td>\n",
       "      <td>75</td>\n",
       "      <td>3</td>\n",
       "    </tr>\n",
       "  </tbody>\n",
       "</table>\n",
       "</div>"
      ],
      "text/plain": [
       "   y_objetivo  x1  x2\n",
       "0         120  58   1\n",
       "1         128  50   3\n",
       "2         140  80   1\n",
       "3         115  65   2\n",
       "4         120  55   1\n",
       "5         145  75   2\n",
       "6         125  55   3\n",
       "7         170  80   3\n",
       "8         135  70   1\n",
       "9         155  75   3"
      ]
     },
     "execution_count": 3,
     "metadata": {},
     "output_type": "execute_result"
    }
   ],
   "source": [
    "b = np.matrix('120 58 1; 128 50 3; 140 80 1; 115 65 2; 120 55 1; 145 75 2; 125 55 3; 170 80 3; 135 70 1; 155 75 3')\n",
    "df_test = pd.DataFrame(b, columns = ['y_objetivo','x1','x2'])\n",
    "df_test"
   ]
  },
  {
   "cell_type": "markdown",
   "id": "43131e84",
   "metadata": {},
   "source": [
    "Lo primero es escalar las variables del conjunto **TRAIN**  de x1 y x2 para que esten entre 0-1"
   ]
  },
  {
   "cell_type": "code",
   "execution_count": 4,
   "id": "43a03bb3",
   "metadata": {
    "scrolled": true
   },
   "outputs": [
    {
     "name": "stderr",
     "output_type": "stream",
     "text": [
      "C:\\Users\\Mauro.CespedesAraya\\AppData\\Local\\Temp\\ipykernel_4820\\328919173.py:5: SettingWithCopyWarning: \n",
      "A value is trying to be set on a copy of a slice from a DataFrame\n",
      "\n",
      "See the caveats in the documentation: https://pandas.pydata.org/pandas-docs/stable/user_guide/indexing.html#returning-a-view-versus-a-copy\n",
      "  df_train.x2[i]= (df_train.x2[i] - min(df_train.x2))/(max(df_train.x2) - min(df_train.x2))\n"
     ]
    },
    {
     "data": {
      "text/html": [
       "<div>\n",
       "<style scoped>\n",
       "    .dataframe tbody tr th:only-of-type {\n",
       "        vertical-align: middle;\n",
       "    }\n",
       "\n",
       "    .dataframe tbody tr th {\n",
       "        vertical-align: top;\n",
       "    }\n",
       "\n",
       "    .dataframe thead th {\n",
       "        text-align: right;\n",
       "    }\n",
       "</style>\n",
       "<table border=\"1\" class=\"dataframe\">\n",
       "  <thead>\n",
       "    <tr style=\"text-align: right;\">\n",
       "      <th></th>\n",
       "      <th>y_objetivo</th>\n",
       "      <th>x1</th>\n",
       "      <th>x2</th>\n",
       "    </tr>\n",
       "  </thead>\n",
       "  <tbody>\n",
       "    <tr>\n",
       "      <th>0</th>\n",
       "      <td>120</td>\n",
       "      <td>0.166667</td>\n",
       "      <td>0.000000</td>\n",
       "    </tr>\n",
       "    <tr>\n",
       "      <th>1</th>\n",
       "      <td>125</td>\n",
       "      <td>0.646365</td>\n",
       "      <td>0.666667</td>\n",
       "    </tr>\n",
       "    <tr>\n",
       "      <th>2</th>\n",
       "      <td>130</td>\n",
       "      <td>0.823183</td>\n",
       "      <td>0.333333</td>\n",
       "    </tr>\n",
       "    <tr>\n",
       "      <th>3</th>\n",
       "      <td>112</td>\n",
       "      <td>0.705305</td>\n",
       "      <td>0.666667</td>\n",
       "    </tr>\n",
       "    <tr>\n",
       "      <th>4</th>\n",
       "      <td>122</td>\n",
       "      <td>0.728880</td>\n",
       "      <td>0.333333</td>\n",
       "    </tr>\n",
       "    <tr>\n",
       "      <th>5</th>\n",
       "      <td>135</td>\n",
       "      <td>0.823183</td>\n",
       "      <td>0.666667</td>\n",
       "    </tr>\n",
       "    <tr>\n",
       "      <th>6</th>\n",
       "      <td>128</td>\n",
       "      <td>0.705305</td>\n",
       "      <td>1.000000</td>\n",
       "    </tr>\n",
       "    <tr>\n",
       "      <th>7</th>\n",
       "      <td>140</td>\n",
       "      <td>0.941061</td>\n",
       "      <td>0.333333</td>\n",
       "    </tr>\n",
       "    <tr>\n",
       "      <th>8</th>\n",
       "      <td>150</td>\n",
       "      <td>0.941061</td>\n",
       "      <td>0.666667</td>\n",
       "    </tr>\n",
       "    <tr>\n",
       "      <th>9</th>\n",
       "      <td>160</td>\n",
       "      <td>1.000000</td>\n",
       "      <td>1.000000</td>\n",
       "    </tr>\n",
       "  </tbody>\n",
       "</table>\n",
       "</div>"
      ],
      "text/plain": [
       "   y_objetivo        x1        x2\n",
       "0         120  0.166667  0.000000\n",
       "1         125  0.646365  0.666667\n",
       "2         130  0.823183  0.333333\n",
       "3         112  0.705305  0.666667\n",
       "4         122  0.728880  0.333333\n",
       "5         135  0.823183  0.666667\n",
       "6         128  0.705305  1.000000\n",
       "7         140  0.941061  0.333333\n",
       "8         150  0.941061  0.666667\n",
       "9         160  1.000000  1.000000"
      ]
     },
     "execution_count": 4,
     "metadata": {},
     "output_type": "execute_result"
    }
   ],
   "source": [
    "for i in range(len(df_train.x1)):\n",
    "    df_train.x1[i]= (df_train.x1[i] - min(df_train.x1))/(max(df_train.x1) - min(df_train.x1))\n",
    "    \n",
    "for i in range(len(df_train.x2)):\n",
    "    df_train.x2[i]= (df_train.x2[i] - min(df_train.x2))/(max(df_train.x2) - min(df_train.x2))\n",
    "\n",
    "df_train"
   ]
  },
  {
   "cell_type": "markdown",
   "id": "a537f678",
   "metadata": {},
   "source": [
    "Ahora tenemos que sacar la media de cada columna\n"
   ]
  },
  {
   "cell_type": "code",
   "execution_count": 5,
   "id": "b709af71",
   "metadata": {},
   "outputs": [
    {
     "name": "stdout",
     "output_type": "stream",
     "text": [
      "[0.7760314341846759, 0.6666666666666666, 129.0]\n"
     ]
    }
   ],
   "source": [
    "import statistics\n",
    "\n",
    "media_all = []\n",
    "\n",
    "media_x1 = statistics.median(df_train.x1)\n",
    "media_all.append(media_x1)\n",
    "\n",
    "media_x2 = statistics.median(df_train.x2)\n",
    "media_all.append(media_x2)\n",
    "\n",
    "media_y = statistics.median(df_train.y_objetivo)\n",
    "media_all.append(media_y)\n",
    "    \n",
    "print (media_all)"
   ]
  },
  {
   "cell_type": "markdown",
   "id": "d0b5a546",
   "metadata": {},
   "source": [
    "Con estos datos calculo la matriz de varianza y covarianza"
   ]
  },
  {
   "cell_type": "code",
   "execution_count": 6,
   "id": "81afb061",
   "metadata": {},
   "outputs": [
    {
     "name": "stdout",
     "output_type": "stream",
     "text": [
      "            y_objetivo        x1        x2\n",
      "y_objetivo  210.400000  2.339322  1.948148\n",
      "x1            2.339322  0.055738  0.041598\n",
      "x2            1.948148  0.041598  0.100000\n"
     ]
    }
   ],
   "source": [
    "# Utilizo la funcion de pandas para generar la matriz de covarianza\n",
    "covMatrix = df_train.cov()\n",
    "\n",
    "print(covMatrix)"
   ]
  },
  {
   "cell_type": "markdown",
   "id": "b185c7cf",
   "metadata": {},
   "source": [
    "Ahora con los resultado de la matriz de covarianza y la media calculamos cada modelo."
   ]
  },
  {
   "cell_type": "markdown",
   "id": "f7037ad9",
   "metadata": {},
   "source": [
    "<center> <h4>El modelo de regresión lineal simple de 𝑌 en función de 𝑋1</h4> </center>"
   ]
  },
  {
   "cell_type": "markdown",
   "id": "dcfffbee",
   "metadata": {},
   "source": [
    "Aqui voy a utilizar la formula **simplificada** ----> Sx1,y/ **Sx1\n",
    "\n",
    "En otras palabras la covarianza entre X1 e Y, dividido entre la covarianza de x1 al cuadrado\n"
   ]
  },
  {
   "cell_type": "code",
   "execution_count": 7,
   "id": "52eeae11",
   "metadata": {},
   "outputs": [
    {
     "name": "stdout",
     "output_type": "stream",
     "text": [
      "La variable beta sub 1 es:  41.969966629588434\n"
     ]
    }
   ],
   "source": [
    "beta_sub1 = 2.339322/0.055738\n",
    "\n",
    "print('La variable beta sub 1 es: ',beta_sub1)"
   ]
  },
  {
   "cell_type": "markdown",
   "id": "b9bf610a",
   "metadata": {},
   "source": [
    "Una vez que tengamos esto aplicamos la formula para el sezgo (beta sub 0):\n",
    "\n",
    "    - media de Y (el resultado de la media de Y ONLY) , menos el valor estimado de beat_1, por la media de X1"
   ]
  },
  {
   "cell_type": "code",
   "execution_count": null,
   "id": "c88709ad",
   "metadata": {},
   "outputs": [],
   "source": []
  },
  {
   "cell_type": "code",
   "execution_count": 8,
   "id": "794b76f8",
   "metadata": {},
   "outputs": [
    {
     "name": "stdout",
     "output_type": "stream",
     "text": [
      "La variable beta sub 0 (sezgo) es:  96.4299866037575\n"
     ]
    }
   ],
   "source": [
    "beta_sub0 = media_y - (beta_sub1 * media_x1)\n",
    "\n",
    "print('La variable beta sub 0 (sezgo) es: ',beta_sub0)"
   ]
  },
  {
   "cell_type": "markdown",
   "id": "86897d2e",
   "metadata": {},
   "source": [
    "Entonces con esta informacion mi modelos es el siguiente:\n",
    "\n",
    "- **y = 96.4299866037575 + (41.969966629588434 * x1)**"
   ]
  },
  {
   "cell_type": "markdown",
   "id": "f7baf4a6",
   "metadata": {},
   "source": [
    "<center> <h4>El modelo de regresión lineal simple de 𝑌 en función de 𝑋2</h4> </center>"
   ]
  },
  {
   "cell_type": "code",
   "execution_count": 9,
   "id": "ad137ffe",
   "metadata": {},
   "outputs": [
    {
     "name": "stdout",
     "output_type": "stream",
     "text": [
      "            y_objetivo        x1        x2\n",
      "y_objetivo  210.400000  2.339322  1.948148\n",
      "x1            2.339322  0.055738  0.041598\n",
      "x2            1.948148  0.041598  0.100000\n"
     ]
    }
   ],
   "source": [
    "print(covMatrix)"
   ]
  },
  {
   "cell_type": "markdown",
   "id": "cc1bbe4e",
   "metadata": {},
   "source": [
    "Aqui voy a utilizar la formula simplificada ----> Sx2,y/ **Sx2\n",
    "\n",
    "En otras palabras la covarianza entre X1 e Y, dividido entre la covarianza de x2 al cuadrado (dato de la tabla)"
   ]
  },
  {
   "cell_type": "code",
   "execution_count": 10,
   "id": "153cff00",
   "metadata": {},
   "outputs": [
    {
     "name": "stdout",
     "output_type": "stream",
     "text": [
      "La variable beta sub 2 es:  23.39322\n"
     ]
    }
   ],
   "source": [
    "beta_sub2 = 2.339322/0.100000\n",
    "\n",
    "print('La variable beta sub 2 es: ',beta_sub2)"
   ]
  },
  {
   "cell_type": "markdown",
   "id": "c96316c2",
   "metadata": {},
   "source": [
    "Una vez que tengamos esto aplicamos la formula para el sezgo (beta sub 0):\n",
    "\n",
    "- media de Y (el resultado de la media de Y ONLY) , menos el valor estimado de Betasub1, por la media de X2"
   ]
  },
  {
   "cell_type": "code",
   "execution_count": 11,
   "id": "6c70dc9d",
   "metadata": {},
   "outputs": [
    {
     "name": "stdout",
     "output_type": "stream",
     "text": [
      "La variable beta sub 0 (sezgo) es:  113.40452\n"
     ]
    }
   ],
   "source": [
    "beta_sub0 = media_y - (beta_sub2 * media_x2)\n",
    "\n",
    "print('La variable beta sub 0 (sezgo) es: ',beta_sub0)"
   ]
  },
  {
   "cell_type": "markdown",
   "id": "5b69b989",
   "metadata": {},
   "source": [
    "Entonces con esta informacion mi modelos es el siguiente:\n",
    "\n",
    "- **y = 113.40452 + (23.39322 * x2)**"
   ]
  },
  {
   "cell_type": "markdown",
   "id": "cd6facf3",
   "metadata": {},
   "source": [
    "<center> <h4>El modelo de regresión lineal múltiple de 𝑌 en función de 𝑋1 y 𝑋2.</h4> </center>"
   ]
  },
  {
   "cell_type": "markdown",
   "id": "2d2be611",
   "metadata": {},
   "source": [
    "Aqui es importante tener en cuenta lo que se hablo de el SIGNO. Es importante camabir de signo si en NEGATIVO\n",
    "\n",
    "\n",
    "y_predecida = beta_0 + beta1_x1 +beta2_x2"
   ]
  },
  {
   "cell_type": "code",
   "execution_count": 12,
   "id": "c9724ed7",
   "metadata": {},
   "outputs": [
    {
     "name": "stdout",
     "output_type": "stream",
     "text": [
      "            y_objetivo        x1        x2\n",
      "y_objetivo  210.400000  2.339322  1.948148\n",
      "x1            2.339322  0.055738  0.041598\n",
      "x2            1.948148  0.041598  0.100000\n"
     ]
    }
   ],
   "source": [
    "print(covMatrix)"
   ]
  },
  {
   "cell_type": "markdown",
   "id": "e18a44f8",
   "metadata": {},
   "source": [
    "**Entonces lo primero es averiguar cual es la beta_i**\n",
    "\n",
    "La beta se averigua calculando los conjuntos(A)\n",
    "\n",
    "beta_i = - (A1, i+1 / A1, 1)\n",
    "\n",
    "Entonces aplicamos esta formula a cada beta (beta_1, beta_2)"
   ]
  },
  {
   "cell_type": "markdown",
   "id": "be210e68",
   "metadata": {},
   "source": [
    "**Calculo beta_1**"
   ]
  },
  {
   "cell_type": "code",
   "execution_count": 13,
   "id": "dc35e62e",
   "metadata": {},
   "outputs": [
    {
     "data": {
      "image/png": "[encoded data removed]",
      "text/plain": [
       "<IPython.core.display.Image object>"
      ]
     },
     "execution_count": 13,
     "metadata": {},
     "output_type": "execute_result"
    }
   ],
   "source": [
    "from IPython.display import Image\n",
    "Image(\"img/1.png\")"
   ]
  },
  {
   "cell_type": "markdown",
   "id": "d9da9e21",
   "metadata": {},
   "source": [
    "En este caso la i es:\n",
    "    \n",
    "- beta_1 = -(A1, 2 / A1 , 1)  \n",
    "\n",
    "i = 1  --> representa X1\n",
    "\n",
    "A1 , 2 = Primera fila segnda columna (ELIMINAR)\n",
    "\n",
    "A1 , 1 = Primera fila primera fila (ELIMINAR)\n",
    "\n"
   ]
  },
  {
   "cell_type": "markdown",
   "id": "b5ccbd36",
   "metadata": {},
   "source": [
    "Entonces quito esas columnas y despues multiplico en X los valores que quedan"
   ]
  },
  {
   "cell_type": "code",
   "execution_count": 14,
   "id": "b121b7fb",
   "metadata": {},
   "outputs": [
    {
     "name": "stdout",
     "output_type": "stream",
     "text": [
      "            y_objetivo        x1        x2\n",
      "y_objetivo  210.400000  2.339322  1.948148\n",
      "x1            2.339322  0.055738  0.041598\n",
      "x2            1.948148  0.041598  0.100000\n"
     ]
    }
   ],
   "source": [
    "print(covMatrix)"
   ]
  },
  {
   "cell_type": "markdown",
   "id": "7badf7d2",
   "metadata": {},
   "source": [
    "a = 2.339322*0.100000\n",
    "\n",
    "b = 0.041598*1.948148\n",
    "\n",
    "c = a-b\n",
    "\n",
    "beta_1 = -(c  / A1 , 1)"
   ]
  },
  {
   "cell_type": "code",
   "execution_count": 15,
   "id": "79e0f713",
   "metadata": {},
   "outputs": [
    {
     "name": "stdout",
     "output_type": "stream",
     "text": [
      "(A1 , 2) es igual a :  0.15289313949600003\n"
     ]
    }
   ],
   "source": [
    "a = 2.339322*0.100000\n",
    "\n",
    "b = 0.041598*1.948148\n",
    "\n",
    "c = a-b\n",
    "\n",
    "print('(A1 , 2) es igual a : ',c)"
   ]
  },
  {
   "cell_type": "markdown",
   "id": "271e9587",
   "metadata": {},
   "source": [
    "<p><h3>REVISAR</h3>  el signo si hay que cambiarlo</p>"
   ]
  },
  {
   "cell_type": "markdown",
   "id": "d2cc7d65",
   "metadata": {},
   "source": [
    "beta_1 = -(A1, 2 / A1 , 1) ---> Entonces como la suma es 1 * 2 = 3 (**IMPAR** = CAMBIO SIGNO)\n",
    "\n",
    "beta_1 = -(-(A1, 2) / A1 , 1)\n",
    "\n"
   ]
  },
  {
   "cell_type": "markdown",
   "id": "2bbbed11",
   "metadata": {},
   "source": [
    "Ahora solo tengo que calcular A1 , 1 de la misma manera pero ya no me preocupo del símbolo."
   ]
  },
  {
   "cell_type": "code",
   "execution_count": 16,
   "id": "bfa73e93",
   "metadata": {},
   "outputs": [
    {
     "name": "stdout",
     "output_type": "stream",
     "text": [
      "            y_objetivo        x1        x2\n",
      "y_objetivo  210.400000  2.339322  1.948148\n",
      "x1            2.339322  0.055738  0.041598\n",
      "x2            1.948148  0.041598  0.100000\n"
     ]
    }
   ],
   "source": [
    "print(covMatrix)"
   ]
  },
  {
   "cell_type": "code",
   "execution_count": 17,
   "id": "66fffe9d",
   "metadata": {},
   "outputs": [
    {
     "name": "stdout",
     "output_type": "stream",
     "text": [
      "(A1 , 1) es igual a :  0.15289313949600003\n"
     ]
    }
   ],
   "source": [
    "ai = 0.055738 * 0.100000\n",
    "bi = 0.041598 * 0.041598\n",
    "ci = a-b\n",
    "print('(A1 , 1) es igual a : ',ci)"
   ]
  },
  {
   "cell_type": "markdown",
   "id": "3d6c8243",
   "metadata": {},
   "source": [
    "Ahora finalizo l formula de beta_1"
   ]
  },
  {
   "cell_type": "code",
   "execution_count": 18,
   "id": "875e03be",
   "metadata": {},
   "outputs": [
    {
     "name": "stdout",
     "output_type": "stream",
     "text": [
      "beta_1 es igual a : 1.0\n"
     ]
    }
   ],
   "source": [
    "beta_1 = -(-(c) / ci)\n",
    "\n",
    "print('beta_1 es igual a :', beta_1)"
   ]
  },
  {
   "cell_type": "markdown",
   "id": "22c07542",
   "metadata": {},
   "source": [
    "**Calculo beta_2**"
   ]
  },
  {
   "cell_type": "code",
   "execution_count": 19,
   "id": "cf45823e",
   "metadata": {},
   "outputs": [
    {
     "data": {
      "image/png": "[encoded data removed]",
      "text/plain": [
       "<IPython.core.display.Image object>"
      ]
     },
     "execution_count": 19,
     "metadata": {},
     "output_type": "execute_result"
    }
   ],
   "source": [
    "from IPython.display import Image\n",
    "Image(\"img/1.png\")"
   ]
  },
  {
   "cell_type": "markdown",
   "id": "7c652b16",
   "metadata": {},
   "source": [
    "En este caso la i es:\n",
    "    \n",
    "- beta_2 = -(A1, 3 / A1 , 1)  \n",
    "\n",
    "A1 , 3 = Primera fila tercera columna (ELIMINAR)\n",
    "\n",
    "A1 , 1 = Primera fila primera fila (ELIMINAR)"
   ]
  },
  {
   "cell_type": "code",
   "execution_count": 20,
   "id": "87d04ab9",
   "metadata": {},
   "outputs": [
    {
     "name": "stdout",
     "output_type": "stream",
     "text": [
      "            y_objetivo        x1        x2\n",
      "y_objetivo  210.400000  2.339322  1.948148\n",
      "x1            2.339322  0.055738  0.041598\n",
      "x2            1.948148  0.041598  0.100000\n"
     ]
    }
   ],
   "source": [
    "print(covMatrix)"
   ]
  },
  {
   "cell_type": "markdown",
   "id": "304ae2f7",
   "metadata": {},
   "source": [
    "Entonces quito esas columnas y despues multiplico en X los valores que quedan"
   ]
  },
  {
   "cell_type": "markdown",
   "id": "eae316e5",
   "metadata": {},
   "source": [
    "a2 = 2.339322*0.041598 \n",
    "\n",
    "b2 = 0.055738*1.948148\n",
    "\n",
    "c2 = a2-b2\n",
    "\n",
    "beta_1 = -(c2  / A1 , 1)"
   ]
  },
  {
   "cell_type": "code",
   "execution_count": 21,
   "id": "b2cef04c",
   "metadata": {},
   "outputs": [
    {
     "name": "stdout",
     "output_type": "stream",
     "text": [
      "(A1 , 3) es igual a :  -0.011274756667999986\n"
     ]
    }
   ],
   "source": [
    "a2 = 2.339322*0.041598 \n",
    "\n",
    "b2 = 0.055738*1.948148\n",
    "\n",
    "c2 = a2-b2\n",
    "\n",
    "print('(A1 , 3) es igual a : ',c2)"
   ]
  },
  {
   "cell_type": "markdown",
   "id": "2e1b4df9",
   "metadata": {},
   "source": [
    "<p><h3>REVISAR</h3>  el signo si hay que cambiarlo</p>"
   ]
  },
  {
   "cell_type": "markdown",
   "id": "f4cf5df9",
   "metadata": {},
   "source": [
    "beta_2 = -(A1, 3 / A1 , 1) ---> Entonces como la suma es 1 * 3 = 4 (**PAR** = DEJO EL SIGNO)"
   ]
  },
  {
   "cell_type": "markdown",
   "id": "afd7fc18",
   "metadata": {},
   "source": [
    "Ahora solo tengo que calcular A1 , 1 de la misma manera pero ya no me preocupo del símbolo.\n",
    "\n",
    "**Pero como ya la sacamos más arriba pues ya la tenemos** (ci)"
   ]
  },
  {
   "cell_type": "code",
   "execution_count": null,
   "id": "540026f5",
   "metadata": {},
   "outputs": [],
   "source": []
  },
  {
   "cell_type": "markdown",
   "id": "00f57f4d",
   "metadata": {},
   "source": [
    "Ahora finalizo l formula de beta_2"
   ]
  },
  {
   "cell_type": "code",
   "execution_count": 22,
   "id": "f4520f9d",
   "metadata": {},
   "outputs": [
    {
     "name": "stdout",
     "output_type": "stream",
     "text": [
      "beta_2 es igual a : 1.0\n"
     ]
    }
   ],
   "source": [
    "beta_2 = -(c2 / ci)\n",
    "\n",
    "print('beta_2 es igual a :', beta_1)"
   ]
  },
  {
   "cell_type": "markdown",
   "id": "ebf78b1a",
   "metadata": {},
   "source": [
    "**Ahora calculo beta_0**"
   ]
  },
  {
   "cell_type": "code",
   "execution_count": 23,
   "id": "9b64fc78",
   "metadata": {},
   "outputs": [
    {
     "data": {
      "image/png": "[encoded data removed]",
      "text/plain": [
       "<IPython.core.display.Image object>"
      ]
     },
     "execution_count": 23,
     "metadata": {},
     "output_type": "execute_result"
    }
   ],
   "source": [
    "from IPython.display import Image\n",
    "Image(\"img/2.png\")"
   ]
  },
  {
   "cell_type": "markdown",
   "id": "0930c9a7",
   "metadata": {},
   "source": [
    "Esto se lee:\n",
    "    \n",
    "- beta_0 = media_y - (beta_1 - media_x1) - (beta_2 - media_x2)"
   ]
  },
  {
   "cell_type": "code",
   "execution_count": 24,
   "id": "a2f50dac",
   "metadata": {},
   "outputs": [
    {
     "name": "stdout",
     "output_type": "stream",
     "text": [
      "beta_0 es igual a : 128.17480674946364\n"
     ]
    }
   ],
   "source": [
    "beta_0 =  media_y - (beta_1 * media_x1) - (beta_2 * media_x2)\n",
    "\n",
    "print('beta_0 es igual a :', beta_0)"
   ]
  },
  {
   "cell_type": "markdown",
   "id": "c66fae6e",
   "metadata": {},
   "source": [
    "<center> <h4>Comprobar mi modelo con los datos de prueba del conjunto TEST </h4> </center>"
   ]
  },
  {
   "cell_type": "markdown",
   "id": "d0078d25",
   "metadata": {},
   "source": [
    "Ahora tengo que escalar los datos del conmjunto de prueba\n",
    "\n",
    "**Pero se escalan tomando en cuenta el MIN y MAX del conjunto de TRAIN**\n",
    "\n",
    "Esto porque el test nunca lo voy a ver, y si las variables las escale en el TRAIN entre [0,1]\n",
    "\n",
    "tengo que escalar el conjunto TEST con las mimas variables [0,1] del TRAIN"
   ]
  },
  {
   "cell_type": "code",
   "execution_count": 25,
   "id": "245b6de9",
   "metadata": {},
   "outputs": [
    {
     "name": "stdout",
     "output_type": "stream",
     "text": [
      "Mediana de la predicción 1 es : 67.5\n",
      "Mediana de la predicción 2 es : 67.5\n",
      " \n",
      "Varianza de la predicción 1 es : 9.7\n",
      "Varianza de la predicción 2 es : 9.7\n"
     ]
    },
    {
     "name": "stderr",
     "output_type": "stream",
     "text": [
      "C:\\Users\\Mauro.CespedesAraya\\AppData\\Local\\Temp\\ipykernel_4820\\3361506207.py:22: SettingWithCopyWarning: \n",
      "A value is trying to be set on a copy of a slice from a DataFrame\n",
      "\n",
      "See the caveats in the documentation: https://pandas.pydata.org/pandas-docs/stable/user_guide/indexing.html#returning-a-view-versus-a-copy\n",
      "  df_test.x2[i]= (df_test.x2[i] - media1)/varianza2\n"
     ]
    },
    {
     "data": {
      "text/html": [
       "<div>\n",
       "<style scoped>\n",
       "    .dataframe tbody tr th:only-of-type {\n",
       "        vertical-align: middle;\n",
       "    }\n",
       "\n",
       "    .dataframe tbody tr th {\n",
       "        vertical-align: top;\n",
       "    }\n",
       "\n",
       "    .dataframe thead th {\n",
       "        text-align: right;\n",
       "    }\n",
       "</style>\n",
       "<table border=\"1\" class=\"dataframe\">\n",
       "  <thead>\n",
       "    <tr style=\"text-align: right;\">\n",
       "      <th></th>\n",
       "      <th>y_objetivo</th>\n",
       "      <th>x1</th>\n",
       "      <th>x2</th>\n",
       "    </tr>\n",
       "  </thead>\n",
       "  <tbody>\n",
       "    <tr>\n",
       "      <th>0</th>\n",
       "      <td>120</td>\n",
       "      <td>-1.375258</td>\n",
       "      <td>-6.855670</td>\n",
       "    </tr>\n",
       "    <tr>\n",
       "      <th>1</th>\n",
       "      <td>128</td>\n",
       "      <td>-2.364948</td>\n",
       "      <td>-6.649485</td>\n",
       "    </tr>\n",
       "    <tr>\n",
       "      <th>2</th>\n",
       "      <td>140</td>\n",
       "      <td>1.346392</td>\n",
       "      <td>-6.855670</td>\n",
       "    </tr>\n",
       "    <tr>\n",
       "      <th>3</th>\n",
       "      <td>115</td>\n",
       "      <td>-0.509278</td>\n",
       "      <td>-6.752577</td>\n",
       "    </tr>\n",
       "    <tr>\n",
       "      <th>4</th>\n",
       "      <td>120</td>\n",
       "      <td>-1.746392</td>\n",
       "      <td>-6.855670</td>\n",
       "    </tr>\n",
       "    <tr>\n",
       "      <th>5</th>\n",
       "      <td>145</td>\n",
       "      <td>0.727835</td>\n",
       "      <td>-6.752577</td>\n",
       "    </tr>\n",
       "    <tr>\n",
       "      <th>6</th>\n",
       "      <td>125</td>\n",
       "      <td>-1.746392</td>\n",
       "      <td>-6.649485</td>\n",
       "    </tr>\n",
       "    <tr>\n",
       "      <th>7</th>\n",
       "      <td>170</td>\n",
       "      <td>1.346392</td>\n",
       "      <td>-6.649485</td>\n",
       "    </tr>\n",
       "    <tr>\n",
       "      <th>8</th>\n",
       "      <td>135</td>\n",
       "      <td>0.109278</td>\n",
       "      <td>-6.855670</td>\n",
       "    </tr>\n",
       "    <tr>\n",
       "      <th>9</th>\n",
       "      <td>155</td>\n",
       "      <td>0.727835</td>\n",
       "      <td>-6.649485</td>\n",
       "    </tr>\n",
       "  </tbody>\n",
       "</table>\n",
       "</div>"
      ],
      "text/plain": [
       "   y_objetivo        x1        x2\n",
       "0         120 -1.375258 -6.855670\n",
       "1         128 -2.364948 -6.649485\n",
       "2         140  1.346392 -6.855670\n",
       "3         115 -0.509278 -6.752577\n",
       "4         120 -1.746392 -6.855670\n",
       "5         145  0.727835 -6.752577\n",
       "6         125 -1.746392 -6.649485\n",
       "7         170  1.346392 -6.649485\n",
       "8         135  0.109278 -6.855670\n",
       "9         155  0.727835 -6.649485"
      ]
     },
     "execution_count": 25,
     "metadata": {},
     "output_type": "execute_result"
    }
   ],
   "source": [
    "# Using statistics.median() from statistics\n",
    "media1 = statistics.median(df_test.x1)\n",
    "media2 = statistics.median(df_test.x1)\n",
    "\n",
    "# Deviacion media\n",
    "varianza1 = df_test.x1.mad()\n",
    "varianza2 = df_test.x1.mad()\n",
    "\n",
    "# Printing result\n",
    "print(\"Mediana de la predicción 1 es : \" + str(media1))\n",
    "print(\"Mediana de la predicción 2 es : \" + str(media2))\n",
    "print(' ')\n",
    "print(\"Varianza de la predicción 1 es : \" + str(varianza1))\n",
    "print(\"Varianza de la predicción 2 es : \" + str(varianza2))\n",
    "\n",
    "\n",
    "# Normalizo las predicciones\n",
    "for i in range(len(df_test.x1)):\n",
    "    df_test.x1[i]= (df_test.x1[i] - media1)/varianza1\n",
    "    \n",
    "for i in range(len(df_test.x2)):\n",
    "    df_test.x2[i]= (df_test.x2[i] - media1)/varianza2\n",
    "\n",
    "\n",
    "#Escalo para que me queden valores [0,1]\n",
    "for i in range(len(df_test.x1)):\n",
    "    df_test.x1[i]= (df_test.x1[i] - min(df_train.x1))/(max(df_train.x1) - min(df_train.x1))\n",
    "    \n",
    "for i in range(len(df_test.x2)):\n",
    "    df_test.x2[i]= (df_test.x2[i] - min(df_train.x2))/(max(df_train.x2) - min(df_train.x2))\n",
    "\n",
    "df_test"
   ]
  },
  {
   "cell_type": "markdown",
   "id": "92cc68e3",
   "metadata": {},
   "source": [
    "**Error absoluto medio ( Mean Absolute Error, MAE):**"
   ]
  },
  {
   "cell_type": "code",
   "execution_count": 26,
   "id": "71f5f8ff",
   "metadata": {},
   "outputs": [
    {
     "name": "stdout",
     "output_type": "stream",
     "text": [
      "135.6484536082474\n",
      "142.05257731958758\n"
     ]
    }
   ],
   "source": [
    "from sklearn.metrics import mean_absolute_error\n",
    "from numpy import mean\n",
    "\n",
    "mae1= mean_absolute_error(df_test.y_objetivo, df_test.x1)\n",
    "mae2 = mean_absolute_error(df_test.y_objetivo, df_test.x2)\n",
    "\n",
    "print(mae1)\n",
    "print(mae2)"
   ]
  },
  {
   "cell_type": "code",
   "execution_count": 27,
   "id": "3b513267",
   "metadata": {},
   "outputs": [
    {
     "name": "stdout",
     "output_type": "stream",
     "text": [
      "135.6484536082474\n",
      "142.05257731958758\n"
     ]
    }
   ],
   "source": [
    "# En esta lista guardo los errores\n",
    "errores1 = []\n",
    "errores2 = []\n",
    "# Recorro la lista de la columna objetivo\n",
    "for i in range(len(df_test.y_objetivo)):\n",
    "    \n",
    "        error1 = df_test.y_objetivo[i] - df_test.x1[i]  \n",
    "        error2 = df_test.y_objetivo[i] - df_test.x2[i]\n",
    "        \n",
    "        errores1.append(error1)\n",
    "        errores2.append(error2)\n",
    "    \n",
    "c1x = mean(errores1)\n",
    "c2x = mean(errores2)\n",
    "\n",
    "print (c1x)\n",
    "print (c2x)"
   ]
  },
  {
   "cell_type": "markdown",
   "id": "2aa1273f",
   "metadata": {},
   "source": [
    "**MSE Mean Squared Error(Error medio cuadrado)**"
   ]
  },
  {
   "cell_type": "code",
   "execution_count": 28,
   "id": "91b0f318",
   "metadata": {},
   "outputs": [
    {
     "name": "stdout",
     "output_type": "stream",
     "text": [
      "18643.49259857583\n",
      "20452.454256562873\n"
     ]
    }
   ],
   "source": [
    "from sklearn.metrics import mean_squared_error\n",
    "\n",
    "mse1 = mean_squared_error(df_test.y_objetivo, df_test.x1)\n",
    "\n",
    "#mse11 = np.sqrt((df.y_objetivo - df.pred_m1) ** 2)\n",
    "\n",
    "mse2 = mean_squared_error(df_test.y_objetivo, df_test.x2)\n",
    "\n",
    "# mse = (np.square(df.y_objetivo, df.pred_m1)).mean()\n",
    "\n",
    "print (mse1)        \n",
    "print (mse2)"
   ]
  },
  {
   "cell_type": "markdown",
   "id": "dfa0ef09",
   "metadata": {},
   "source": [
    "**El error cuadrático medio, o RMSE**"
   ]
  },
  {
   "cell_type": "code",
   "execution_count": 29,
   "id": "cf5104a8",
   "metadata": {},
   "outputs": [
    {
     "name": "stdout",
     "output_type": "stream",
     "text": [
      "136.54117546943792\n",
      "143.01207731014495\n"
     ]
    }
   ],
   "source": [
    "# sklearn.métrica importar mean_squared_error\n",
    "from sklearn.metrics import mean_squared_error\n",
    "\n",
    "rmse1x = np.sqrt(((df_test.y_objetivo - df_test.x1) ** 2).mean())\n",
    "rmse2x = np.sqrt(((df_test.y_objetivo - df_test.x2) ** 2).mean())\n",
    "\n",
    "print(rmse1x)\n",
    "print(rmse2x)"
   ]
  },
  {
   "cell_type": "markdown",
   "id": "9f65ded1",
   "metadata": {},
   "source": [
    "| Métrica | Mae | MSE | RMMSE |\n",
    "| --- | --- | --- | ----- |\n",
    "| M1 | 135.6484536082474 | 18643.49259857583 | 136.54117546943792 |\n",
    "| M2 | 133.3 | 18031.9 | 134.28291030507197 |\n"
   ]
  },
  {
   "cell_type": "markdown",
   "id": "51365a50",
   "metadata": {},
   "source": [
    "-------------------------------------------------------------------------------------------------"
   ]
  },
  {
   "cell_type": "markdown",
   "id": "1fdd06c1",
   "metadata": {},
   "source": [
    "## Problema II\n",
    "\n",
    "Haciendo uso de la base de datos Iris vista anteriormente, se ha ejecutado\n",
    "un algoritmo para estimar los parámetros de una regresión logística múltiple.\n",
    "Como el problema tiene tres clases: setosa (1), versicolor (2) y virgínica (3), se\n",
    "han generado los dos modelos siguientes:\n",
    "- 𝑓1(𝑿, 𝛽1) = 541.0741 – 33.121𝑋1 − 10.2824𝑋2 − 38.5734𝑋3 − 90.4374𝑋4\n",
    "- 𝑓2(𝑿,𝜷𝟐) = 501.1562 − 26.3497𝑋1 − 24.2689𝑋2 − 10.7613𝑋3 − 130.0915𝑋4"
   ]
  },
  {
   "cell_type": "markdown",
   "id": "2fc21183",
   "metadata": {},
   "source": [
    "Se pide:\n",
    "    \n",
    "1. Hallar las predicciones del modelo para el siguiente conjunto de test.\n",
    "\n",
    "2. Evaluar el rendimiento del clasificador en dicho conjunto.\n",
    "\n",
    "3. Comparar el modelo obtenido con el expuesto en la lección 3."
   ]
  },
  {
   "cell_type": "code",
   "execution_count": 30,
   "id": "40507ddc",
   "metadata": {},
   "outputs": [
    {
     "data": {
      "text/html": [
       "<div>\n",
       "<style scoped>\n",
       "    .dataframe tbody tr th:only-of-type {\n",
       "        vertical-align: middle;\n",
       "    }\n",
       "\n",
       "    .dataframe tbody tr th {\n",
       "        vertical-align: top;\n",
       "    }\n",
       "\n",
       "    .dataframe thead th {\n",
       "        text-align: right;\n",
       "    }\n",
       "</style>\n",
       "<table border=\"1\" class=\"dataframe\">\n",
       "  <thead>\n",
       "    <tr style=\"text-align: right;\">\n",
       "      <th></th>\n",
       "      <th>patron</th>\n",
       "      <th>x1</th>\n",
       "      <th>x2</th>\n",
       "      <th>x3</th>\n",
       "      <th>x4</th>\n",
       "      <th>clase</th>\n",
       "    </tr>\n",
       "  </thead>\n",
       "  <tbody>\n",
       "    <tr>\n",
       "      <th>0</th>\n",
       "      <td>1.0</td>\n",
       "      <td>4.6</td>\n",
       "      <td>3.2</td>\n",
       "      <td>1.4</td>\n",
       "      <td>0.2</td>\n",
       "      <td>1.0</td>\n",
       "    </tr>\n",
       "    <tr>\n",
       "      <th>1</th>\n",
       "      <td>2.0</td>\n",
       "      <td>5.3</td>\n",
       "      <td>3.7</td>\n",
       "      <td>1.5</td>\n",
       "      <td>0.2</td>\n",
       "      <td>1.0</td>\n",
       "    </tr>\n",
       "    <tr>\n",
       "      <th>2</th>\n",
       "      <td>3.0</td>\n",
       "      <td>5.7</td>\n",
       "      <td>4.4</td>\n",
       "      <td>1.5</td>\n",
       "      <td>0.4</td>\n",
       "      <td>1.0</td>\n",
       "    </tr>\n",
       "    <tr>\n",
       "      <th>3</th>\n",
       "      <td>4.0</td>\n",
       "      <td>5.0</td>\n",
       "      <td>3.5</td>\n",
       "      <td>1.6</td>\n",
       "      <td>0.6</td>\n",
       "      <td>2.0</td>\n",
       "    </tr>\n",
       "    <tr>\n",
       "      <th>4</th>\n",
       "      <td>5.0</td>\n",
       "      <td>5.5</td>\n",
       "      <td>2.5</td>\n",
       "      <td>4.0</td>\n",
       "      <td>1.3</td>\n",
       "      <td>2.0</td>\n",
       "    </tr>\n",
       "    <tr>\n",
       "      <th>5</th>\n",
       "      <td>6.0</td>\n",
       "      <td>5.7</td>\n",
       "      <td>3.0</td>\n",
       "      <td>4.2</td>\n",
       "      <td>1.2</td>\n",
       "      <td>2.0</td>\n",
       "    </tr>\n",
       "    <tr>\n",
       "      <th>6</th>\n",
       "      <td>7.0</td>\n",
       "      <td>5.7</td>\n",
       "      <td>2.8</td>\n",
       "      <td>4.1</td>\n",
       "      <td>1.3</td>\n",
       "      <td>3.0</td>\n",
       "    </tr>\n",
       "    <tr>\n",
       "      <th>7</th>\n",
       "      <td>8.0</td>\n",
       "      <td>5.8</td>\n",
       "      <td>2.7</td>\n",
       "      <td>5.1</td>\n",
       "      <td>1.9</td>\n",
       "      <td>3.0</td>\n",
       "    </tr>\n",
       "    <tr>\n",
       "      <th>8</th>\n",
       "      <td>9.0</td>\n",
       "      <td>6.3</td>\n",
       "      <td>2.5</td>\n",
       "      <td>5.0</td>\n",
       "      <td>1.9</td>\n",
       "      <td>3.0</td>\n",
       "    </tr>\n",
       "    <tr>\n",
       "      <th>9</th>\n",
       "      <td>10.0</td>\n",
       "      <td>5.9</td>\n",
       "      <td>3.0</td>\n",
       "      <td>5.1</td>\n",
       "      <td>1.8</td>\n",
       "      <td>3.0</td>\n",
       "    </tr>\n",
       "  </tbody>\n",
       "</table>\n",
       "</div>"
      ],
      "text/plain": [
       "   patron   x1   x2   x3   x4  clase\n",
       "0     1.0  4.6  3.2  1.4  0.2    1.0\n",
       "1     2.0  5.3  3.7  1.5  0.2    1.0\n",
       "2     3.0  5.7  4.4  1.5  0.4    1.0\n",
       "3     4.0  5.0  3.5  1.6  0.6    2.0\n",
       "4     5.0  5.5  2.5  4.0  1.3    2.0\n",
       "5     6.0  5.7  3.0  4.2  1.2    2.0\n",
       "6     7.0  5.7  2.8  4.1  1.3    3.0\n",
       "7     8.0  5.8  2.7  5.1  1.9    3.0\n",
       "8     9.0  6.3  2.5  5.0  1.9    3.0\n",
       "9    10.0  5.9  3.0  5.1  1.8    3.0"
      ]
     },
     "execution_count": 30,
     "metadata": {},
     "output_type": "execute_result"
    }
   ],
   "source": [
    "patrones = np.matrix('1 4.6 3.2 1.4 0.2 1; 2 5.3 3.7 1.5 0.2 1; 3 5.7 4.4 1.5 0.4 1; 4 5.0 3.5 1.6 0.6 2; 5 5.5 2.5 4.0 1.3 2; 6 5.7 3.0 4.2 1.2 2; 7 5.7 2.8 4.1 1.3 3; 8 5.8 2.7 5.1 1.9 3;9 6.3 2.5 5.0 1.9 3; 10 5.9 3.0 5.1 1.8 3')\n",
    "df_p = pd.DataFrame(patrones, columns = ['patron','x1','x2','x3','x4','clase'])\n",
    "df_p"
   ]
  },
  {
   "cell_type": "markdown",
   "id": "5095c154",
   "metadata": {},
   "source": [
    "**Entonces tenemos varias clases** (1,2,3)\n",
    "\n",
    "Entonces es una regresion logistica MULTICLASE"
   ]
  },
  {
   "cell_type": "code",
   "execution_count": 31,
   "id": "5e2c1fbc",
   "metadata": {},
   "outputs": [
    {
     "data": {
      "image/png": "[encoded data removed]",
      "text/plain": [
       "<IPython.core.display.Image object>"
      ]
     },
     "execution_count": 31,
     "metadata": {},
     "output_type": "execute_result"
    }
   ],
   "source": [
    "from IPython.display import Image\n",
    "Image(\"img/3.png\")"
   ]
  },
  {
   "cell_type": "markdown",
   "id": "ce666cea",
   "metadata": {},
   "source": [
    "Lo que digo es:\n",
    "    \n",
    "- La probabilidad de que Y sea igual a Q dado un patron X va a ser:"
   ]
  },
  {
   "cell_type": "code",
   "execution_count": 32,
   "id": "4f403883",
   "metadata": {},
   "outputs": [
    {
     "data": {
      "image/png": "[encoded data removed]",
      "text/plain": [
       "<IPython.core.display.Image object>"
      ]
     },
     "execution_count": 32,
     "metadata": {},
     "output_type": "execute_result"
    }
   ],
   "source": [
    "from IPython.display import Image\n",
    "\n",
    "Image(\"img/4.png\")"
   ]
  },
  {
   "cell_type": "code",
   "execution_count": 33,
   "id": "8cb25ea0",
   "metadata": {},
   "outputs": [
    {
     "data": {
      "text/html": [
       "<div>\n",
       "<style scoped>\n",
       "    .dataframe tbody tr th:only-of-type {\n",
       "        vertical-align: middle;\n",
       "    }\n",
       "\n",
       "    .dataframe tbody tr th {\n",
       "        vertical-align: top;\n",
       "    }\n",
       "\n",
       "    .dataframe thead th {\n",
       "        text-align: right;\n",
       "    }\n",
       "</style>\n",
       "<table border=\"1\" class=\"dataframe\">\n",
       "  <thead>\n",
       "    <tr style=\"text-align: right;\">\n",
       "      <th></th>\n",
       "      <th>patron</th>\n",
       "      <th>x1</th>\n",
       "      <th>x2</th>\n",
       "      <th>x3</th>\n",
       "      <th>x4</th>\n",
       "      <th>clase</th>\n",
       "    </tr>\n",
       "  </thead>\n",
       "  <tbody>\n",
       "    <tr>\n",
       "      <th>0</th>\n",
       "      <td>1.0</td>\n",
       "      <td>4.6</td>\n",
       "      <td>3.2</td>\n",
       "      <td>1.4</td>\n",
       "      <td>0.2</td>\n",
       "      <td>1.0</td>\n",
       "    </tr>\n",
       "    <tr>\n",
       "      <th>1</th>\n",
       "      <td>2.0</td>\n",
       "      <td>5.3</td>\n",
       "      <td>3.7</td>\n",
       "      <td>1.5</td>\n",
       "      <td>0.2</td>\n",
       "      <td>1.0</td>\n",
       "    </tr>\n",
       "    <tr>\n",
       "      <th>2</th>\n",
       "      <td>3.0</td>\n",
       "      <td>5.7</td>\n",
       "      <td>4.4</td>\n",
       "      <td>1.5</td>\n",
       "      <td>0.4</td>\n",
       "      <td>1.0</td>\n",
       "    </tr>\n",
       "    <tr>\n",
       "      <th>3</th>\n",
       "      <td>4.0</td>\n",
       "      <td>5.0</td>\n",
       "      <td>3.5</td>\n",
       "      <td>1.6</td>\n",
       "      <td>0.6</td>\n",
       "      <td>2.0</td>\n",
       "    </tr>\n",
       "    <tr>\n",
       "      <th>4</th>\n",
       "      <td>5.0</td>\n",
       "      <td>5.5</td>\n",
       "      <td>2.5</td>\n",
       "      <td>4.0</td>\n",
       "      <td>1.3</td>\n",
       "      <td>2.0</td>\n",
       "    </tr>\n",
       "    <tr>\n",
       "      <th>5</th>\n",
       "      <td>6.0</td>\n",
       "      <td>5.7</td>\n",
       "      <td>3.0</td>\n",
       "      <td>4.2</td>\n",
       "      <td>1.2</td>\n",
       "      <td>2.0</td>\n",
       "    </tr>\n",
       "    <tr>\n",
       "      <th>6</th>\n",
       "      <td>7.0</td>\n",
       "      <td>5.7</td>\n",
       "      <td>2.8</td>\n",
       "      <td>4.1</td>\n",
       "      <td>1.3</td>\n",
       "      <td>3.0</td>\n",
       "    </tr>\n",
       "    <tr>\n",
       "      <th>7</th>\n",
       "      <td>8.0</td>\n",
       "      <td>5.8</td>\n",
       "      <td>2.7</td>\n",
       "      <td>5.1</td>\n",
       "      <td>1.9</td>\n",
       "      <td>3.0</td>\n",
       "    </tr>\n",
       "    <tr>\n",
       "      <th>8</th>\n",
       "      <td>9.0</td>\n",
       "      <td>6.3</td>\n",
       "      <td>2.5</td>\n",
       "      <td>5.0</td>\n",
       "      <td>1.9</td>\n",
       "      <td>3.0</td>\n",
       "    </tr>\n",
       "    <tr>\n",
       "      <th>9</th>\n",
       "      <td>10.0</td>\n",
       "      <td>5.9</td>\n",
       "      <td>3.0</td>\n",
       "      <td>5.1</td>\n",
       "      <td>1.8</td>\n",
       "      <td>3.0</td>\n",
       "    </tr>\n",
       "  </tbody>\n",
       "</table>\n",
       "</div>"
      ],
      "text/plain": [
       "   patron   x1   x2   x3   x4  clase\n",
       "0     1.0  4.6  3.2  1.4  0.2    1.0\n",
       "1     2.0  5.3  3.7  1.5  0.2    1.0\n",
       "2     3.0  5.7  4.4  1.5  0.4    1.0\n",
       "3     4.0  5.0  3.5  1.6  0.6    2.0\n",
       "4     5.0  5.5  2.5  4.0  1.3    2.0\n",
       "5     6.0  5.7  3.0  4.2  1.2    2.0\n",
       "6     7.0  5.7  2.8  4.1  1.3    3.0\n",
       "7     8.0  5.8  2.7  5.1  1.9    3.0\n",
       "8     9.0  6.3  2.5  5.0  1.9    3.0\n",
       "9    10.0  5.9  3.0  5.1  1.8    3.0"
      ]
     },
     "execution_count": 33,
     "metadata": {},
     "output_type": "execute_result"
    }
   ],
   "source": [
    "df_p"
   ]
  },
  {
   "cell_type": "markdown",
   "id": "ec8b2373",
   "metadata": {},
   "source": [
    "Hago otro dataset solo con los atributos"
   ]
  },
  {
   "cell_type": "code",
   "execution_count": 34,
   "id": "13bea713",
   "metadata": {},
   "outputs": [
    {
     "name": "stdout",
     "output_type": "stream",
     "text": [
      "    x1   x2   x3   x4\n",
      "0  4.6  3.2  1.4  0.2\n",
      "1  5.3  3.7  1.5  0.2\n",
      "2  5.7  4.4  1.5  0.4\n",
      "3  5.0  3.5  1.6  0.6\n",
      "4  5.5  2.5  4.0  1.3\n",
      "5  5.7  3.0  4.2  1.2\n",
      "6  5.7  2.8  4.1  1.3\n",
      "7  5.8  2.7  5.1  1.9\n",
      "8  6.3  2.5  5.0  1.9\n",
      "9  5.9  3.0  5.1  1.8\n"
     ]
    }
   ],
   "source": [
    "df_atr =  df_p[['x1','x2','x3','x4']]\n",
    "\n",
    "print(df_atr)"
   ]
  },
  {
   "cell_type": "markdown",
   "id": "a6a2c10c",
   "metadata": {},
   "source": [
    "**clase inicial**\n",
    "\n",
    "\n",
    "\n",
    "e = 1\n",
    "\n",
    "**total de clases (q clases). En este caso tengo dos funciones**\n",
    "\n",
    "q = 2\n",
    "\n",
    "𝑓1(x) = 541.0741 – 33.121*𝑋1 − 10.2824*𝑋2 − 38.5734*𝑋3 − 90.4374*𝑋4\n",
    "\n",
    "𝑓2(x) = 501.1562 − 26.3497*𝑋1 − 24.2689*𝑋2 − 10.7613*𝑋3 − 130.0915*𝑋4\n",
    "\n"
   ]
  },
  {
   "cell_type": "markdown",
   "id": "0b8821f0",
   "metadata": {},
   "source": [
    "<center> <h6> Funcion 1 </h6> </center>"
   ]
  },
  {
   "cell_type": "code",
   "execution_count": 35,
   "id": "dc94f9c7",
   "metadata": {},
   "outputs": [],
   "source": [
    "f1_X = []\n",
    "\n",
    "# Lo que tengo son 3 posibilidades\n",
    "probabilidad1 = []\n",
    "\n",
    "# Iteración por filas del DataFrame:\n",
    "for indice_fila, fila in df_atr.iterrows():\n",
    "    #print(indice_fila)\n",
    "    #print(fila['x1'])\n",
    " \n",
    "    res_1 = 541.0741-(33.121*fila['x1'])-(10.2824*fila['x2'])-(38.5734*fila['x3'])-(90.4374*fila['x4'])\n",
    "    f1_X.append(res_1)\n",
    "\n",
    "\n",
    "\n",
    "    \n",
    "\n"
   ]
  },
  {
   "cell_type": "markdown",
   "id": "982ca08f",
   "metadata": {},
   "source": [
    "Ahora si resuelvo:\n",
    "\n",
    "- p_1 = e**(𝑓q(x))/ 1 + sum(e**fe(x))"
   ]
  },
  {
   "cell_type": "code",
   "execution_count": 36,
   "id": "efd88b55",
   "metadata": {},
   "outputs": [
    {
     "name": "stdout",
     "output_type": "stream",
     "text": [
      "[0.28870267333348554, 0.25595464645276883, 0.21674485717456968, 0.22742305812659677, 0.06241684843146231, 0.05179736006247587, 0.048612512784995635, -0.048176452293899504, -0.059009971940472986, -0.04548308123147365]\n"
     ]
    }
   ],
   "source": [
    "for h in f1_X:\n",
    "    p_1 = h / (1 + sum(f1_X))\n",
    "    probabilidad1.append(p_1)\n",
    "\n",
    "print(probabilidad1)"
   ]
  },
  {
   "cell_type": "markdown",
   "id": "557678e6",
   "metadata": {},
   "source": [
    "<center> <h6> Funcion 2 </h6> </center>"
   ]
  },
  {
   "cell_type": "code",
   "execution_count": 37,
   "id": "8467b368",
   "metadata": {},
   "outputs": [],
   "source": [
    "f2_X = []\n",
    "\n",
    "# Lo que tengo son 3 posibilidades\n",
    "probabilidad2 = []\n",
    "\n",
    "# Iteración por filas del DataFrame:\n",
    "for indice_fila, fila in df_atr.iterrows():\n",
    "    #print(indice_fila)\n",
    "    #print(fila['x1'])\n",
    " \n",
    "    res_1 = 501.1562-(26.3497*fila['x1'])-(24.2689*fila['x2'])-(10.7613*fila['x3'])-(130.0915*fila['x4'])\n",
    "    f2_X.append(res_1)"
   ]
  },
  {
   "cell_type": "code",
   "execution_count": 38,
   "id": "10c8c2ef",
   "metadata": {},
   "outputs": [
    {
     "name": "stdout",
     "output_type": "stream",
     "text": [
      "[0.25482090631055304, 0.2239389842398481, 0.17170089443751715, 0.1845709301460844, 0.0813587922009263, 0.07497126980716065, 0.06806499962299226, -0.018784115625403577, -0.025852037197223246, -0.015766190554714284]\n"
     ]
    }
   ],
   "source": [
    "for h in f2_X:\n",
    "    p_2 = h / (1 + sum(f2_X))\n",
    "    probabilidad2.append(p_2)\n",
    "\n",
    "print(probabilidad2)"
   ]
  },
  {
   "cell_type": "markdown",
   "id": "832721e6",
   "metadata": {},
   "source": [
    "<center> <h6> Funcion 3 -ultima clase </h6> </center>"
   ]
  },
  {
   "cell_type": "markdown",
   "id": "4da68676",
   "metadata": {},
   "source": [
    "creo un data frame cn los resultados de las probabilidades1 y 2, para poder recorrerlo y averiguar la última probabilidad"
   ]
  },
  {
   "cell_type": "code",
   "execution_count": 39,
   "id": "aef0aba6",
   "metadata": {},
   "outputs": [],
   "source": [
    "df_probabilidades = pd.DataFrame()"
   ]
  },
  {
   "cell_type": "code",
   "execution_count": 40,
   "id": "b9e565f6",
   "metadata": {},
   "outputs": [],
   "source": [
    "df_probabilidades['p_1'] = probabilidad1\n",
    "df_probabilidades['p_2'] = probabilidad2\n"
   ]
  },
  {
   "cell_type": "code",
   "execution_count": 41,
   "id": "7e8e8b17",
   "metadata": {},
   "outputs": [
    {
     "data": {
      "text/html": [
       "<div>\n",
       "<style scoped>\n",
       "    .dataframe tbody tr th:only-of-type {\n",
       "        vertical-align: middle;\n",
       "    }\n",
       "\n",
       "    .dataframe tbody tr th {\n",
       "        vertical-align: top;\n",
       "    }\n",
       "\n",
       "    .dataframe thead th {\n",
       "        text-align: right;\n",
       "    }\n",
       "</style>\n",
       "<table border=\"1\" class=\"dataframe\">\n",
       "  <thead>\n",
       "    <tr style=\"text-align: right;\">\n",
       "      <th></th>\n",
       "      <th>p_1</th>\n",
       "      <th>p_2</th>\n",
       "    </tr>\n",
       "  </thead>\n",
       "  <tbody>\n",
       "    <tr>\n",
       "      <th>0</th>\n",
       "      <td>0.288703</td>\n",
       "      <td>0.254821</td>\n",
       "    </tr>\n",
       "    <tr>\n",
       "      <th>1</th>\n",
       "      <td>0.255955</td>\n",
       "      <td>0.223939</td>\n",
       "    </tr>\n",
       "    <tr>\n",
       "      <th>2</th>\n",
       "      <td>0.216745</td>\n",
       "      <td>0.171701</td>\n",
       "    </tr>\n",
       "    <tr>\n",
       "      <th>3</th>\n",
       "      <td>0.227423</td>\n",
       "      <td>0.184571</td>\n",
       "    </tr>\n",
       "    <tr>\n",
       "      <th>4</th>\n",
       "      <td>0.062417</td>\n",
       "      <td>0.081359</td>\n",
       "    </tr>\n",
       "    <tr>\n",
       "      <th>5</th>\n",
       "      <td>0.051797</td>\n",
       "      <td>0.074971</td>\n",
       "    </tr>\n",
       "    <tr>\n",
       "      <th>6</th>\n",
       "      <td>0.048613</td>\n",
       "      <td>0.068065</td>\n",
       "    </tr>\n",
       "    <tr>\n",
       "      <th>7</th>\n",
       "      <td>-0.048176</td>\n",
       "      <td>-0.018784</td>\n",
       "    </tr>\n",
       "    <tr>\n",
       "      <th>8</th>\n",
       "      <td>-0.059010</td>\n",
       "      <td>-0.025852</td>\n",
       "    </tr>\n",
       "    <tr>\n",
       "      <th>9</th>\n",
       "      <td>-0.045483</td>\n",
       "      <td>-0.015766</td>\n",
       "    </tr>\n",
       "  </tbody>\n",
       "</table>\n",
       "</div>"
      ],
      "text/plain": [
       "        p_1       p_2\n",
       "0  0.288703  0.254821\n",
       "1  0.255955  0.223939\n",
       "2  0.216745  0.171701\n",
       "3  0.227423  0.184571\n",
       "4  0.062417  0.081359\n",
       "5  0.051797  0.074971\n",
       "6  0.048613  0.068065\n",
       "7 -0.048176 -0.018784\n",
       "8 -0.059010 -0.025852\n",
       "9 -0.045483 -0.015766"
      ]
     },
     "execution_count": 41,
     "metadata": {},
     "output_type": "execute_result"
    }
   ],
   "source": [
    "df_probabilidades"
   ]
  },
  {
   "cell_type": "code",
   "execution_count": 42,
   "id": "e09aa45b",
   "metadata": {},
   "outputs": [
    {
     "name": "stdout",
     "output_type": "stream",
     "text": [
      "[0.4225946533330289, 0.4880907070944623, 0.5665102856508606, 0.5451538837468064, 0.8751663031370753, 0.8964052798750481, 0.9027749744300086, 1.0963529045877989, 1.1180199438809462, 1.0909661624629474]\n"
     ]
    }
   ],
   "source": [
    "#probabilidad 3 porque son 3 clases\n",
    "probabilidad_final = []\n",
    "\n",
    "for indice_fila, fila in df_probabilidades.iterrows():\n",
    "    p_3 = 1-fila['p_1'] - fila['p_1']\n",
    "    probabilidad_final.append(p_3)\n",
    "print(probabilidad_final) "
   ]
  },
  {
   "cell_type": "code",
   "execution_count": 43,
   "id": "cf7a0972",
   "metadata": {},
   "outputs": [],
   "source": [
    "df_probabilidades['p_3'] = probabilidad_final"
   ]
  },
  {
   "cell_type": "code",
   "execution_count": 44,
   "id": "3dd36f2f",
   "metadata": {},
   "outputs": [
    {
     "data": {
      "text/html": [
       "<div>\n",
       "<style scoped>\n",
       "    .dataframe tbody tr th:only-of-type {\n",
       "        vertical-align: middle;\n",
       "    }\n",
       "\n",
       "    .dataframe tbody tr th {\n",
       "        vertical-align: top;\n",
       "    }\n",
       "\n",
       "    .dataframe thead th {\n",
       "        text-align: right;\n",
       "    }\n",
       "</style>\n",
       "<table border=\"1\" class=\"dataframe\">\n",
       "  <thead>\n",
       "    <tr style=\"text-align: right;\">\n",
       "      <th></th>\n",
       "      <th>p_1</th>\n",
       "      <th>p_2</th>\n",
       "      <th>p_3</th>\n",
       "    </tr>\n",
       "  </thead>\n",
       "  <tbody>\n",
       "    <tr>\n",
       "      <th>0</th>\n",
       "      <td>0.288703</td>\n",
       "      <td>0.254821</td>\n",
       "      <td>0.422595</td>\n",
       "    </tr>\n",
       "    <tr>\n",
       "      <th>1</th>\n",
       "      <td>0.255955</td>\n",
       "      <td>0.223939</td>\n",
       "      <td>0.488091</td>\n",
       "    </tr>\n",
       "    <tr>\n",
       "      <th>2</th>\n",
       "      <td>0.216745</td>\n",
       "      <td>0.171701</td>\n",
       "      <td>0.566510</td>\n",
       "    </tr>\n",
       "    <tr>\n",
       "      <th>3</th>\n",
       "      <td>0.227423</td>\n",
       "      <td>0.184571</td>\n",
       "      <td>0.545154</td>\n",
       "    </tr>\n",
       "    <tr>\n",
       "      <th>4</th>\n",
       "      <td>0.062417</td>\n",
       "      <td>0.081359</td>\n",
       "      <td>0.875166</td>\n",
       "    </tr>\n",
       "    <tr>\n",
       "      <th>5</th>\n",
       "      <td>0.051797</td>\n",
       "      <td>0.074971</td>\n",
       "      <td>0.896405</td>\n",
       "    </tr>\n",
       "    <tr>\n",
       "      <th>6</th>\n",
       "      <td>0.048613</td>\n",
       "      <td>0.068065</td>\n",
       "      <td>0.902775</td>\n",
       "    </tr>\n",
       "    <tr>\n",
       "      <th>7</th>\n",
       "      <td>-0.048176</td>\n",
       "      <td>-0.018784</td>\n",
       "      <td>1.096353</td>\n",
       "    </tr>\n",
       "    <tr>\n",
       "      <th>8</th>\n",
       "      <td>-0.059010</td>\n",
       "      <td>-0.025852</td>\n",
       "      <td>1.118020</td>\n",
       "    </tr>\n",
       "    <tr>\n",
       "      <th>9</th>\n",
       "      <td>-0.045483</td>\n",
       "      <td>-0.015766</td>\n",
       "      <td>1.090966</td>\n",
       "    </tr>\n",
       "  </tbody>\n",
       "</table>\n",
       "</div>"
      ],
      "text/plain": [
       "        p_1       p_2       p_3\n",
       "0  0.288703  0.254821  0.422595\n",
       "1  0.255955  0.223939  0.488091\n",
       "2  0.216745  0.171701  0.566510\n",
       "3  0.227423  0.184571  0.545154\n",
       "4  0.062417  0.081359  0.875166\n",
       "5  0.051797  0.074971  0.896405\n",
       "6  0.048613  0.068065  0.902775\n",
       "7 -0.048176 -0.018784  1.096353\n",
       "8 -0.059010 -0.025852  1.118020\n",
       "9 -0.045483 -0.015766  1.090966"
      ]
     },
     "execution_count": 44,
     "metadata": {},
     "output_type": "execute_result"
    }
   ],
   "source": [
    "df_probabilidades"
   ]
  },
  {
   "cell_type": "markdown",
   "id": "ad251537",
   "metadata": {},
   "source": [
    "Ahora sumo las 3 probabilidades y me tienen que dar 1"
   ]
  },
  {
   "cell_type": "code",
   "execution_count": 45,
   "id": "9d2dca05",
   "metadata": {},
   "outputs": [
    {
     "name": "stdout",
     "output_type": "stream",
     "text": [
      "[0.4225946533330289, 0.4880907070944623, 0.5665102856508606, 0.5451538837468064, 0.8751663031370753, 0.8964052798750481, 0.9027749744300086, 1.0963529045877989, 1.1180199438809462, 1.0909661624629474]\n"
     ]
    },
    {
     "data": {
      "text/html": [
       "<div>\n",
       "<style scoped>\n",
       "    .dataframe tbody tr th:only-of-type {\n",
       "        vertical-align: middle;\n",
       "    }\n",
       "\n",
       "    .dataframe tbody tr th {\n",
       "        vertical-align: top;\n",
       "    }\n",
       "\n",
       "    .dataframe thead th {\n",
       "        text-align: right;\n",
       "    }\n",
       "</style>\n",
       "<table border=\"1\" class=\"dataframe\">\n",
       "  <thead>\n",
       "    <tr style=\"text-align: right;\">\n",
       "      <th></th>\n",
       "      <th>p_1</th>\n",
       "      <th>p_2</th>\n",
       "      <th>p_3</th>\n",
       "      <th>sum</th>\n",
       "      <th>y_pred</th>\n",
       "    </tr>\n",
       "  </thead>\n",
       "  <tbody>\n",
       "    <tr>\n",
       "      <th>0</th>\n",
       "      <td>0.288703</td>\n",
       "      <td>0.254821</td>\n",
       "      <td>0.422595</td>\n",
       "      <td>0.966118</td>\n",
       "      <td>0.422595</td>\n",
       "    </tr>\n",
       "    <tr>\n",
       "      <th>1</th>\n",
       "      <td>0.255955</td>\n",
       "      <td>0.223939</td>\n",
       "      <td>0.488091</td>\n",
       "      <td>0.967984</td>\n",
       "      <td>0.488091</td>\n",
       "    </tr>\n",
       "    <tr>\n",
       "      <th>2</th>\n",
       "      <td>0.216745</td>\n",
       "      <td>0.171701</td>\n",
       "      <td>0.566510</td>\n",
       "      <td>0.954956</td>\n",
       "      <td>0.566510</td>\n",
       "    </tr>\n",
       "    <tr>\n",
       "      <th>3</th>\n",
       "      <td>0.227423</td>\n",
       "      <td>0.184571</td>\n",
       "      <td>0.545154</td>\n",
       "      <td>0.957148</td>\n",
       "      <td>0.545154</td>\n",
       "    </tr>\n",
       "    <tr>\n",
       "      <th>4</th>\n",
       "      <td>0.062417</td>\n",
       "      <td>0.081359</td>\n",
       "      <td>0.875166</td>\n",
       "      <td>1.018942</td>\n",
       "      <td>0.875166</td>\n",
       "    </tr>\n",
       "    <tr>\n",
       "      <th>5</th>\n",
       "      <td>0.051797</td>\n",
       "      <td>0.074971</td>\n",
       "      <td>0.896405</td>\n",
       "      <td>1.023174</td>\n",
       "      <td>0.896405</td>\n",
       "    </tr>\n",
       "    <tr>\n",
       "      <th>6</th>\n",
       "      <td>0.048613</td>\n",
       "      <td>0.068065</td>\n",
       "      <td>0.902775</td>\n",
       "      <td>1.019452</td>\n",
       "      <td>0.902775</td>\n",
       "    </tr>\n",
       "    <tr>\n",
       "      <th>7</th>\n",
       "      <td>-0.048176</td>\n",
       "      <td>-0.018784</td>\n",
       "      <td>1.096353</td>\n",
       "      <td>1.029392</td>\n",
       "      <td>1.096353</td>\n",
       "    </tr>\n",
       "    <tr>\n",
       "      <th>8</th>\n",
       "      <td>-0.059010</td>\n",
       "      <td>-0.025852</td>\n",
       "      <td>1.118020</td>\n",
       "      <td>1.033158</td>\n",
       "      <td>1.118020</td>\n",
       "    </tr>\n",
       "    <tr>\n",
       "      <th>9</th>\n",
       "      <td>-0.045483</td>\n",
       "      <td>-0.015766</td>\n",
       "      <td>1.090966</td>\n",
       "      <td>1.029717</td>\n",
       "      <td>1.090966</td>\n",
       "    </tr>\n",
       "  </tbody>\n",
       "</table>\n",
       "</div>"
      ],
      "text/plain": [
       "        p_1       p_2       p_3       sum    y_pred\n",
       "0  0.288703  0.254821  0.422595  0.966118  0.422595\n",
       "1  0.255955  0.223939  0.488091  0.967984  0.488091\n",
       "2  0.216745  0.171701  0.566510  0.954956  0.566510\n",
       "3  0.227423  0.184571  0.545154  0.957148  0.545154\n",
       "4  0.062417  0.081359  0.875166  1.018942  0.875166\n",
       "5  0.051797  0.074971  0.896405  1.023174  0.896405\n",
       "6  0.048613  0.068065  0.902775  1.019452  0.902775\n",
       "7 -0.048176 -0.018784  1.096353  1.029392  1.096353\n",
       "8 -0.059010 -0.025852  1.118020  1.033158  1.118020\n",
       "9 -0.045483 -0.015766  1.090966  1.029717  1.090966"
      ]
     },
     "execution_count": 45,
     "metadata": {},
     "output_type": "execute_result"
    }
   ],
   "source": [
    "suma = []\n",
    "prediccion = []\n",
    "# Averiguamos cual es la prediccion\n",
    "\n",
    "for indice_fila, fila in df_probabilidades.iterrows():\n",
    "    \n",
    "    total = fila['p_1'] + fila['p_2'] + fila['p_3']\n",
    "    suma.append(total)\n",
    "    \n",
    "    lista = [fila['p_1'],fila['p_2'],fila['p_3']]\n",
    "    \n",
    "    x = max(lista)  \n",
    "    \n",
    "    prediccion.append(x)\n",
    "    \n",
    "df_probabilidades['sum'] = suma\n",
    "df_probabilidades['y_pred'] = prediccion\n",
    "\n",
    "print(prediccion)\n",
    "\n",
    "df_probabilidades"
   ]
  },
  {
   "cell_type": "code",
   "execution_count": 46,
   "id": "645b9a32",
   "metadata": {},
   "outputs": [],
   "source": [
    "df_probabilidades['y'] = df_p.clase\n"
   ]
  },
  {
   "cell_type": "code",
   "execution_count": 47,
   "id": "aebf68c6",
   "metadata": {},
   "outputs": [
    {
     "data": {
      "text/html": [
       "<div>\n",
       "<style scoped>\n",
       "    .dataframe tbody tr th:only-of-type {\n",
       "        vertical-align: middle;\n",
       "    }\n",
       "\n",
       "    .dataframe tbody tr th {\n",
       "        vertical-align: top;\n",
       "    }\n",
       "\n",
       "    .dataframe thead th {\n",
       "        text-align: right;\n",
       "    }\n",
       "</style>\n",
       "<table border=\"1\" class=\"dataframe\">\n",
       "  <thead>\n",
       "    <tr style=\"text-align: right;\">\n",
       "      <th></th>\n",
       "      <th>p_1</th>\n",
       "      <th>p_2</th>\n",
       "      <th>p_3</th>\n",
       "      <th>sum</th>\n",
       "      <th>y_pred</th>\n",
       "      <th>y</th>\n",
       "    </tr>\n",
       "  </thead>\n",
       "  <tbody>\n",
       "    <tr>\n",
       "      <th>0</th>\n",
       "      <td>0.288703</td>\n",
       "      <td>0.254821</td>\n",
       "      <td>0.422595</td>\n",
       "      <td>0.966118</td>\n",
       "      <td>0.422595</td>\n",
       "      <td>1.0</td>\n",
       "    </tr>\n",
       "    <tr>\n",
       "      <th>1</th>\n",
       "      <td>0.255955</td>\n",
       "      <td>0.223939</td>\n",
       "      <td>0.488091</td>\n",
       "      <td>0.967984</td>\n",
       "      <td>0.488091</td>\n",
       "      <td>1.0</td>\n",
       "    </tr>\n",
       "    <tr>\n",
       "      <th>2</th>\n",
       "      <td>0.216745</td>\n",
       "      <td>0.171701</td>\n",
       "      <td>0.566510</td>\n",
       "      <td>0.954956</td>\n",
       "      <td>0.566510</td>\n",
       "      <td>1.0</td>\n",
       "    </tr>\n",
       "    <tr>\n",
       "      <th>3</th>\n",
       "      <td>0.227423</td>\n",
       "      <td>0.184571</td>\n",
       "      <td>0.545154</td>\n",
       "      <td>0.957148</td>\n",
       "      <td>0.545154</td>\n",
       "      <td>2.0</td>\n",
       "    </tr>\n",
       "    <tr>\n",
       "      <th>4</th>\n",
       "      <td>0.062417</td>\n",
       "      <td>0.081359</td>\n",
       "      <td>0.875166</td>\n",
       "      <td>1.018942</td>\n",
       "      <td>0.875166</td>\n",
       "      <td>2.0</td>\n",
       "    </tr>\n",
       "    <tr>\n",
       "      <th>5</th>\n",
       "      <td>0.051797</td>\n",
       "      <td>0.074971</td>\n",
       "      <td>0.896405</td>\n",
       "      <td>1.023174</td>\n",
       "      <td>0.896405</td>\n",
       "      <td>2.0</td>\n",
       "    </tr>\n",
       "    <tr>\n",
       "      <th>6</th>\n",
       "      <td>0.048613</td>\n",
       "      <td>0.068065</td>\n",
       "      <td>0.902775</td>\n",
       "      <td>1.019452</td>\n",
       "      <td>0.902775</td>\n",
       "      <td>3.0</td>\n",
       "    </tr>\n",
       "    <tr>\n",
       "      <th>7</th>\n",
       "      <td>-0.048176</td>\n",
       "      <td>-0.018784</td>\n",
       "      <td>1.096353</td>\n",
       "      <td>1.029392</td>\n",
       "      <td>1.096353</td>\n",
       "      <td>3.0</td>\n",
       "    </tr>\n",
       "    <tr>\n",
       "      <th>8</th>\n",
       "      <td>-0.059010</td>\n",
       "      <td>-0.025852</td>\n",
       "      <td>1.118020</td>\n",
       "      <td>1.033158</td>\n",
       "      <td>1.118020</td>\n",
       "      <td>3.0</td>\n",
       "    </tr>\n",
       "    <tr>\n",
       "      <th>9</th>\n",
       "      <td>-0.045483</td>\n",
       "      <td>-0.015766</td>\n",
       "      <td>1.090966</td>\n",
       "      <td>1.029717</td>\n",
       "      <td>1.090966</td>\n",
       "      <td>3.0</td>\n",
       "    </tr>\n",
       "  </tbody>\n",
       "</table>\n",
       "</div>"
      ],
      "text/plain": [
       "        p_1       p_2       p_3       sum    y_pred    y\n",
       "0  0.288703  0.254821  0.422595  0.966118  0.422595  1.0\n",
       "1  0.255955  0.223939  0.488091  0.967984  0.488091  1.0\n",
       "2  0.216745  0.171701  0.566510  0.954956  0.566510  1.0\n",
       "3  0.227423  0.184571  0.545154  0.957148  0.545154  2.0\n",
       "4  0.062417  0.081359  0.875166  1.018942  0.875166  2.0\n",
       "5  0.051797  0.074971  0.896405  1.023174  0.896405  2.0\n",
       "6  0.048613  0.068065  0.902775  1.019452  0.902775  3.0\n",
       "7 -0.048176 -0.018784  1.096353  1.029392  1.096353  3.0\n",
       "8 -0.059010 -0.025852  1.118020  1.033158  1.118020  3.0\n",
       "9 -0.045483 -0.015766  1.090966  1.029717  1.090966  3.0"
      ]
     },
     "execution_count": 47,
     "metadata": {},
     "output_type": "execute_result"
    }
   ],
   "source": [
    "df_probabilidades"
   ]
  },
  {
   "cell_type": "markdown",
   "id": "178d7700",
   "metadata": {},
   "source": [
    "## Problema III\n",
    "\n",
    "Para un problema de clasificación binaria y con tres características se han\n",
    "recogido los siguientes patrones de entrenamiento."
   ]
  },
  {
   "cell_type": "code",
   "execution_count": null,
   "id": "50aeb946",
   "metadata": {},
   "outputs": [],
   "source": []
  },
  {
   "cell_type": "markdown",
   "id": "3ad079b4",
   "metadata": {},
   "source": [
    "Se pide:\n",
    "    \n",
    "1. Hallar las predicciones del modelo para el siguiente conjunto de test, con\n",
    "el valor de 𝑘 = 1 y 𝑘 = 3 vecinos, y la distancia euclídea.\n",
    "\n",
    "2. Evaluar el rendimiento del clasificador en dicho conjunto para ambos\n",
    "valores de 𝑘."
   ]
  },
  {
   "cell_type": "code",
   "execution_count": 48,
   "id": "7581520e",
   "metadata": {},
   "outputs": [
    {
     "name": "stdout",
     "output_type": "stream",
     "text": [
      "Clase test\n",
      "     0    1    2  clase\n",
      "0  5.0  3.5  1.7    1.0\n",
      "1  4.3  2.8  1.5    1.0\n",
      "2  2.7  4.5  1.2    3.0\n",
      "3  5.0  4.2  1.3    3.0\n",
      "4  6.3  2.5  4.1    1.0\n",
      "5  5.2  3.0  4.5    2.0\n",
      "6  4.5  3.0  4.2    2.0\n",
      "7  5.9  2.9  5.2    2.0\n",
      "8  5.0  2.4  5.1    1.0\n",
      "9  4.5  3.2  5.0    2.0\n",
      "\n",
      "-----------------------\n",
      "Clase train\n",
      "     0    1    2  clase\n",
      "0  4.6  3.2  1.4    1.0\n",
      "1  5.3  3.7  1.5    3.0\n",
      "2  5.7  4.4  1.5    1.0\n",
      "3  5.0  3.5  1.6    2.0\n",
      "4  5.5  2.5  4.0    1.0\n",
      "5  5.7  3.0  4.2    2.0\n",
      "6  5.7  2.8  4.1    2.0\n",
      "7  5.8  2.7  5.1    1.0\n",
      "8  6.3  2.5  5.0    2.0\n",
      "9  5.9  3.0  5.1    3.0\n"
     ]
    }
   ],
   "source": [
    "patrones_iii_test = np.matrix('5 3.5 1.7 1;4.3 2.8 1.5 1;2.7 4.5 1.2 3;5.0 4.2 1.3 3;6.3 2.5 4.1 1;5.2 3.0 4.5 2;4.5 3 4.2 2;5.9 2.9 5.2 2;5 2.4 5.1 1;4.5 3.2 5.0 2', dtype='f')\n",
    "df_test = pd.DataFrame(patrones_iii_test, columns = [0, 1, 2,'clase'])\n",
    "df_test.apply(pd.to_numeric)\n",
    "\n",
    "\n",
    "\n",
    "patrones_iii_train = np.matrix('4.6 3.2 1.4 1; 5.3 3.7 1.5 3; 5.7 4.4 1.5 1; 5.0 3.5 1.6 2; 5.5 2.5 4.0 1;5.7 3.0 4.2 2; 5.7 2.8 4.1 2; 5.8 2.7 5.1 1; 6.3 2.5 5.0 2; 5.9 3.0 5.1 3',dtype='f')\n",
    "df_train = pd.DataFrame(patrones_iii_train, columns = [0, 1, 2,'clase'])\n",
    "df_train.apply(pd.to_numeric)\n",
    "\n",
    "\n",
    "print('Clase test')\n",
    "print(df_test)\n",
    "print()\n",
    "print('-----------------------')\n",
    "print('Clase train')\n",
    "print(df_train)\n"
   ]
  },
  {
   "cell_type": "markdown",
   "id": "a377a742",
   "metadata": {},
   "source": [
    "**2- Distancia euclídea**"
   ]
  },
  {
   "cell_type": "code",
   "execution_count": 49,
   "id": "d8094a88",
   "metadata": {},
   "outputs": [
    {
     "data": {
      "image/png": "[encoded data removed]",
      "text/plain": [
       "<IPython.core.display.Image object>"
      ]
     },
     "execution_count": 49,
     "metadata": {},
     "output_type": "execute_result"
    }
   ],
   "source": [
    "from IPython.display import Image\n",
    "\n",
    "Image(\"img/6.png\")"
   ]
  },
  {
   "cell_type": "markdown",
   "id": "f2df9f73",
   "metadata": {},
   "source": [
    "**Matriz de distancias**"
   ]
  },
  {
   "cell_type": "markdown",
   "id": "71502493",
   "metadata": {},
   "source": [
    " El paquete scipy.spatial nos proporciona el método distance_matrix() para calcular la matriz de distancias. \n",
    "    \n",
    "Generalmente, las arrays están en forma de matriz 2-D y los vectores de la matriz son filas de matriz (matriz 1-D)."
   ]
  },
  {
   "cell_type": "markdown",
   "id": "39fffe14",
   "metadata": {},
   "source": [
    "Calculamos la matriz de distancia para dos arrays \n",
    "\n",
    "Ambas arrays tienen la misma dimensión   ------ > 10,4"
   ]
  },
  {
   "cell_type": "code",
   "execution_count": 50,
   "id": "5826b9d4",
   "metadata": {},
   "outputs": [],
   "source": [
    "import numpy as np\n",
    "from scipy.spatial import distance_matrix"
   ]
  },
  {
   "cell_type": "code",
   "execution_count": 51,
   "id": "9099ffc8",
   "metadata": {},
   "outputs": [
    {
     "name": "stdout",
     "output_type": "stream",
     "text": [
      "matrix x:\n",
      "      0    1    2  clase\n",
      "0  5.0  3.5  1.7    1.0\n",
      "1  4.3  2.8  1.5    1.0\n",
      "2  2.7  4.5  1.2    3.0\n",
      "3  5.0  4.2  1.3    3.0\n",
      "4  6.3  2.5  4.1    1.0\n",
      "5  5.2  3.0  4.5    2.0\n",
      "6  4.5  3.0  4.2    2.0\n",
      "7  5.9  2.9  5.2    2.0\n",
      "8  5.0  2.4  5.1    1.0\n",
      "9  4.5  3.2  5.0    2.0\n",
      "matrix y:\n",
      "      0    1    2  clase\n",
      "0  4.6  3.2  1.4    1.0\n",
      "1  5.3  3.7  1.5    3.0\n",
      "2  5.7  4.4  1.5    1.0\n",
      "3  5.0  3.5  1.6    2.0\n",
      "4  5.5  2.5  4.0    1.0\n",
      "5  5.7  3.0  4.2    2.0\n",
      "6  5.7  2.8  4.1    2.0\n",
      "7  5.8  2.7  5.1    1.0\n",
      "8  6.3  2.5  5.0    2.0\n",
      "9  5.9  3.0  5.1    3.0\n"
     ]
    }
   ],
   "source": [
    "# compute the distance matrix\n",
    "# Le envio las variables de los dos datasets\n",
    "# p= 2 significa el tipo de algoritmo que se utiliza\n",
    "# Voy a medir la distacia de cada variable entre cada patron de test y cada patron de train\n",
    "dist_mat = distance_matrix(df_test, df_train, p=2)\n",
    "\n",
    "print(\"matrix x:\\n\", df_test)\n",
    "print(\"matrix y:\\n\", df_train)"
   ]
  },
  {
   "cell_type": "code",
   "execution_count": 52,
   "id": "fa977794",
   "metadata": {},
   "outputs": [
    {
     "data": {
      "text/html": [
       "<div>\n",
       "<style scoped>\n",
       "    .dataframe tbody tr th:only-of-type {\n",
       "        vertical-align: middle;\n",
       "    }\n",
       "\n",
       "    .dataframe tbody tr th {\n",
       "        vertical-align: top;\n",
       "    }\n",
       "\n",
       "    .dataframe thead th {\n",
       "        text-align: right;\n",
       "    }\n",
       "</style>\n",
       "<table border=\"1\" class=\"dataframe\">\n",
       "  <thead>\n",
       "    <tr style=\"text-align: right;\">\n",
       "      <th></th>\n",
       "      <th>0</th>\n",
       "      <th>1</th>\n",
       "      <th>2</th>\n",
       "      <th>3</th>\n",
       "      <th>4</th>\n",
       "      <th>5</th>\n",
       "      <th>6</th>\n",
       "      <th>7</th>\n",
       "      <th>8</th>\n",
       "      <th>9</th>\n",
       "    </tr>\n",
       "  </thead>\n",
       "  <tbody>\n",
       "    <tr>\n",
       "      <th>0</th>\n",
       "      <td>0.583095</td>\n",
       "      <td>2.042058</td>\n",
       "      <td>1.157584</td>\n",
       "      <td>1.004988</td>\n",
       "      <td>2.557342</td>\n",
       "      <td>2.826659</td>\n",
       "      <td>2.782085</td>\n",
       "      <td>3.583294</td>\n",
       "      <td>3.818377</td>\n",
       "      <td>4.076763</td>\n",
       "    </tr>\n",
       "    <tr>\n",
       "      <th>1</th>\n",
       "      <td>0.509902</td>\n",
       "      <td>2.410394</td>\n",
       "      <td>2.126029</td>\n",
       "      <td>1.410674</td>\n",
       "      <td>2.789265</td>\n",
       "      <td>3.207803</td>\n",
       "      <td>3.117691</td>\n",
       "      <td>3.901282</td>\n",
       "      <td>4.164133</td>\n",
       "      <td>4.422669</td>\n",
       "    </tr>\n",
       "    <tr>\n",
       "      <th>2</th>\n",
       "      <td>3.056141</td>\n",
       "      <td>2.736787</td>\n",
       "      <td>3.619392</td>\n",
       "      <td>2.729469</td>\n",
       "      <td>4.866210</td>\n",
       "      <td>4.609772</td>\n",
       "      <td>4.615192</td>\n",
       "      <td>5.662155</td>\n",
       "      <td>5.692100</td>\n",
       "      <td>5.263079</td>\n",
       "    </tr>\n",
       "    <tr>\n",
       "      <th>3</th>\n",
       "      <td>2.273763</td>\n",
       "      <td>0.616441</td>\n",
       "      <td>2.137756</td>\n",
       "      <td>1.256980</td>\n",
       "      <td>3.798684</td>\n",
       "      <td>3.367491</td>\n",
       "      <td>3.360059</td>\n",
       "      <td>4.618441</td>\n",
       "      <td>4.389761</td>\n",
       "      <td>4.085340</td>\n",
       "    </tr>\n",
       "    <tr>\n",
       "      <th>4</th>\n",
       "      <td>3.266497</td>\n",
       "      <td>3.633180</td>\n",
       "      <td>3.275668</td>\n",
       "      <td>3.152777</td>\n",
       "      <td>0.806226</td>\n",
       "      <td>1.272792</td>\n",
       "      <td>1.204160</td>\n",
       "      <td>1.135782</td>\n",
       "      <td>1.345362</td>\n",
       "      <td>2.325941</td>\n",
       "    </tr>\n",
       "    <tr>\n",
       "      <th>5</th>\n",
       "      <td>3.318132</td>\n",
       "      <td>3.240370</td>\n",
       "      <td>3.494281</td>\n",
       "      <td>2.949576</td>\n",
       "      <td>1.260952</td>\n",
       "      <td>0.583095</td>\n",
       "      <td>0.670820</td>\n",
       "      <td>1.345363</td>\n",
       "      <td>1.307670</td>\n",
       "      <td>1.360147</td>\n",
       "    </tr>\n",
       "    <tr>\n",
       "      <th>6</th>\n",
       "      <td>2.981610</td>\n",
       "      <td>3.069202</td>\n",
       "      <td>3.419064</td>\n",
       "      <td>2.694439</td>\n",
       "      <td>1.513275</td>\n",
       "      <td>1.200000</td>\n",
       "      <td>1.220655</td>\n",
       "      <td>1.894730</td>\n",
       "      <td>2.032240</td>\n",
       "      <td>1.941649</td>\n",
       "    </tr>\n",
       "    <tr>\n",
       "      <th>7</th>\n",
       "      <td>4.149699</td>\n",
       "      <td>3.961060</td>\n",
       "      <td>4.120679</td>\n",
       "      <td>3.758989</td>\n",
       "      <td>1.661325</td>\n",
       "      <td>1.024695</td>\n",
       "      <td>1.122497</td>\n",
       "      <td>1.029563</td>\n",
       "      <td>0.600000</td>\n",
       "      <td>1.009950</td>\n",
       "    </tr>\n",
       "    <tr>\n",
       "      <th>8</th>\n",
       "      <td>3.806573</td>\n",
       "      <td>4.328972</td>\n",
       "      <td>4.177320</td>\n",
       "      <td>3.802631</td>\n",
       "      <td>1.212435</td>\n",
       "      <td>1.630951</td>\n",
       "      <td>1.627882</td>\n",
       "      <td>0.854401</td>\n",
       "      <td>1.646208</td>\n",
       "      <td>2.273763</td>\n",
       "    </tr>\n",
       "    <tr>\n",
       "      <th>9</th>\n",
       "      <td>3.737646</td>\n",
       "      <td>3.760319</td>\n",
       "      <td>4.016217</td>\n",
       "      <td>3.449638</td>\n",
       "      <td>1.868154</td>\n",
       "      <td>1.456022</td>\n",
       "      <td>1.552417</td>\n",
       "      <td>1.717557</td>\n",
       "      <td>1.931321</td>\n",
       "      <td>1.734935</td>\n",
       "    </tr>\n",
       "  </tbody>\n",
       "</table>\n",
       "</div>"
      ],
      "text/plain": [
       "          0         1         2         3         4         5         6  \\\n",
       "0  0.583095  2.042058  1.157584  1.004988  2.557342  2.826659  2.782085   \n",
       "1  0.509902  2.410394  2.126029  1.410674  2.789265  3.207803  3.117691   \n",
       "2  3.056141  2.736787  3.619392  2.729469  4.866210  4.609772  4.615192   \n",
       "3  2.273763  0.616441  2.137756  1.256980  3.798684  3.367491  3.360059   \n",
       "4  3.266497  3.633180  3.275668  3.152777  0.806226  1.272792  1.204160   \n",
       "5  3.318132  3.240370  3.494281  2.949576  1.260952  0.583095  0.670820   \n",
       "6  2.981610  3.069202  3.419064  2.694439  1.513275  1.200000  1.220655   \n",
       "7  4.149699  3.961060  4.120679  3.758989  1.661325  1.024695  1.122497   \n",
       "8  3.806573  4.328972  4.177320  3.802631  1.212435  1.630951  1.627882   \n",
       "9  3.737646  3.760319  4.016217  3.449638  1.868154  1.456022  1.552417   \n",
       "\n",
       "          7         8         9  \n",
       "0  3.583294  3.818377  4.076763  \n",
       "1  3.901282  4.164133  4.422669  \n",
       "2  5.662155  5.692100  5.263079  \n",
       "3  4.618441  4.389761  4.085340  \n",
       "4  1.135782  1.345362  2.325941  \n",
       "5  1.345363  1.307670  1.360147  \n",
       "6  1.894730  2.032240  1.941649  \n",
       "7  1.029563  0.600000  1.009950  \n",
       "8  0.854401  1.646208  2.273763  \n",
       "9  1.717557  1.931321  1.734935  "
      ]
     },
     "execution_count": 52,
     "metadata": {},
     "output_type": "execute_result"
    }
   ],
   "source": [
    "dist_mat\n",
    "\n",
    "# Convierto mi matriz a pandas para poder visualizarla mejor\n",
    "tabla_vecino = pd.DataFrame(dist_mat, columns= ['0','1','2','3','4','5','6','7','8','9'])\n",
    "\n",
    "#tabla_vecino['y'] = df_train.clase\n",
    "\n",
    "tabla_vecino"
   ]
  },
  {
   "cell_type": "markdown",
   "id": "2bd40059",
   "metadata": {},
   "source": [
    "Escojo cuales son las variables (x) con las distancias más pequeñas \n",
    "\n",
    "Es decir, busco los más cercanos con distancia más cortas\n",
    "\n",
    "Si tengo **k = 3** busco los 3 vecinos más cercanos en cada linea\n",
    "\n",
    "pero al final es solo para ubicar en que posicion están\n",
    "\n",
    "Luego regresamos al conjuinto de train y vemos que se selecciono ahí como prediccion.\n",
    "\n",
    "Entre los tres escojemos una categoria para ese registro"
   ]
  },
  {
   "cell_type": "code",
   "execution_count": 53,
   "id": "9ebe0f80",
   "metadata": {},
   "outputs": [
    {
     "name": "stdout",
     "output_type": "stream",
     "text": [
      "0.5830952671725921\n",
      "0.509901862519673\n",
      "2.7294687691163317\n",
      "0.6164413152084476\n",
      "0.8062259522629748\n",
      "0.5830952876168306\n",
      "1.1999998092651367\n",
      "0.6000000635783299\n",
      "0.8544005363795076\n",
      "1.456021932007094\n"
     ]
    }
   ],
   "source": [
    "# Creo un data frame para guradar los 3 valores minimos.\n",
    "# El key es el row y el value es la columna\n",
    "for key, value in tabla_vecino.iterrows():\n",
    "    \n",
    "    min = value[0]\n",
    "    \n",
    "    for i in range(1,len(value)):\n",
    "        \n",
    "        if value[i] < min:\n",
    "            min = value[i]\n",
    "\n",
    "    print(min)\n",
    "    \n",
    "    #print('Esta es la key', key)\n",
    "    #print('Este es el value', value)\n",
    "   # print('Este es el key-value',value[key])\n",
    "\n"
   ]
  },
  {
   "cell_type": "markdown",
   "id": "906d645e",
   "metadata": {},
   "source": [
    "Aqui no fui capaz de obtener los 3 numeros mas bajos para poder compararlos con el train data set\n",
    "\n",
    "Obtengo el número más bajo con el minimo pero no logro de manera manual generar un algoritmo "
   ]
  },
  {
   "cell_type": "markdown",
   "id": "82949f11",
   "metadata": {},
   "source": [
    "### Lo intento hacer con la libreria de sklearn"
   ]
  },
  {
   "cell_type": "markdown",
   "id": "6df32c7e",
   "metadata": {},
   "source": [
    "Dividimos la muestra en los conjuntos de datos para el entrenamiento y para la prueba de exactitud"
   ]
  },
  {
   "cell_type": "code",
   "execution_count": 54,
   "id": "c49d90fe",
   "metadata": {},
   "outputs": [
    {
     "name": "stdout",
     "output_type": "stream",
     "text": [
      "Set de Entrenamiento: (8, 4) (8, 4)\n",
      "Set de Prueba: (2, 4) (2, 4)\n"
     ]
    }
   ],
   "source": [
    "from sklearn.model_selection import train_test_split\n",
    "\n",
    "X_train, X_test, y_train, y_test = train_test_split( df_train, df_test, test_size=0.2, random_state=4)\n",
    "\n",
    "print ('Set de Entrenamiento:', X_train.shape,  y_train.shape)\n",
    "\n",
    "print ('Set de Prueba:', X_test.shape,  y_test.shape)\n"
   ]
  },
  {
   "cell_type": "markdown",
   "id": "4adf571f",
   "metadata": {},
   "source": [
    "**Clasificacion**"
   ]
  },
  {
   "cell_type": "code",
   "execution_count": 55,
   "id": "1f09d96b",
   "metadata": {},
   "outputs": [
    {
     "name": "stderr",
     "output_type": "stream",
     "text": [
      "c:\\users\\mauro.cespedesaraya\\appdata\\local\\programs\\python\\python38\\lib\\site-packages\\sklearn\\utils\\validation.py:1858: FutureWarning: Feature names only support names that are all strings. Got feature names with dtypes: ['int', 'str']. An error will be raised in 1.2.\n",
      "  warnings.warn(\n",
      "c:\\users\\mauro.cespedesaraya\\appdata\\local\\programs\\python\\python38\\lib\\site-packages\\sklearn\\utils\\validation.py:1858: FutureWarning: Feature names only support names that are all strings. Got feature names with dtypes: ['int', 'str']. An error will be raised in 1.2.\n",
      "  warnings.warn(\n"
     ]
    },
    {
     "data": {
      "text/plain": [
       "array([[4.       , 3.6000001, 1.4666667, 1.6666666],\n",
       "       [5.2000003, 2.9666665, 4.633333 , 2.       ]], dtype=float32)"
      ]
     },
     "execution_count": 55,
     "metadata": {},
     "output_type": "execute_result"
    }
   ],
   "source": [
    "#Defino el algoritmo a utilizar\n",
    "#from sklearn.neighbors import KNeighborsClassifier\n",
    "#algoritmo = KNeighborsClassifier(n_neighbors = 3, metric = 'minkowski', p = 2, weights='uniform').fit(X_train,y_train)\n",
    "#y_pred = algoritmo.predict(X_test)\n",
    "from sklearn.neighbors import KNeighborsRegressor\n",
    "\n",
    "algoritmo = KNeighborsRegressor(n_neighbors=3)\n",
    "algoritmo.fit(X_train, y_train)\n",
    "\n",
    "# Creo que el error lo encuentro aqui , pero aun no lo veo.\n",
    "y_pred = algoritmo.predict(X_test)\n",
    "\n",
    "y_pred"
   ]
  },
  {
   "cell_type": "code",
   "execution_count": null,
   "id": "c4cc9d4c",
   "metadata": {},
   "outputs": [],
   "source": []
  }
 ],
 "metadata": {
  "kernelspec": {
   "display_name": "Python 3 (ipykernel)",
   "language": "python",
   "name": "python3"
  },
  "language_info": {
   "codemirror_mode": {
    "name": "ipython",
    "version": 3
   },
   "file_extension": ".py",
   "mimetype": "text/x-python",
   "name": "python",
   "nbconvert_exporter": "python",
   "pygments_lexer": "ipython3",
   "version": "3.8.5"
  }
 },
 "nbformat": 4,
 "nbformat_minor": 5
}
